{
 "cells": [
  {
   "cell_type": "markdown",
   "metadata": {},
   "source": [
    "steps:\n",
    "\n",
    "model specific:\n",
    "1. data formatting\n",
    "    - midi files split by instrument and into two bar segments\n",
    "2. model encoder\n",
    "3. encode the plagiarism data set\n",
    "\n",
    "after this, for each song in the data set, we should have a list of vectors representing the song.\n",
    "then we can move on to the next steps:\n",
    "\n",
    "3. \n",
    "\n"
   ]
  },
  {
   "cell_type": "markdown",
   "metadata": {},
   "source": [
    "at this current point:\n",
    "- change encoder so that it can be called on a midi file/folder \n",
    "- add functionality to the midi_processor so that it splits up a midi file by instrument (store in corresponding folder)\n",
    "- then rework the encoder so that we extract melodies from individual insturments\n",
    "- this should solve the multiple melodies problem\n",
    "- solve the single melody problem by raising exception."
   ]
  },
  {
   "cell_type": "markdown",
   "metadata": {},
   "source": [
    "in the scripts:\n",
    "- add the songs script"
   ]
  },
  {
   "cell_type": "markdown",
   "metadata": {},
   "source": [
    "6/8\n",
    "\n",
    "run the songs script anf fix the table from musicbrainz"
   ]
  },
  {
   "cell_type": "markdown",
   "metadata": {},
   "source": [
    "7/8\n",
    "check over which cases are correct matches\n",
    "for the ones that arent, correct them\n",
    "\n",
    "figure out how to macth the musicbrainz id with MSD, then match that with the MSD proper ID (7digital? use the bs in https://nbviewer.org/github/craffel/midi-dataset/blob/master/Tutorial.ipynb), then use the json file to identify the midi. \n",
    "have also got a text file of all the songs in the msd - could match names with this to get the MSD proper id? and which then lets us use the json file."
   ]
  }
 ],
 "metadata": {
  "language_info": {
   "name": "python"
  }
 },
 "nbformat": 4,
 "nbformat_minor": 2
}
