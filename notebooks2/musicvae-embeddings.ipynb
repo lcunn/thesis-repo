{
 "cells": [
  {
   "cell_type": "code",
   "execution_count": 1,
   "metadata": {},
   "outputs": [
    {
     "name": "stderr",
     "output_type": "stream",
     "text": [
      "c:\\Users\\cunn2\\miniconda3\\envs\\magenta\\lib\\site-packages\\librosa\\util\\decorators.py:9: NumbaDeprecationWarning: \u001b[1mAn import was requested from a module that has moved location.\n",
      "Import requested from: 'numba.decorators', please update to use 'numba.core.decorators' or pin to Numba version 0.48.0. This alias will not be present in Numba version 0.50.0.\u001b[0m\n",
      "  from numba.decorators import jit as optional_jit\n",
      "c:\\Users\\cunn2\\miniconda3\\envs\\magenta\\lib\\site-packages\\librosa\\util\\decorators.py:9: NumbaDeprecationWarning: \u001b[1mAn import was requested from a module that has moved location.\n",
      "Import of 'jit' requested from: 'numba.decorators', please update to use 'numba.core.decorators' or pin to Numba version 0.48.0. This alias will not be present in Numba version 0.50.0.\u001b[0m\n",
      "  from numba.decorators import jit as optional_jit\n",
      "c:\\Users\\cunn2\\miniconda3\\envs\\magenta\\lib\\site-packages\\pydub\\utils.py:170: RuntimeWarning: Couldn't find ffmpeg or avconv - defaulting to ffmpeg, but may not work\n",
      "  warn(\"Couldn't find ffmpeg or avconv - defaulting to ffmpeg, but may not work\", RuntimeWarning)\n",
      "c:\\Users\\cunn2\\miniconda3\\envs\\magenta\\lib\\site-packages\\tqdm\\auto.py:21: TqdmWarning: IProgress not found. Please update jupyter and ipywidgets. See https://ipywidgets.readthedocs.io/en/stable/user_install.html\n",
      "  from .autonotebook import tqdm as notebook_tqdm\n"
     ]
    },
    {
     "name": "stdout",
     "output_type": "stream",
     "text": [
      "WARNING:tensorflow:From c:\\Users\\cunn2\\miniconda3\\envs\\magenta\\lib\\site-packages\\tensorflow\\python\\compat\\v2_compat.py:107: disable_resource_variables (from tensorflow.python.ops.variable_scope) is deprecated and will be removed in a future version.\n",
      "Instructions for updating:\n",
      "non-resource variables are not supported in the long term\n"
     ]
    }
   ],
   "source": [
    "import sqlite3\n",
    "import pandas as pd\n",
    "import os\n",
    "from mido import MidiFile\n",
    "from midi_player import MIDIPlayer\n",
    "from midi_player.stylers import basic, cifka_advanced\n",
    "# import musicbrainzngs\n",
    "\n",
    "os.chdir('../')\n",
    "os.chdir('../')\n",
    "\n",
    "from plagdet.src.defaults import *\n",
    "\n",
    "import magenta.music as mm\n",
    "from note_seq.midi_io import note_sequence_to_midi_file\n",
    "from magenta.models.music_vae import configs\n",
    "from magenta.models.music_vae.trained_model import TrainedModel\n",
    "import numpy as np\n",
    "import os\n",
    "import tensorflow.compat.v1 as tf\n",
    "\n",
    "tf.disable_v2_behavior()\n",
    "\n",
    "# Necessary until pyfluidsynth is updated (>1.2.5).\n",
    "import warnings\n",
    "warnings.filterwarnings(\"ignore\", category=DeprecationWarning)\n",
    "\n",
    "os.environ['TF_CPP_MIN_LOG_LEVEL'] = '3'\n",
    "\n",
    "from plagdet.src.embeddings.music_vae.two_bar_encoder import Mel2barEncoderDefault\n",
    "from plagdet.src.embeddings.music_vae.two_bar_encoder import Mel2barEncoderCustom\n",
    "from logging import getLogger\n",
    "import logging\n",
    "\n",
    "logging.basicConfig(level=logging.ERROR)\n",
    "logger = getLogger(__name__)"
   ]
  },
  {
   "cell_type": "code",
   "execution_count": 2,
   "metadata": {},
   "outputs": [
    {
     "name": "stdout",
     "output_type": "stream",
     "text": [
      "Index(['pair_id', 'midi_modifier_config', 'segment_starting_bar',\n",
      "       'segment_starting_time_secs', 'segment_insertion_starting_bar',\n",
      "       'segment_insertion_starting_time_secs'],\n",
      "      dtype='object')\n",
      "Index(['original_midi_path', 'plagiarised_midi_path'], dtype='object')\n"
     ]
    }
   ],
   "source": [
    "metadata = pd.read_pickle(SYNTHETIC_PAIR_METADATA_PATH)\n",
    "tracker = pd.read_csv(SYNTHETIC_PAIR_TRACKER_PATH, index_col='pair_id')\n",
    "\n",
    "print(metadata.columns)\n",
    "print(tracker.columns)"
   ]
  },
  {
   "cell_type": "code",
   "execution_count": 3,
   "metadata": {},
   "outputs": [
    {
     "name": "stdout",
     "output_type": "stream",
     "text": [
      "pair_id: 10\n",
      "midi_modifier_config: MidiModifierConfig(use_shift_entire_midi_pitch=True, entire_shift_semitone=12, use_shift_selected_notes_pitch=True, selected_notes_pitch_shifts=[((17, 19), -2), ((9, 10), 0)], use_change_note_durations=True, note_scale_factors=[((4, 7), 2.5623164478556983)], use_delete_notes=True, notes_to_delete=[(2, 5)])\n",
      "segment_starting_bar: 79\n",
      "segment_starting_time_secs: 158.0\n",
      "segment_insertion_starting_bar: 10\n",
      "segment_insertion_starting_time_secs: 20.0\n"
     ]
    }
   ],
   "source": [
    "pair_id = 10\n",
    "\n",
    "original_path = tracker.loc[pair_id, 'original_midi_path']\n",
    "plagiarised_path = tracker.loc[pair_id, 'plagiarised_midi_path']\n",
    "\n",
    "original_midi = MidiFile(original_path)\n",
    "plagiarised_midi = MidiFile(plagiarised_path)\n",
    "\n",
    "metadata_row = metadata.loc[pair_id]\n",
    "\n",
    "for key, value in metadata_row.items():\n",
    "    print(f'{key}: {value}')"
   ]
  },
  {
   "cell_type": "code",
   "execution_count": 4,
   "metadata": {},
   "outputs": [
    {
     "data": {
      "text/html": [
       "<iframe srcdoc=\"&lt;script src=&quot;https://cdn.jsdelivr.net/combine/npm/tone@14.7.58,npm/@magenta/music@1.23.1/es6/core.js,npm/focus-visible@5,npm/html-midi-player@1.5.0&quot;&gt;&lt;/script&gt;\n",
       "&lt;style&gt;\n",
       "/* Custom player style */\n",
       "#section546 midi-player {\n",
       "  display: block;\n",
       "  width: inherit;\n",
       "  margin: 4px;\n",
       "  margin-bottom: 0;\n",
       "  font-family: Arial;\n",
       "}\n",
       "p { margin:0 }\n",
       "\n",
       "#section546 midi-player::part(control-panel) {\n",
       "  background: #ff5;\n",
       "  border: 2px solid #000;\n",
       "  border-radius: 10px 10px 0 0;\n",
       "}\n",
       "#section546 midi-player::part(play-button) {\n",
       "  color: #353;\n",
       "  border: 2px solid currentColor;\n",
       "  background-color: #4d4;\n",
       "  border-radius: 20px;\n",
       "  transition: all 0.2s;\n",
       "  content: &#x27;hello&#x27;;\n",
       "}\n",
       "#section546 midi-player::part(play-button):hover {\n",
       "  color: #0a0;\n",
       "  background-color: #5f5;\n",
       "  border-radius: 10px;\n",
       "}\n",
       "#section546 midi-player::part(time) {\n",
       "  font-family: monospace;\n",
       "}\n",
       "\n",
       "/* Custom visualizer style */\n",
       "#section546 midi-visualizer .piano-roll-visualizer {\n",
       "  background: #ffd;\n",
       "  border: 2px solid black;\n",
       "  border-top: none;\n",
       "  border-radius: 0 0 10px 10px;\n",
       "  margin: 4px;\n",
       "  width: inherit;\n",
       "  margin-top: 0;\n",
       "  overflow: auto;\n",
       "}\n",
       "#section546 midi-visualizer svg rect.note {\n",
       "  opacity: 0.6;\n",
       "  stroke-width: 2;\n",
       "}\n",
       "#section546 midi-visualizer svg rect.note[data-instrument=&quot;0&quot;]{\n",
       "  fill: #e22;\n",
       "  stroke: #500;\n",
       "}\n",
       "#section546 midi-visualizer svg rect.note[data-instrument=&quot;2&quot;]{\n",
       "  fill: #2ee;\n",
       "  stroke: #055;\n",
       "}\n",
       "#section546 midi-visualizer svg rect.note[data-is-drum=&quot;true&quot;]{\n",
       "  fill: #888;\n",
       "  stroke: #888;\n",
       "}\n",
       "#section546 midi-visualizer svg rect.note.active {\n",
       "  opacity: 0.9;\n",
       "  stroke: #000;\n",
       "  stroke-width: 3;\n",
       "}\n",
       "&lt;/style&gt;\n",
       "\n",
       "          &lt;section id=&quot;section546&quot;&gt;&lt;p style=&quot;text-align:left;font-family:Arial;&quot;&gt;Original&lt;span style=&quot;float:right;&quot;&gt;&lt;a href=&quot;data:audio/midi;base64,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&quot; target=&quot;_blank&quot;&gt;Download MIDI&lt;/a&gt;&lt;br&gt;&lt;/span&gt;&lt;/p&gt;\n",
       "          &lt;midi-player src=data:audio/midi;base64,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 sound-font visualizer=&quot;#section546 midi-visualizer&quot;&gt;&lt;/midi-player&gt;\n",
       "          &lt;midi-visualizer src=data:audio/midi;base64,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 type=piano-roll&gt;&lt;/midi-visualizer&gt;\n",
       "          &lt;/section&gt;\n",
       "          \" width=\"100%\" height=\"500\"\n",
       "            style=\"border:none !important;\"\n",
       "            \"allowfullscreen\" \"webkitallowfullscreen\" \"mozallowfullscreen\">'\n",
       "            </iframe>"
      ],
      "text/plain": [
       "<midi_player.midi_player.MIDIPlayer at 0x17fea8f98b0>"
      ]
     },
     "execution_count": 4,
     "metadata": {},
     "output_type": "execute_result"
    }
   ],
   "source": [
    "MIDIPlayer(original_path, 500, styler=cifka_advanced, title='Original')"
   ]
  },
  {
   "cell_type": "code",
   "execution_count": 5,
   "metadata": {},
   "outputs": [
    {
     "name": "stdout",
     "output_type": "stream",
     "text": [
      "INFO:tensorflow:Building MusicVAE model with BidirectionalLstmEncoder, CategoricalLstmDecoder, and hparams:\n",
      "{'max_seq_len': 32, 'z_size': 512, 'free_bits': 0, 'max_beta': 0.5, 'beta_rate': 0.99999, 'batch_size': 4, 'grad_clip': 1.0, 'clip_mode': 'global_norm', 'grad_norm_clip_to_zero': 10000, 'learning_rate': 0.001, 'decay_rate': 0.9999, 'min_learning_rate': 1e-05, 'conditional': True, 'dec_rnn_size': [2048, 2048, 2048], 'enc_rnn_size': [2048], 'dropout_keep_prob': 1.0, 'sampling_schedule': 'inverse_sigmoid', 'sampling_rate': 1000, 'use_cudnn': False, 'residual_encoder': False, 'residual_decoder': False, 'control_preprocessing_rnn_size': [256]}\n"
     ]
    },
    {
     "name": "stderr",
     "output_type": "stream",
     "text": [
      "INFO:tensorflow:Building MusicVAE model with BidirectionalLstmEncoder, CategoricalLstmDecoder, and hparams:\n",
      "{'max_seq_len': 32, 'z_size': 512, 'free_bits': 0, 'max_beta': 0.5, 'beta_rate': 0.99999, 'batch_size': 4, 'grad_clip': 1.0, 'clip_mode': 'global_norm', 'grad_norm_clip_to_zero': 10000, 'learning_rate': 0.001, 'decay_rate': 0.9999, 'min_learning_rate': 1e-05, 'conditional': True, 'dec_rnn_size': [2048, 2048, 2048], 'enc_rnn_size': [2048], 'dropout_keep_prob': 1.0, 'sampling_schedule': 'inverse_sigmoid', 'sampling_rate': 1000, 'use_cudnn': False, 'residual_encoder': False, 'residual_decoder': False, 'control_preprocessing_rnn_size': [256]}\n"
     ]
    },
    {
     "name": "stdout",
     "output_type": "stream",
     "text": [
      "INFO:tensorflow:\n",
      "Encoder Cells (bidirectional):\n",
      "  units: [2048]\n",
      "\n"
     ]
    },
    {
     "name": "stderr",
     "output_type": "stream",
     "text": [
      "INFO:tensorflow:\n",
      "Encoder Cells (bidirectional):\n",
      "  units: [2048]\n",
      "\n"
     ]
    },
    {
     "name": "stdout",
     "output_type": "stream",
     "text": [
      "WARNING:tensorflow:`tf.nn.rnn_cell.MultiRNNCell` is deprecated. This class is equivalent as `tf.keras.layers.StackedRNNCells`, and will be replaced by that in Tensorflow 2.0.\n"
     ]
    },
    {
     "name": "stderr",
     "output_type": "stream",
     "text": [
      "WARNING:tensorflow:`tf.nn.rnn_cell.MultiRNNCell` is deprecated. This class is equivalent as `tf.keras.layers.StackedRNNCells`, and will be replaced by that in Tensorflow 2.0.\n"
     ]
    },
    {
     "name": "stdout",
     "output_type": "stream",
     "text": [
      "WARNING:tensorflow:`tf.nn.rnn_cell.MultiRNNCell` is deprecated. This class is equivalent as `tf.keras.layers.StackedRNNCells`, and will be replaced by that in Tensorflow 2.0.\n"
     ]
    },
    {
     "name": "stderr",
     "output_type": "stream",
     "text": [
      "WARNING:tensorflow:`tf.nn.rnn_cell.MultiRNNCell` is deprecated. This class is equivalent as `tf.keras.layers.StackedRNNCells`, and will be replaced by that in Tensorflow 2.0.\n"
     ]
    },
    {
     "name": "stdout",
     "output_type": "stream",
     "text": [
      "INFO:tensorflow:\n",
      "Decoder Cells:\n",
      "  units: [2048, 2048, 2048]\n",
      "\n"
     ]
    },
    {
     "name": "stderr",
     "output_type": "stream",
     "text": [
      "INFO:tensorflow:\n",
      "Decoder Cells:\n",
      "  units: [2048, 2048, 2048]\n",
      "\n"
     ]
    },
    {
     "name": "stdout",
     "output_type": "stream",
     "text": [
      "WARNING:tensorflow:Setting non-training sampling schedule from inverse_sigmoid:1000.000000 to constant:1.0.\n"
     ]
    },
    {
     "name": "stderr",
     "output_type": "stream",
     "text": [
      "WARNING:tensorflow:Setting non-training sampling schedule from inverse_sigmoid:1000.000000 to constant:1.0.\n"
     ]
    },
    {
     "name": "stdout",
     "output_type": "stream",
     "text": [
      "WARNING:tensorflow:From c:\\Users\\cunn2\\miniconda3\\envs\\magenta\\lib\\site-packages\\tensorflow\\python\\util\\dispatch.py:1082: to_float (from tensorflow.python.ops.math_ops) is deprecated and will be removed in a future version.\n",
      "Instructions for updating:\n",
      "Use `tf.cast` instead.\n"
     ]
    },
    {
     "name": "stderr",
     "output_type": "stream",
     "text": [
      "WARNING:tensorflow:From c:\\Users\\cunn2\\miniconda3\\envs\\magenta\\lib\\site-packages\\tensorflow\\python\\util\\dispatch.py:1082: to_float (from tensorflow.python.ops.math_ops) is deprecated and will be removed in a future version.\n",
      "Instructions for updating:\n",
      "Use `tf.cast` instead.\n"
     ]
    },
    {
     "name": "stdout",
     "output_type": "stream",
     "text": [
      "WARNING:tensorflow:`tf.nn.rnn_cell.MultiRNNCell` is deprecated. This class is equivalent as `tf.keras.layers.StackedRNNCells`, and will be replaced by that in Tensorflow 2.0.\n"
     ]
    },
    {
     "name": "stderr",
     "output_type": "stream",
     "text": [
      "WARNING:tensorflow:`tf.nn.rnn_cell.MultiRNNCell` is deprecated. This class is equivalent as `tf.keras.layers.StackedRNNCells`, and will be replaced by that in Tensorflow 2.0.\n",
      "c:\\Users\\cunn2\\miniconda3\\envs\\magenta\\lib\\site-packages\\magenta\\models\\music_vae\\lstm_utils.py:94: UserWarning: `tf.layers.dense` is deprecated and will be removed in a future version. Please use `tf.keras.layers.Dense` instead.\n",
      "  tf.layers.dense(\n",
      "c:\\Users\\cunn2\\miniconda3\\envs\\magenta\\lib\\site-packages\\magenta\\contrib\\rnn.py:749: UserWarning: `layer.add_variable` is deprecated and will be removed in a future version. Please use the `layer.add_weight()` method instead.\n",
      "  self._kernel = self.add_variable(\n",
      "c:\\Users\\cunn2\\miniconda3\\envs\\magenta\\lib\\site-packages\\magenta\\contrib\\rnn.py:751: UserWarning: `layer.add_variable` is deprecated and will be removed in a future version. Please use the `layer.add_weight()` method instead.\n",
      "  self._bias = self.add_variable(\n"
     ]
    },
    {
     "name": "stdout",
     "output_type": "stream",
     "text": [
      "WARNING:tensorflow:From c:\\Users\\cunn2\\miniconda3\\envs\\magenta\\lib\\site-packages\\magenta\\contrib\\rnn.py:463: bidirectional_dynamic_rnn (from tensorflow.python.ops.rnn) is deprecated and will be removed in a future version.\n",
      "Instructions for updating:\n",
      "Please use `keras.layers.Bidirectional(keras.layers.RNN(cell))`, which is equivalent to this API\n"
     ]
    },
    {
     "name": "stderr",
     "output_type": "stream",
     "text": [
      "WARNING:tensorflow:From c:\\Users\\cunn2\\miniconda3\\envs\\magenta\\lib\\site-packages\\magenta\\contrib\\rnn.py:463: bidirectional_dynamic_rnn (from tensorflow.python.ops.rnn) is deprecated and will be removed in a future version.\n",
      "Instructions for updating:\n",
      "Please use `keras.layers.Bidirectional(keras.layers.RNN(cell))`, which is equivalent to this API\n"
     ]
    },
    {
     "name": "stdout",
     "output_type": "stream",
     "text": [
      "WARNING:tensorflow:From c:\\Users\\cunn2\\miniconda3\\envs\\magenta\\lib\\site-packages\\tensorflow\\python\\ops\\rnn.py:437: dynamic_rnn (from tensorflow.python.ops.rnn) is deprecated and will be removed in a future version.\n",
      "Instructions for updating:\n",
      "Please use `keras.layers.RNN(cell)`, which is equivalent to this API\n"
     ]
    },
    {
     "name": "stderr",
     "output_type": "stream",
     "text": [
      "WARNING:tensorflow:From c:\\Users\\cunn2\\miniconda3\\envs\\magenta\\lib\\site-packages\\tensorflow\\python\\ops\\rnn.py:437: dynamic_rnn (from tensorflow.python.ops.rnn) is deprecated and will be removed in a future version.\n",
      "Instructions for updating:\n",
      "Please use `keras.layers.RNN(cell)`, which is equivalent to this API\n"
     ]
    },
    {
     "name": "stdout",
     "output_type": "stream",
     "text": [
      "WARNING:tensorflow:From c:\\Users\\cunn2\\miniconda3\\envs\\magenta\\lib\\site-packages\\tensorflow_probability\\python\\distributions\\distribution.py:342: calling MultivariateNormalDiag.__init__ (from tensorflow_probability.python.distributions.mvn_diag) with scale_identity_multiplier is deprecated and will be removed after 2020-01-01.\n",
      "Instructions for updating:\n",
      "`scale_identity_multiplier` is deprecated; please combine it into `scale_diag` directly instead.\n"
     ]
    },
    {
     "name": "stderr",
     "output_type": "stream",
     "text": [
      "c:\\Users\\cunn2\\miniconda3\\envs\\magenta\\lib\\site-packages\\magenta\\models\\music_vae\\base_model.py:195: UserWarning: `tf.layers.dense` is deprecated and will be removed in a future version. Please use `tf.keras.layers.Dense` instead.\n",
      "  mu = tf.layers.dense(\n",
      "c:\\Users\\cunn2\\miniconda3\\envs\\magenta\\lib\\site-packages\\magenta\\models\\music_vae\\base_model.py:200: UserWarning: `tf.layers.dense` is deprecated and will be removed in a future version. Please use `tf.keras.layers.Dense` instead.\n",
      "  sigma = tf.layers.dense(\n",
      "WARNING:tensorflow:From c:\\Users\\cunn2\\miniconda3\\envs\\magenta\\lib\\site-packages\\tensorflow_probability\\python\\distributions\\distribution.py:342: calling MultivariateNormalDiag.__init__ (from tensorflow_probability.python.distributions.mvn_diag) with scale_identity_multiplier is deprecated and will be removed after 2020-01-01.\n",
      "Instructions for updating:\n",
      "`scale_identity_multiplier` is deprecated; please combine it into `scale_diag` directly instead.\n"
     ]
    },
    {
     "name": "stdout",
     "output_type": "stream",
     "text": [
      "INFO:tensorflow:Restoring parameters from plagdet/models/music_vae/2_bar_melody/cat-mel_2bar_big.ckpt\n"
     ]
    },
    {
     "name": "stderr",
     "output_type": "stream",
     "text": [
      "INFO:tensorflow:Restoring parameters from plagdet/models/music_vae/2_bar_melody/cat-mel_2bar_big.ckpt\n"
     ]
    },
    {
     "name": "stdout",
     "output_type": "stream",
     "text": [
      "INFO:tensorflow:Building MusicVAE model with BidirectionalLstmEncoder, CategoricalLstmDecoder, and hparams:\n",
      "{'max_seq_len': 32, 'z_size': 512, 'free_bits': 0, 'max_beta': 0.5, 'beta_rate': 0.99999, 'batch_size': 4, 'grad_clip': 1.0, 'clip_mode': 'global_norm', 'grad_norm_clip_to_zero': 10000, 'learning_rate': 0.001, 'decay_rate': 0.9999, 'min_learning_rate': 1e-05, 'conditional': True, 'dec_rnn_size': [2048, 2048, 2048], 'enc_rnn_size': [2048], 'dropout_keep_prob': 1.0, 'sampling_schedule': 'inverse_sigmoid', 'sampling_rate': 1000, 'use_cudnn': False, 'residual_encoder': False, 'residual_decoder': False, 'control_preprocessing_rnn_size': [256]}\n"
     ]
    },
    {
     "name": "stderr",
     "output_type": "stream",
     "text": [
      "INFO:tensorflow:Building MusicVAE model with BidirectionalLstmEncoder, CategoricalLstmDecoder, and hparams:\n",
      "{'max_seq_len': 32, 'z_size': 512, 'free_bits': 0, 'max_beta': 0.5, 'beta_rate': 0.99999, 'batch_size': 4, 'grad_clip': 1.0, 'clip_mode': 'global_norm', 'grad_norm_clip_to_zero': 10000, 'learning_rate': 0.001, 'decay_rate': 0.9999, 'min_learning_rate': 1e-05, 'conditional': True, 'dec_rnn_size': [2048, 2048, 2048], 'enc_rnn_size': [2048], 'dropout_keep_prob': 1.0, 'sampling_schedule': 'inverse_sigmoid', 'sampling_rate': 1000, 'use_cudnn': False, 'residual_encoder': False, 'residual_decoder': False, 'control_preprocessing_rnn_size': [256]}\n"
     ]
    },
    {
     "name": "stdout",
     "output_type": "stream",
     "text": [
      "INFO:tensorflow:\n",
      "Encoder Cells (bidirectional):\n",
      "  units: [2048]\n",
      "\n"
     ]
    },
    {
     "name": "stderr",
     "output_type": "stream",
     "text": [
      "INFO:tensorflow:\n",
      "Encoder Cells (bidirectional):\n",
      "  units: [2048]\n",
      "\n"
     ]
    },
    {
     "name": "stdout",
     "output_type": "stream",
     "text": [
      "WARNING:tensorflow:`tf.nn.rnn_cell.MultiRNNCell` is deprecated. This class is equivalent as `tf.keras.layers.StackedRNNCells`, and will be replaced by that in Tensorflow 2.0.\n"
     ]
    },
    {
     "name": "stderr",
     "output_type": "stream",
     "text": [
      "WARNING:tensorflow:`tf.nn.rnn_cell.MultiRNNCell` is deprecated. This class is equivalent as `tf.keras.layers.StackedRNNCells`, and will be replaced by that in Tensorflow 2.0.\n"
     ]
    },
    {
     "name": "stdout",
     "output_type": "stream",
     "text": [
      "WARNING:tensorflow:`tf.nn.rnn_cell.MultiRNNCell` is deprecated. This class is equivalent as `tf.keras.layers.StackedRNNCells`, and will be replaced by that in Tensorflow 2.0.\n"
     ]
    },
    {
     "name": "stderr",
     "output_type": "stream",
     "text": [
      "WARNING:tensorflow:`tf.nn.rnn_cell.MultiRNNCell` is deprecated. This class is equivalent as `tf.keras.layers.StackedRNNCells`, and will be replaced by that in Tensorflow 2.0.\n"
     ]
    },
    {
     "name": "stdout",
     "output_type": "stream",
     "text": [
      "INFO:tensorflow:\n",
      "Decoder Cells:\n",
      "  units: [2048, 2048, 2048]\n",
      "\n"
     ]
    },
    {
     "name": "stderr",
     "output_type": "stream",
     "text": [
      "INFO:tensorflow:\n",
      "Decoder Cells:\n",
      "  units: [2048, 2048, 2048]\n",
      "\n"
     ]
    },
    {
     "name": "stdout",
     "output_type": "stream",
     "text": [
      "WARNING:tensorflow:Setting non-training sampling schedule from inverse_sigmoid:1000.000000 to constant:1.0.\n"
     ]
    },
    {
     "name": "stderr",
     "output_type": "stream",
     "text": [
      "WARNING:tensorflow:Setting non-training sampling schedule from inverse_sigmoid:1000.000000 to constant:1.0.\n"
     ]
    },
    {
     "name": "stdout",
     "output_type": "stream",
     "text": [
      "WARNING:tensorflow:`tf.nn.rnn_cell.MultiRNNCell` is deprecated. This class is equivalent as `tf.keras.layers.StackedRNNCells`, and will be replaced by that in Tensorflow 2.0.\n"
     ]
    },
    {
     "name": "stderr",
     "output_type": "stream",
     "text": [
      "WARNING:tensorflow:`tf.nn.rnn_cell.MultiRNNCell` is deprecated. This class is equivalent as `tf.keras.layers.StackedRNNCells`, and will be replaced by that in Tensorflow 2.0.\n"
     ]
    },
    {
     "name": "stdout",
     "output_type": "stream",
     "text": [
      "INFO:tensorflow:Restoring parameters from plagdet/models/music_vae/2_bar_melody/cat-mel_2bar_big.ckpt\n"
     ]
    },
    {
     "name": "stderr",
     "output_type": "stream",
     "text": [
      "INFO:tensorflow:Restoring parameters from plagdet/models/music_vae/2_bar_melody/cat-mel_2bar_big.ckpt\n"
     ]
    }
   ],
   "source": [
    "default_encoder = Mel2barEncoderDefault()\n",
    "custom_encoder = Mel2barEncoderCustom()\n",
    "\n",
    "custom_vectors = custom_encoder.encode_midis([original_path, plagiarised_path])\n",
    "\n",
    "\n"
   ]
  },
  {
   "cell_type": "code",
   "execution_count": 11,
   "metadata": {},
   "outputs": [],
   "source": [
    "import pickle\n",
    "with open('custom_vectors.pkl', 'wb') as f:\n",
    "    pickle.dump(custom_vectors, f, protocol=pickle.HIGHEST_PROTOCOL)\n"
   ]
  },
  {
   "cell_type": "code",
   "execution_count": 8,
   "metadata": {},
   "outputs": [
    {
     "data": {
      "text/plain": [
       "array([-1.85044444e+00,  1.26782447e-01, -1.08765140e-01, -7.25233316e-01,\n",
       "        1.54024208e+00, -1.25118327e+00, -5.89599729e-01,  1.77868977e-02,\n",
       "       -1.28185368e+00, -9.37279463e-01,  2.21427751e+00,  5.05004048e-01,\n",
       "        1.12171859e-01,  1.37708628e+00,  1.19219041e+00, -2.05707431e+00,\n",
       "       -8.59550416e-01,  6.87113941e-01,  8.43988240e-01,  5.72781980e-01,\n",
       "        1.45500529e+00,  8.54727477e-02, -1.18875277e+00,  6.31603241e-01,\n",
       "       -1.77394494e-01, -6.45936430e-01,  7.18122646e-02,  1.36631668e-01,\n",
       "        8.46209079e-02,  5.54160118e-01, -3.00833285e-01,  1.11987007e+00,\n",
       "        1.38089371e+00,  1.65632188e-01, -2.82815903e-01, -7.31595978e-03,\n",
       "        2.55359888e-01, -1.04379380e+00, -8.85328829e-01,  5.05475581e-01,\n",
       "        9.21505332e-01, -7.50865579e-01,  1.01051569e-01, -2.11292696e+00,\n",
       "        1.22397602e+00, -2.20143348e-01, -1.24306309e+00,  7.14563951e-02,\n",
       "        6.24060929e-01,  1.15031183e+00, -2.21902460e-01,  1.18562365e+00,\n",
       "       -7.83231080e-01, -1.00765705e+00, -9.30800736e-01, -1.44040990e+00,\n",
       "       -1.39764559e+00, -1.87850332e+00,  8.82955730e-01, -1.08868313e+00,\n",
       "        1.06493080e+00,  4.30503070e-01,  9.78308201e-01, -5.72164595e-01,\n",
       "       -8.70412946e-01,  3.51987541e-01, -2.70684302e-01,  1.30102301e+00,\n",
       "       -1.52291358e+00,  9.48673189e-01, -8.18011612e-02,  6.02297604e-01,\n",
       "        2.07545813e-02, -1.56047487e+00,  6.09704316e-01, -1.59770823e+00,\n",
       "       -2.84412694e+00, -7.26346910e-01, -2.90800631e-02,  2.84821898e-01,\n",
       "        8.49587262e-01,  7.88536131e-01, -3.03771853e-01,  5.81152588e-02,\n",
       "        2.03331739e-01, -4.11241949e-01,  1.24670708e+00,  9.53394473e-01,\n",
       "       -8.21570754e-01,  1.30348754e+00,  3.06413710e-01,  8.13357651e-01,\n",
       "       -2.83049434e-01, -1.75037730e+00,  2.45989650e-01, -3.79918665e-01,\n",
       "        3.75535667e-01,  5.12519479e-01,  1.98199975e+00, -1.41566432e+00,\n",
       "        3.42940211e-01, -5.12362719e-01, -1.07294011e+00,  1.56309187e-01,\n",
       "       -1.30727232e+00,  1.09650707e+00, -9.25604105e-01, -5.41393310e-02,\n",
       "        3.08260798e+00, -1.08792472e+00,  1.41315863e-01, -3.19991946e-01,\n",
       "        2.41971537e-01,  7.53945231e-01,  1.51823604e+00,  4.72183108e-01,\n",
       "        2.05074474e-01, -3.76521528e-01,  1.53708172e+00,  3.21544558e-01,\n",
       "       -7.72175968e-01,  1.05768824e+00, -1.11995625e+00,  4.06609821e+00,\n",
       "       -1.30767632e+00, -7.21171975e-01, -2.97750592e-01, -8.65142569e-02,\n",
       "       -2.85833240e-01, -2.70092309e-01,  1.03027916e+00, -1.74670845e-01,\n",
       "       -3.65051746e-01, -6.08292222e-01,  1.48826385e+00, -2.67218471e-01,\n",
       "       -1.06616116e+00,  3.84693861e-01,  1.58863592e+00,  1.24839902e-01,\n",
       "        3.47353220e-01, -6.25599802e-01,  1.60553193e+00,  3.09988081e-01,\n",
       "        2.46117115e-02, -1.24305904e+00, -9.59690213e-02, -4.63262796e-02,\n",
       "        7.00548947e-01, -1.02389717e+00,  2.62825751e+00, -6.61229968e-01,\n",
       "        9.61947441e-01, -2.06474707e-01, -7.49861896e-02, -7.99745619e-01,\n",
       "        1.32052195e+00,  1.66484416e-01,  6.33361340e-01,  4.78341043e-01,\n",
       "        2.29091942e-01, -1.15649486e+00,  5.79908967e-01, -1.16839194e+00,\n",
       "       -1.71583831e+00, -1.03352070e+00, -5.20814240e-01,  3.81487250e-01,\n",
       "        1.07066453e+00, -9.26935554e-01, -4.00328577e-01,  1.23999286e+00,\n",
       "        2.76691794e-01, -7.52226412e-01, -8.36752713e-01, -4.92428869e-01,\n",
       "        7.94086307e-02,  1.28284585e+00, -1.94761246e-01,  6.58567369e-01,\n",
       "       -4.55498219e-01,  1.29838422e-01, -9.51195478e-01,  4.95886564e-01,\n",
       "        1.59217864e-02, -4.67494190e-01, -8.10255051e-01, -1.30952334e+00,\n",
       "       -1.30200505e+00, -4.61570233e-01,  1.73027182e+00,  1.03422141e+00,\n",
       "        2.99374640e-01,  9.85025406e-01,  1.35578617e-01,  1.95186818e+00,\n",
       "       -5.43638825e-01, -6.16656601e-01, -1.88506946e-01, -8.04584265e-01,\n",
       "        4.46064770e-01,  5.05331814e-01, -4.23122048e-01, -8.50190461e-01,\n",
       "       -5.08805290e-02, -1.02681601e+00,  6.76042795e-01,  2.89769500e-01,\n",
       "       -9.57798243e-01, -1.30715954e+00, -1.33406270e+00,  9.99565899e-01,\n",
       "        1.05848618e-01, -2.50874102e-01, -1.50003767e+00,  5.00545800e-01,\n",
       "       -9.94763300e-02,  4.36530650e-01,  1.53478217e+00,  7.78327882e-01,\n",
       "        2.06736374e+00, -1.53457940e+00, -9.01827693e-01,  2.59473592e-01,\n",
       "        9.56096888e-01, -7.48230577e-01,  4.60231602e-01,  1.70763150e-01,\n",
       "       -1.10589898e+00,  5.93961835e-01,  1.15584183e+00, -7.03999996e-01,\n",
       "       -8.10397923e-01, -5.05964756e-01, -1.86508501e+00, -1.23056245e+00,\n",
       "        6.81318521e-01, -5.54401577e-02, -4.81079489e-01, -3.35379362e-01,\n",
       "        1.47573781e+00, -1.66109681e+00,  2.84554094e-01,  1.80214596e+00,\n",
       "        3.37871075e-01, -6.17912054e-01,  1.65890229e+00, -9.63293612e-02,\n",
       "        3.02515447e-01,  3.86606574e-01, -1.83331370e+00, -1.27853298e+00,\n",
       "       -1.04143381e+00, -4.82241809e-01,  6.05804265e-01, -3.97821106e-02,\n",
       "        1.04781210e+00,  2.42816997e+00, -5.01256645e-01, -6.56819284e-01,\n",
       "        4.64939803e-01,  2.52365804e+00,  1.42444706e+00, -1.49264026e+00,\n",
       "        4.39326048e-01,  1.23311758e-01,  3.92115593e-01, -6.55502498e-01,\n",
       "       -2.05005980e+00, -7.18429625e-01,  1.43291473e+00, -6.79150283e-01,\n",
       "       -1.13070440e+00,  9.09505785e-01, -1.61866534e+00, -2.51015782e-01,\n",
       "       -1.16715181e+00, -1.58397079e+00, -1.03160083e-01,  9.89137650e-01,\n",
       "        3.56805623e-02, -2.20787212e-01, -1.35672343e+00, -8.36043239e-01,\n",
       "        9.05627847e-01, -6.79153621e-01,  1.34243643e+00,  1.42953306e-01,\n",
       "        9.79880214e-01,  8.82126093e-01, -2.44806539e-02, -2.09585261e+00,\n",
       "       -9.98085499e-01,  6.49571657e-01, -6.98809475e-02,  2.17237979e-01,\n",
       "        1.44996434e-01,  4.73626852e-02,  1.37155819e+00,  1.27821386e-01,\n",
       "        6.70824647e-02,  3.49819928e-01, -3.92281264e-03, -1.02904983e-01,\n",
       "       -6.99846983e-01, -1.22626972e+00,  3.45067620e-01,  1.37389851e+00,\n",
       "        4.68642116e-01,  1.08650637e+00, -5.17306089e-01, -9.28166568e-01,\n",
       "       -2.22425997e-01, -1.19039679e+00,  4.17559505e-01,  3.90399873e-01,\n",
       "        8.08562160e-01, -1.39440703e+00, -8.47663760e-01,  7.55649507e-01,\n",
       "        7.88748205e-01, -2.18765914e-01,  1.67847788e+00,  5.14272630e-01,\n",
       "        9.81090426e-01,  4.76583868e-01,  7.81894684e-01,  1.12200940e+00,\n",
       "       -1.29110336e+00, -1.02096915e+00,  6.84327006e-01,  4.11430538e-01,\n",
       "        1.50788620e-01, -5.69898784e-01,  1.18601561e+00,  7.19539165e-01,\n",
       "        3.19689631e-01,  1.64449179e+00, -8.37660074e-01,  1.55135143e+00,\n",
       "       -1.81465316e+00,  1.90990627e+00,  5.54399431e-01, -8.30169499e-01,\n",
       "       -4.83059913e-01, -1.92976892e+00,  1.17137849e+00,  3.57429773e-01,\n",
       "       -3.65437388e-01,  2.25135565e-01, -1.83813542e-01,  4.81866986e-01,\n",
       "        2.90104568e-01, -1.47202954e-01, -2.71740049e-01, -1.76902878e+00,\n",
       "        2.13973355e+00, -9.43322837e-01,  3.65131885e-01,  2.29138024e-02,\n",
       "       -9.39666867e-01, -1.27094364e+00,  1.60701454e+00,  1.47887456e+00,\n",
       "       -6.59732878e-01, -1.14742088e+00, -3.56278628e-01,  8.00907254e-01,\n",
       "       -1.95009604e-01,  2.33809376e+00, -8.40759039e-01,  1.97257251e-01,\n",
       "        8.99271369e-01,  7.09108263e-02,  3.46455127e-01, -5.90253294e-01,\n",
       "       -7.26279914e-01, -1.29295206e+00, -7.74398685e-01, -1.16747215e-01,\n",
       "        6.95027590e-01,  1.15188444e+00,  1.79848719e+00,  4.63610977e-01,\n",
       "       -7.49371588e-01, -1.81562200e-01,  1.79672599e+00,  9.89165068e-01,\n",
       "        3.31781358e-01, -1.37463593e+00, -5.93588710e-01, -2.59517998e-01,\n",
       "        2.03623593e-01, -1.86581671e-01, -3.53959262e-01, -7.77423263e-01,\n",
       "       -1.87913656e+00, -1.05233204e+00, -1.29941154e+00, -8.06297421e-01,\n",
       "        1.73826247e-01,  5.75563490e-01, -1.47166193e-01, -2.46734008e-01,\n",
       "       -5.85548580e-01,  1.36734939e+00, -7.63551831e-01, -1.22688222e+00,\n",
       "       -6.57411635e-01, -2.29557365e-01,  4.78786528e-01, -1.80429265e-01,\n",
       "        2.08601326e-01,  3.78072917e-01,  2.41192043e-01,  1.09147584e+00,\n",
       "       -7.00640678e-01, -1.12592649e+00, -3.95102948e-01, -5.68849027e-01,\n",
       "        5.61069191e-01, -3.77922565e-01, -4.91187274e-01,  1.40573907e+00,\n",
       "        8.86724651e-01, -1.16286528e+00, -2.01488090e+00, -1.23800862e+00,\n",
       "        2.93837905e-01,  1.44809115e+00, -1.02606797e+00, -1.75353706e-01,\n",
       "       -9.43674743e-01,  3.96741807e-01, -5.70461452e-01, -2.67087996e-01,\n",
       "        8.68570149e-01,  8.34171250e-02, -2.10646510e-01,  8.18116903e-01,\n",
       "       -1.12323010e+00,  6.13008857e-01, -1.22370696e+00, -1.36751294e+00,\n",
       "        4.67721492e-01, -3.82007897e-01,  1.68223366e-01,  6.59906447e-01,\n",
       "        2.30469063e-01,  9.20454323e-01, -1.26685667e+00, -6.87903225e-01,\n",
       "        4.60176706e-01, -4.64893699e-01, -1.25271365e-01, -1.93284416e+00,\n",
       "        2.77594626e-01, -1.90784752e-01, -5.10928482e-02,  7.84359038e-01,\n",
       "       -1.17634857e+00, -3.53471518e-01,  1.08286095e+00, -4.83950526e-02,\n",
       "       -1.56694317e+00,  9.37993407e-01,  1.70842099e+00, -3.90252322e-02,\n",
       "        1.81660748e+00, -9.21766758e-02, -3.93466979e-01,  5.23254633e-01,\n",
       "       -7.16754317e-01, -6.08601689e-01, -1.73570240e+00, -1.32811165e+00,\n",
       "       -5.42092264e-01, -3.09060216e-01,  6.64232016e-01, -4.90459561e-01,\n",
       "        1.95198548e+00,  1.39879501e+00,  1.50392747e+00,  1.34466827e+00,\n",
       "        7.53913641e-01, -1.44093037e+00, -1.01601613e+00,  2.88853049e-02,\n",
       "        6.61820233e-01, -1.00178850e+00, -3.13752055e-01,  3.69621813e-02,\n",
       "        1.56906796e+00,  6.04779482e-01, -1.76759720e-01,  3.31430286e-01,\n",
       "        1.63859814e-01,  1.69242334e+00,  6.26555234e-02, -5.95131755e-01,\n",
       "       -1.34960043e+00, -1.25586438e+00,  1.99149251e+00,  3.99873197e-01,\n",
       "       -4.91693825e-01, -1.29093289e-01, -1.23132896e+00,  1.55782855e+00,\n",
       "       -5.88385701e-01,  1.00670326e+00, -6.88094735e-01,  1.13809240e+00],\n",
       "      dtype=float32)"
      ]
     },
     "execution_count": 8,
     "metadata": {},
     "output_type": "execute_result"
    }
   ],
   "source": [
    "dict = custom_vectors['plagdet/data/synthetic_dataset/pairs/original\\original_10.mid']\n",
    "\n",
    "dict['1']\n"
   ]
  },
  {
   "cell_type": "code",
   "execution_count": 7,
   "metadata": {},
   "outputs": [
    {
     "ename": "ModuleNotFoundError",
     "evalue": "No module named 'chromadb'",
     "output_type": "error",
     "traceback": [
      "\u001b[1;31m---------------------------------------------------------------------------\u001b[0m",
      "\u001b[1;31mModuleNotFoundError\u001b[0m                       Traceback (most recent call last)",
      "Cell \u001b[1;32mIn[7], line 1\u001b[0m\n\u001b[1;32m----> 1\u001b[0m \u001b[38;5;28;01mimport\u001b[39;00m \u001b[38;5;21;01mchromadb\u001b[39;00m\n\u001b[0;32m      3\u001b[0m client \u001b[38;5;241m=\u001b[39m chromadb\u001b[38;5;241m.\u001b[39mClient()\n\u001b[0;32m      5\u001b[0m collection \u001b[38;5;241m=\u001b[39m client\u001b[38;5;241m.\u001b[39mcreate_collection(MUSIC_VAE_DB)\n",
      "\u001b[1;31mModuleNotFoundError\u001b[0m: No module named 'chromadb'"
     ]
    }
   ],
   "source": [
    "import chromadb\n",
    "\n",
    "client = chromadb.Client()\n",
    "\n",
    "collection = client.create_collection(MUSIC_VAE_DB)\n",
    "\n",
    "collection.add(\n",
    "    ids=[str(pair_id)],\n",
    "    embeddings=[custom_vectors['plagdet/data/synthetic_dataset/pairs/original\\\\original_10.mid'][0][0]],\n",
    ")\n"
   ]
  }
 ],
 "metadata": {
  "kernelspec": {
   "display_name": "magenta",
   "language": "python",
   "name": "python3"
  },
  "language_info": {
   "codemirror_mode": {
    "name": "ipython",
    "version": 3
   },
   "file_extension": ".py",
   "mimetype": "text/x-python",
   "name": "python",
   "nbconvert_exporter": "python",
   "pygments_lexer": "ipython3",
   "version": "3.8.19"
  }
 },
 "nbformat": 4,
 "nbformat_minor": 2
}
