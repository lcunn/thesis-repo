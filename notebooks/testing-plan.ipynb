{
 "cells": [
  {
   "cell_type": "markdown",
   "metadata": {},
   "source": [
    "steps:\n",
    "\n",
    "model specific:\n",
    "1. data formatting\n",
    "    - midi files split by instrument and into two bar segments\n",
    "2. model encoder\n",
    "3. encode the plagiarism data set\n",
    "\n",
    "after this, for each song in the data set, we should have a list of vectors representing the song.\n",
    "then we can move on to the next steps:\n",
    "\n",
    "3. \n",
    "\n"
   ]
  },
  {
   "cell_type": "markdown",
   "metadata": {},
   "source": [
    "at this current point:\n",
    "- change encoder so that it can be called on a midi file/folder \n",
    "- add functionality to the midi_processor so that it splits up a midi file by instrument (store in corresponding folder)\n",
    "- then rework the encoder so that we extract melodies from individual insturments\n",
    "- this should solve the multiple melodies problem\n",
    "- solve the single melody problem by raising exception."
   ]
  },
  {
   "cell_type": "code",
   "execution_count": null,
   "metadata": {},
   "outputs": [],
   "source": []
  }
 ],
 "metadata": {
  "language_info": {
   "name": "python"
  }
 },
 "nbformat": 4,
 "nbformat_minor": 2
}
