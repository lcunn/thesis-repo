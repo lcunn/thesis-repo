{
 "cells": [
  {
   "cell_type": "code",
   "execution_count": 1,
   "metadata": {},
   "outputs": [
    {
     "name": "stderr",
     "output_type": "stream",
     "text": [
      "c:\\Users\\cunn2\\OneDrive\\DSML\\Project\\thesis-repo\\sms\\exp1\\data\\dataloader.py:49: FutureWarning: You are using `torch.load` with `weights_only=False` (the current default value), which uses the default pickle module implicitly. It is possible to construct malicious pickle data which will execute arbitrary code during unpickling (See https://github.com/pytorch/pytorch/blob/main/SECURITY.md#untrusted-models for more details). In a future release, the default value for `weights_only` will be flipped to `True`. This limits the functions that could be executed during unpickling. Arbitrary objects will no longer be allowed to be loaded via this mode unless they are explicitly allowlisted by the user via `torch.serialization.add_safe_globals`. We recommend you start setting `weights_only=True` for any use case where you don't have full control of the loaded file. Please open an issue on GitHub for any issues related to this experimental feature.\n",
      "  data = torch.load(data_path)\n"
     ]
    }
   ],
   "source": [
    "import torch\n",
    "import os\n",
    "import logging\n",
    "\n",
    "os.chdir(\"c:/Users/cunn2/OneDrive/DSML/Project/thesis-repo\")\n",
    "\n",
    "from sms.exp1.run_training import main\n",
    "from sms.exp1.config_classes import load_config_from_launchplan\n",
    "from sms.exp1.run_training import build_encoder, build_projector\n",
    "from sms.exp1.models.siamese import SiameseModel\n",
    "from sms.src.log import configure_logging\n",
    "\n",
    "configure_logging()\n",
    "\n",
    "lp_path = r\"C:/Users/cunn2/OneDrive/DSML/Project/thesis-repo/sms/exp1/launchplans/test.yaml\"\n",
    "run_folder = r\"C:/Users/cunn2/OneDrive/DSML/Project/thesis-repo/sms/exp1/runs/pt_ft_test\"\n",
    "\n",
    "main(lp_path=lp_path, mode=\"both\", run_folder=run_folder)"
   ]
  },
  {
   "cell_type": "code",
   "execution_count": 5,
   "metadata": {},
   "outputs": [
    {
     "name": "stderr",
     "output_type": "stream",
     "text": [
      "C:\\Users\\cunn2\\AppData\\Local\\Temp\\ipykernel_242676\\1256016650.py:23: FutureWarning: You are using `torch.load` with `weights_only=False` (the current default value), which uses the default pickle module implicitly. It is possible to construct malicious pickle data which will execute arbitrary code during unpickling (See https://github.com/pytorch/pytorch/blob/main/SECURITY.md#untrusted-models for more details). In a future release, the default value for `weights_only` will be flipped to `True`. This limits the functions that could be executed during unpickling. Arbitrary objects will no longer be allowed to be loaded via this mode unless they are explicitly allowlisted by the user via `torch.serialization.add_safe_globals`. We recommend you start setting `weights_only=True` for any use case where you don't have full control of the loaded file. Please open an issue on GitHub for any issues related to this experimental feature.\n",
      "  model.load_state_dict(torch.load(r\"C:\\Users\\cunn2\\OneDrive\\DSML\\Project\\thesis-repo\\sms\\exp1\\runs\\pt_ft_test_1\\pretrain_saved_model.pth\"))\n",
      "C:\\Users\\cunn2\\AppData\\Local\\Temp\\ipykernel_242676\\1256016650.py:25: FutureWarning: You are using `torch.load` with `weights_only=False` (the current default value), which uses the default pickle module implicitly. It is possible to construct malicious pickle data which will execute arbitrary code during unpickling (See https://github.com/pytorch/pytorch/blob/main/SECURITY.md#untrusted-models for more details). In a future release, the default value for `weights_only` will be flipped to `True`. This limits the functions that could be executed during unpickling. Arbitrary objects will no longer be allowed to be loaded via this mode unless they are explicitly allowlisted by the user via `torch.serialization.add_safe_globals`. We recommend you start setting `weights_only=True` for any use case where you don't have full control of the loaded file. Please open an issue on GitHub for any issues related to this experimental feature.\n",
      "  model2.load_state_dict(torch.load(r\"C:\\Users\\cunn2\\OneDrive\\DSML\\Project\\thesis-repo\\sms\\exp1\\runs\\pt_ft_test_1\\finetune_saved_model.pth\"))\n"
     ]
    },
    {
     "data": {
      "text/plain": [
       "<All keys matched successfully>"
      ]
     },
     "execution_count": 5,
     "metadata": {},
     "output_type": "execute_result"
    }
   ],
   "source": [
    "import os\n",
    "\n",
    "os.chdir(\"c:/Users/cunn2/OneDrive/DSML/Project/thesis-repo\")\n",
    "\n",
    "import torch\n",
    "from sms.exp1.run_training import main\n",
    "from sms.exp1.config_classes import load_config_from_launchplan\n",
    "from sms.exp1.run_training import build_encoder, build_projector\n",
    "from sms.exp1.models.siamese import SiameseModel\n",
    "from sms.src.log import configure_logging\n",
    "\n",
    "lp_path = r\"C:/Users/cunn2/OneDrive/DSML/Project/thesis-repo/sms/exp1/launchplans/test.yaml\"\n",
    "run_folder = r\"C:/Users/cunn2/OneDrive/DSML/Project/thesis-repo/sms/exp1/runs/pt_ft_test\"\n",
    "\n",
    "\n",
    "config = load_config_from_launchplan(lp_path)\n",
    "\n",
    "encoder = build_encoder(config.model_dump())\n",
    "projector = build_projector(config.model_dump())\n",
    "\n",
    "model = SiameseModel(encoder, projector)\n",
    "\n",
    "model.load_state_dict(torch.load(r\"C:\\Users\\cunn2\\OneDrive\\DSML\\Project\\thesis-repo\\sms\\exp1\\runs\\pt_ft_test_1\\pretrain_saved_model.pth\"))\n",
    "model2 = model.get_encoder()\n",
    "model2.load_state_dict(torch.load(r\"C:\\Users\\cunn2\\OneDrive\\DSML\\Project\\thesis-repo\\sms\\exp1\\runs\\pt_ft_test_1\\finetune_saved_model.pth\"))"
   ]
  }
 ],
 "metadata": {
  "kernelspec": {
   "display_name": "sms",
   "language": "python",
   "name": "python3"
  },
  "language_info": {
   "codemirror_mode": {
    "name": "ipython",
    "version": 3
   },
   "file_extension": ".py",
   "mimetype": "text/x-python",
   "name": "python",
   "nbconvert_exporter": "python",
   "pygments_lexer": "ipython3",
   "version": "3.11.9"
  }
 },
 "nbformat": 4,
 "nbformat_minor": 2
}
