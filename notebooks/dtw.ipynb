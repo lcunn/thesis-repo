{
 "cells": [
  {
   "cell_type": "code",
   "execution_count": 6,
   "metadata": {},
   "outputs": [],
   "source": [
    "import sqlite3\n",
    "import pandas as pd\n",
    "import os\n",
    "# import musicbrainzngs\n",
    "\n",
    "os.chdir('../')\n",
    "os.chdir('../')\n",
    "\n",
    "from plagdet.src.defaults import *"
   ]
  },
  {
   "cell_type": "code",
   "execution_count": 4,
   "metadata": {},
   "outputs": [
    {
     "name": "stdout",
     "output_type": "stream",
     "text": [
      "1.4142135623730951\n"
     ]
    }
   ],
   "source": [
    "from dtaidistance import dtw\n",
    "s1 = [0, 0, 1, 2, 1, 0, 1, 0, 0]\n",
    "s2 = [0, 1, 2, 0, 0, 0, 0, 0, 0]\n",
    "distance = dtw.distance(s1, s2)\n",
    "print(distance)"
   ]
  },
  {
   "cell_type": "code",
   "execution_count": 7,
   "metadata": {},
   "outputs": [
    {
     "name": "stdout",
     "output_type": "stream",
     "text": [
      "DTW distance between the two MIDI files: 596.6514895648883\n"
     ]
    }
   ],
   "source": [
    "import numpy as np\n",
    "from music21 import converter, note, chord\n",
    "from dtaidistance import dtw\n",
    "import os\n",
    "from plagdet.src.defaults import COPYRIGHT_MIDI_PATH\n",
    "\n",
    "def extract_pitch_sequence(midi_file):\n",
    "    \"\"\"Extract pitch sequence from a MIDI file.\"\"\"\n",
    "    score = converter.parse(midi_file)\n",
    "    pitches = []\n",
    "    for element in score.recurse():\n",
    "        if isinstance(element, note.Note):\n",
    "            pitches.append(element.pitch.midi)\n",
    "        elif isinstance(element, chord.Chord):\n",
    "            pitches.append(element.root().midi)\n",
    "    return np.array(pitches)\n",
    "\n",
    "def calculate_dtw_distance(midi_file1, midi_file2):\n",
    "    \"\"\"Calculate DTW distance between two MIDI files.\"\"\"\n",
    "    seq1 = extract_pitch_sequence(midi_file1)\n",
    "    seq2 = extract_pitch_sequence(midi_file2)\n",
    "    distance = dtw.distance(seq1, seq2)\n",
    "    return distance\n",
    "\n",
    "# Example usage\n",
    "midi_file1 = os.path.join(COPYRIGHT_MIDI_PATH, '78', 'lakh_clean_Shep_and_the_Limelites_Daddys_Home_1.mid')\n",
    "midi_file2 = os.path.join(COPYRIGHT_MIDI_PATH, '84', 'lakh_clean_The_Supremes_Baby_Love_1.mid')\n",
    "\n",
    "dtw_distance = calculate_dtw_distance(midi_file1, midi_file2)\n",
    "print(f\"DTW distance between the two MIDI files: {dtw_distance}\")\n"
   ]
  }
 ],
 "metadata": {
  "kernelspec": {
   "display_name": "magenta",
   "language": "python",
   "name": "python3"
  },
  "language_info": {
   "codemirror_mode": {
    "name": "ipython",
    "version": 3
   },
   "file_extension": ".py",
   "mimetype": "text/x-python",
   "name": "python",
   "nbconvert_exporter": "python",
   "pygments_lexer": "ipython3",
   "version": "3.8.19"
  }
 },
 "nbformat": 4,
 "nbformat_minor": 2
}
