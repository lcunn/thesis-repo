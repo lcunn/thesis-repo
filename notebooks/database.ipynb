{
 "cells": [
  {
   "cell_type": "code",
   "execution_count": 3,
   "metadata": {},
   "outputs": [],
   "source": [
    "import sqlite3\n",
    "import pandas as pd\n",
    "import os\n",
    "\n",
    "os.chdir('../')"
   ]
  },
  {
   "cell_type": "markdown",
   "metadata": {},
   "source": [
    "### Adding copyright claims table:"
   ]
  },
  {
   "cell_type": "code",
   "execution_count": 1,
   "metadata": {},
   "outputs": [],
   "source": [
    "TABLE_NAME = 'copyright_cases'\n",
    "DATABASE = 'data/music.db'\n",
    "EXCEL_FILE = 'data/thesis-web-data.xlsx'"
   ]
  },
  {
   "cell_type": "code",
   "execution_count": 4,
   "metadata": {},
   "outputs": [
    {
     "name": "stdout",
     "output_type": "stream",
     "text": [
      "Data imported successfully into table 'copyright_cases' with added primary key\n"
     ]
    }
   ],
   "source": [
    "# # Read the Excel file\n",
    "# df = pd.read_excel(EXCEL_FILE, sheet_name=0)  # Read the first sheet\n",
    "\n",
    "# # Connect to SQLite database\n",
    "# conn = sqlite3.connect(DATABASE)\n",
    "# cursor = conn.cursor()\n",
    "\n",
    "# # Get column names from the DataFrame\n",
    "# columns = df.columns.tolist()\n",
    "\n",
    "# # Create the table with a primary key\n",
    "# create_table_query = f'''\n",
    "# CREATE TABLE IF NOT EXISTS {TABLE_NAME} (\n",
    "#     id INTEGER PRIMARY KEY AUTOINCREMENT,\n",
    "#     {', '.join([f'\"{col}\" TEXT' for col in columns])}\n",
    "# )\n",
    "# '''\n",
    "# cursor.execute(create_table_query)\n",
    "\n",
    "# # Prepare the INSERT query\n",
    "# placeholders = ', '.join(['?' for _ in columns])\n",
    "# insert_query = f'''\n",
    "# INSERT INTO {TABLE_NAME} ({', '.join([f'\"{col}\"' for col in columns])})\n",
    "# VALUES ({placeholders})\n",
    "# '''\n",
    "\n",
    "# # Insert the data\n",
    "# cursor.executemany(insert_query, df.values.tolist())\n",
    "\n",
    "# # Commit changes and close connection\n",
    "# conn.commit()\n",
    "# conn.close()\n",
    "\n",
    "# print(f\"Data imported successfully into table '{TABLE_NAME}' with added primary key\")"
   ]
  }
 ],
 "metadata": {
  "kernelspec": {
   "display_name": "magenta",
   "language": "python",
   "name": "python3"
  },
  "language_info": {
   "codemirror_mode": {
    "name": "ipython",
    "version": 3
   },
   "file_extension": ".py",
   "mimetype": "text/x-python",
   "name": "python",
   "nbconvert_exporter": "python",
   "pygments_lexer": "ipython3",
   "version": "3.8.19"
  }
 },
 "nbformat": 4,
 "nbformat_minor": 2
}
