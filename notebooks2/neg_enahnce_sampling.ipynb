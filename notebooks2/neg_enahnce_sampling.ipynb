{
 "cells": [
  {
   "cell_type": "code",
   "execution_count": 1,
   "metadata": {},
   "outputs": [],
   "source": [
    "import os\n",
    "import sys\n",
    "import time\n",
    "import logging\n",
    "import datetime\n",
    "import glob\n",
    "import random\n",
    "import argparse\n",
    "from typing import List, Dict\n",
    "\n",
    "os.chdir(r\"C:\\Users\\cunn2\\OneDrive\\DSML\\Project\\thesis-repo\")\n",
    "\n",
    "import numpy as np\n",
    "import torch\n",
    "from functools import partial\n",
    "from torch.nn.utils.rnn import pad_sequence\n",
    "from torch.utils.data import DataLoader\n",
    "from torch.utils.data import Dataset\n",
    "\n",
    "from sms.exp1.data.formatter import InputFormatter\n",
    "from sms.src.synthetic_data.note_arr_mod import NoteArrayModifier"
   ]
  },
  {
   "cell_type": "code",
   "execution_count": 4,
   "metadata": {},
   "outputs": [
    {
     "name": "stderr",
     "output_type": "stream",
     "text": [
      "C:\\Users\\cunn2\\AppData\\Local\\Temp\\ipykernel_231844\\2244089641.py:1: FutureWarning: You are using `torch.load` with `weights_only=False` (the current default value), which uses the default pickle module implicitly. It is possible to construct malicious pickle data which will execute arbitrary code during unpickling (See https://github.com/pytorch/pytorch/blob/main/SECURITY.md#untrusted-models for more details). In a future release, the default value for `weights_only` will be flipped to `True`. This limits the functions that could be executed during unpickling. Arbitrary objects will no longer be allowed to be loaded via this mode unless they are explicitly allowlisted by the user via `torch.serialization.add_safe_globals`. We recommend you start setting `weights_only=True` for any use case where you don't have full control of the loaded file. Please open an issue on GitHub for any issues related to this experimental feature.\n",
      "  dict1 = torch.load(r\"C:\\Users\\cunn2\\OneDrive\\DSML\\Project\\thesis-repo\\data\\exp1\\mtc_one_bar_segments_nr.pt\")\n",
      "C:\\Users\\cunn2\\AppData\\Local\\Temp\\ipykernel_231844\\2244089641.py:2: FutureWarning: You are using `torch.load` with `weights_only=False` (the current default value), which uses the default pickle module implicitly. It is possible to construct malicious pickle data which will execute arbitrary code during unpickling (See https://github.com/pytorch/pytorch/blob/main/SECURITY.md#untrusted-models for more details). In a future release, the default value for `weights_only` will be flipped to `True`. This limits the functions that could be executed during unpickling. Arbitrary objects will no longer be allowed to be loaded via this mode unless they are explicitly allowlisted by the user via `torch.serialization.add_safe_globals`. We recommend you start setting `weights_only=True` for any use case where you don't have full control of the loaded file. Please open an issue on GitHub for any issues related to this experimental feature.\n",
      "  dict2 = torch.load(r\"C:\\Users\\cunn2\\OneDrive\\DSML\\Project\\thesis-repo\\data\\exp1\\maestro_one_bar_segments_nr.pt\")\n"
     ]
    }
   ],
   "source": [
    "dict1 = torch.load(r\"C:\\Users\\cunn2\\OneDrive\\DSML\\Project\\thesis-repo\\data\\exp1\\mtc_one_bar_segments_nr.pt\")\n",
    "dict2 = torch.load(r\"C:\\Users\\cunn2\\OneDrive\\DSML\\Project\\thesis-repo\\data\\exp1\\maestro_one_bar_segments_nr.pt\")\n",
    "vecs = list(dict1.values()) + list(dict2.values())\n"
   ]
  },
  {
   "cell_type": "code",
   "execution_count": 26,
   "metadata": {},
   "outputs": [
    {
     "data": {
      "text/plain": [
       "array([0.3, 0.8, 1.3, 1.8, 2.3, 2.8, 4. ])"
      ]
     },
     "execution_count": 26,
     "metadata": {},
     "output_type": "execute_result"
    }
   ],
   "source": [
    "v = vecs[0]\n",
    "np.cumsum(v[:, 0])"
   ]
  },
  {
   "cell_type": "code",
   "execution_count": 23,
   "metadata": {},
   "outputs": [
    {
     "name": "stderr",
     "output_type": "stream",
     "text": [
      "[2024-09-24 23:16:33] [INFO ] Shifting note at index 3 by 7 semitones.\n"
     ]
    },
    {
     "name": "stdout",
     "output_type": "stream",
     "text": [
      "4.0\n",
      "4 4\n"
     ]
    },
    {
     "ename": "IndexError",
     "evalue": "index -1 is out of bounds for axis 0 with size 0",
     "output_type": "error",
     "traceback": [
      "\u001b[1;31m---------------------------------------------------------------------------\u001b[0m",
      "\u001b[1;31mIndexError\u001b[0m                                Traceback (most recent call last)",
      "Cell \u001b[1;32mIn[23], line 21\u001b[0m\n\u001b[0;32m     18\u001b[0m \u001b[38;5;28mprint\u001b[39m(np\u001b[38;5;241m.\u001b[39msum(anchor[:, \u001b[38;5;241m0\u001b[39m]))\n\u001b[0;32m     19\u001b[0m \u001b[38;5;28mprint\u001b[39m(\u001b[38;5;28mlen\u001b[39m(anchor), \u001b[38;5;28mlen\u001b[39m(anchor_augmented))\n\u001b[1;32m---> 21\u001b[0m anchor \u001b[38;5;241m=\u001b[39m \u001b[43mformatter\u001b[49m\u001b[43m(\u001b[49m\u001b[43manchor\u001b[49m\u001b[43m)\u001b[49m\n\u001b[0;32m     22\u001b[0m anchor_augmented \u001b[38;5;241m=\u001b[39m formatter(anchor_augmented)\n\u001b[0;32m     24\u001b[0m new_idx \u001b[38;5;241m=\u001b[39m random_idx\n",
      "File \u001b[1;32m~\\OneDrive\\DSML\\Project\\thesis-repo\\sms\\exp1\\data\\formatter.py:49\u001b[0m, in \u001b[0;36mInputFormatter.__call__\u001b[1;34m(self, note_array)\u001b[0m\n\u001b[0;32m     47\u001b[0m     note_array \u001b[38;5;241m=\u001b[39m \u001b[38;5;28mself\u001b[39m\u001b[38;5;241m.\u001b[39mmake_relative_pitch(note_array)\n\u001b[0;32m     48\u001b[0m \u001b[38;5;28;01mif\u001b[39;00m \u001b[38;5;28mself\u001b[39m\u001b[38;5;241m.\u001b[39mconfig_quantize:\n\u001b[1;32m---> 49\u001b[0m     note_array \u001b[38;5;241m=\u001b[39m \u001b[38;5;28;43mself\u001b[39;49m\u001b[38;5;241;43m.\u001b[39;49m\u001b[43mquantize\u001b[49m\u001b[43m(\u001b[49m\u001b[43mnote_array\u001b[49m\u001b[43m)\u001b[49m\n\u001b[0;32m     50\u001b[0m \u001b[38;5;28;01mreturn\u001b[39;00m note_array\n",
      "File \u001b[1;32m~\\OneDrive\\DSML\\Project\\thesis-repo\\sms\\exp1\\data\\formatter.py:94\u001b[0m, in \u001b[0;36mInputFormatter.quantize\u001b[1;34m(self, note_array)\u001b[0m\n\u001b[0;32m     91\u001b[0m note_array \u001b[38;5;241m=\u001b[39m np\u001b[38;5;241m.\u001b[39mcolumn_stack((note_array, cumulative_duration))\n\u001b[0;32m     93\u001b[0m quantized_note_array \u001b[38;5;241m=\u001b[39m [note_array[\u001b[38;5;241m0\u001b[39m, \u001b[38;5;241m1\u001b[39m]]\n\u001b[1;32m---> 94\u001b[0m quantized_note_array\u001b[38;5;241m.\u001b[39mextend(\u001b[43m[\u001b[49m\u001b[43mnote_array\u001b[49m\u001b[43m[\u001b[49m\u001b[43mnote_array\u001b[49m\u001b[43m[\u001b[49m\u001b[43m:\u001b[49m\u001b[43m,\u001b[49m\u001b[43m \u001b[49m\u001b[38;5;241;43m2\u001b[39;49m\u001b[43m]\u001b[49m\u001b[43m \u001b[49m\u001b[38;5;241;43m<\u001b[39;49m\u001b[38;5;241;43m=\u001b[39;49m\u001b[43m \u001b[49m\u001b[43mi\u001b[49m\u001b[38;5;241;43m+\u001b[39;49m\u001b[38;5;241;43m1\u001b[39;49m\u001b[43m]\u001b[49m\u001b[43m[\u001b[49m\u001b[38;5;241;43m-\u001b[39;49m\u001b[38;5;241;43m1\u001b[39;49m\u001b[43m]\u001b[49m\u001b[43m[\u001b[49m\u001b[38;5;241;43m1\u001b[39;49m\u001b[43m]\u001b[49m\u001b[43m \u001b[49m\n\u001b[0;32m     95\u001b[0m \u001b[43m                        \u001b[49m\u001b[38;5;28;43;01mfor\u001b[39;49;00m\u001b[43m \u001b[49m\u001b[43mi\u001b[49m\u001b[43m \u001b[49m\u001b[38;5;129;43;01min\u001b[39;49;00m\u001b[43m \u001b[49m\u001b[38;5;28;43mrange\u001b[39;49m\u001b[43m(\u001b[49m\u001b[43msteps_per_bar\u001b[49m\u001b[43m \u001b[49m\u001b[38;5;241;43m*\u001b[39;49m\u001b[43m \u001b[49m\u001b[38;5;28;43mint\u001b[39;49m\u001b[43m(\u001b[49m\u001b[43mnote_array_bars\u001b[49m\u001b[43m)\u001b[49m\u001b[38;5;241;43m-\u001b[39;49m\u001b[38;5;241;43m1\u001b[39;49m\u001b[43m)\u001b[49m\u001b[43m]\u001b[49m)\n\u001b[0;32m     97\u001b[0m \u001b[38;5;28;01mreturn\u001b[39;00m np\u001b[38;5;241m.\u001b[39marray(quantized_note_array)\n",
      "File \u001b[1;32m~\\OneDrive\\DSML\\Project\\thesis-repo\\sms\\exp1\\data\\formatter.py:94\u001b[0m, in \u001b[0;36m<listcomp>\u001b[1;34m(.0)\u001b[0m\n\u001b[0;32m     91\u001b[0m note_array \u001b[38;5;241m=\u001b[39m np\u001b[38;5;241m.\u001b[39mcolumn_stack((note_array, cumulative_duration))\n\u001b[0;32m     93\u001b[0m quantized_note_array \u001b[38;5;241m=\u001b[39m [note_array[\u001b[38;5;241m0\u001b[39m, \u001b[38;5;241m1\u001b[39m]]\n\u001b[1;32m---> 94\u001b[0m quantized_note_array\u001b[38;5;241m.\u001b[39mextend([\u001b[43mnote_array\u001b[49m\u001b[43m[\u001b[49m\u001b[43mnote_array\u001b[49m\u001b[43m[\u001b[49m\u001b[43m:\u001b[49m\u001b[43m,\u001b[49m\u001b[43m \u001b[49m\u001b[38;5;241;43m2\u001b[39;49m\u001b[43m]\u001b[49m\u001b[43m \u001b[49m\u001b[38;5;241;43m<\u001b[39;49m\u001b[38;5;241;43m=\u001b[39;49m\u001b[43m \u001b[49m\u001b[43mi\u001b[49m\u001b[38;5;241;43m+\u001b[39;49m\u001b[38;5;241;43m1\u001b[39;49m\u001b[43m]\u001b[49m\u001b[43m[\u001b[49m\u001b[38;5;241;43m-\u001b[39;49m\u001b[38;5;241;43m1\u001b[39;49m\u001b[43m]\u001b[49m[\u001b[38;5;241m1\u001b[39m] \n\u001b[0;32m     95\u001b[0m                         \u001b[38;5;28;01mfor\u001b[39;00m i \u001b[38;5;129;01min\u001b[39;00m \u001b[38;5;28mrange\u001b[39m(steps_per_bar \u001b[38;5;241m*\u001b[39m \u001b[38;5;28mint\u001b[39m(note_array_bars)\u001b[38;5;241m-\u001b[39m\u001b[38;5;241m1\u001b[39m)])\n\u001b[0;32m     97\u001b[0m \u001b[38;5;28;01mreturn\u001b[39;00m np\u001b[38;5;241m.\u001b[39marray(quantized_note_array)\n",
      "\u001b[1;31mIndexError\u001b[0m: index -1 is out of bounds for axis 0 with size 0"
     ]
    }
   ],
   "source": [
    "formatter = InputFormatter(make_relative_pitch=False, quantize=True)\n",
    "modifier = NoteArrayModifier()\n",
    "aug_config = {\n",
    "    'use_transposition': False,\n",
    "    'use_shift_selected_notes_pitch': True,\n",
    "    'use_change_note_durations': False,\n",
    "    'use_delete_notes': False,\n",
    "    'use_insert_notes': False\n",
    "}\n",
    "\n",
    "positive_distances = []\n",
    "negative_distances = []\n",
    "\n",
    "for i in range(100):\n",
    "    random_idx = np.random.randint(0, len(vecs))\n",
    "    anchor = vecs[random_idx]\n",
    "    anchor_augmented = modifier(anchor, aug_config)\n",
    "    print(np.sum(anchor[:, 0]))\n",
    "    print(len(anchor), len(anchor_augmented))\n",
    "    \n",
    "    anchor = formatter(anchor)\n",
    "    anchor_augmented = formatter(anchor_augmented)\n",
    "\n",
    "    new_idx = random_idx\n",
    "    while new_idx == random_idx:\n",
    "        new_idx = np.random.randint(0, len(vecs))\n",
    "\n",
    "    negative = vecs[new_idx]\n",
    "    negative = formatter(negative)\n",
    "\n",
    "    positive_distances.append(np.linalg.norm(anchor - anchor_augmented))\n",
    "    negative_distances.append(np.linalg.norm(anchor - negative))\n",
    "\n",
    "print(positive_distances)\n",
    "print(negative_distances)\n",
    "\n",
    "import matplotlib.pyplot as plt\n",
    "\n",
    "plt.figure(figsize=(10, 6))\n",
    "plt.hist(positive_distances, bins=20, alpha=0.5, label='Positive Distances')\n",
    "plt.hist(negative_distances, bins=20, alpha=0.5, label='Negative Distances')\n",
    "plt.xlabel('Distance')\n",
    "plt.ylabel('Frequency')\n",
    "plt.title('Histogram of Positive and Negative Distances')\n",
    "plt.legend()\n",
    "plt.show()\n",
    "\n",
    "print(f\"Average positive distance: {np.mean(positive_distances):.4f}\")\n",
    "print(f\"Average negative distance: {np.mean(negative_distances):.4f}\")\n",
    "\n",
    "\n"
   ]
  }
 ],
 "metadata": {
  "kernelspec": {
   "display_name": "sms",
   "language": "python",
   "name": "python3"
  },
  "language_info": {
   "codemirror_mode": {
    "name": "ipython",
    "version": 3
   },
   "file_extension": ".py",
   "mimetype": "text/x-python",
   "name": "python",
   "nbconvert_exporter": "python",
   "pygments_lexer": "ipython3",
   "version": "3.11.9"
  }
 },
 "nbformat": 4,
 "nbformat_minor": 2
}
