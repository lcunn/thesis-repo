{
 "cells": [
  {
   "cell_type": "code",
   "execution_count": 2,
   "metadata": {},
   "outputs": [],
   "source": [
    "import sqlite3\n",
    "import pandas as pd\n",
    "import os\n",
    "import musicbrainzngs\n",
    "\n",
    "os.chdir('../')\n",
    "\n",
    "from src.defaults import *"
   ]
  },
  {
   "cell_type": "code",
   "execution_count": 6,
   "metadata": {},
   "outputs": [],
   "source": [
    "filepaths = []\n",
    "\n",
    "for root, dirs, files in os.walk(LAKH_CLEAN_PATH):\n",
    "    for file in files:\n",
    "        filepaths.append(os.path.join(root, file))"
   ]
  },
  {
   "cell_type": "code",
   "execution_count": 3,
   "metadata": {},
   "outputs": [],
   "source": [
    "filepaths = [os.path.join(LAKH_CLEAN_PATH, file) for file in os.listdir(LAKH_CLEAN_PATH)]"
   ]
  },
  {
   "cell_type": "code",
   "execution_count": 13,
   "metadata": {},
   "outputs": [
    {
     "data": {
      "text/plain": [
       "song_id\n",
       "558                                                   XO\n",
       "217                                                   XO\n",
       "99                                                    Es\n",
       "440                                                  Hey\n",
       "84                                                   Joy\n",
       "                             ...                        \n",
       "117    When the Red, Red Robin Comes Bob-Bob-Bobbin' ...\n",
       "100    Proposed Theme Music for \"Sally Jesse Raphael ...\n",
       "148    Jingle of German bank: \"Wenn’s ums Geld geht-S...\n",
       "423    I'd Like to Teach the World to Sing (In Perfec...\n",
       "396    Lorelei (Parody Version: Louella Schwartz Desc...\n",
       "Name: gpt_title, Length: 682, dtype: object"
      ]
     },
     "execution_count": 13,
     "metadata": {},
     "output_type": "execute_result"
    }
   ],
   "source": [
    "df['gpt_title'].sort_values(key=lambda x: x.str.len())\n"
   ]
  },
  {
   "cell_type": "code",
   "execution_count": 10,
   "metadata": {},
   "outputs": [
    {
     "data": {
      "text/html": [
       "<div>\n",
       "<style scoped>\n",
       "    .dataframe tbody tr th:only-of-type {\n",
       "        vertical-align: middle;\n",
       "    }\n",
       "\n",
       "    .dataframe tbody tr th {\n",
       "        vertical-align: top;\n",
       "    }\n",
       "\n",
       "    .dataframe thead th {\n",
       "        text-align: right;\n",
       "    }\n",
       "</style>\n",
       "<table border=\"1\" class=\"dataframe\">\n",
       "  <thead>\n",
       "    <tr style=\"text-align: right;\">\n",
       "      <th></th>\n",
       "      <th>case_id</th>\n",
       "      <th>year</th>\n",
       "      <th>case_name</th>\n",
       "      <th>case_artist</th>\n",
       "      <th>case_title</th>\n",
       "      <th>case_role</th>\n",
       "      <th>gpt_artist</th>\n",
       "      <th>gpt_title</th>\n",
       "      <th>gpt_conf</th>\n",
       "      <th>musicbrainz_id</th>\n",
       "      <th>mb_artist</th>\n",
       "      <th>mb_title</th>\n",
       "      <th>case_status</th>\n",
       "      <th>correctness_category</th>\n",
       "      <th>midi_path</th>\n",
       "    </tr>\n",
       "    <tr>\n",
       "      <th>song_id</th>\n",
       "      <th></th>\n",
       "      <th></th>\n",
       "      <th></th>\n",
       "      <th></th>\n",
       "      <th></th>\n",
       "      <th></th>\n",
       "      <th></th>\n",
       "      <th></th>\n",
       "      <th></th>\n",
       "      <th></th>\n",
       "      <th></th>\n",
       "      <th></th>\n",
       "      <th></th>\n",
       "      <th></th>\n",
       "      <th></th>\n",
       "    </tr>\n",
       "  </thead>\n",
       "  <tbody>\n",
       "  </tbody>\n",
       "</table>\n",
       "</div>"
      ],
      "text/plain": [
       "Empty DataFrame\n",
       "Columns: [case_id, year, case_name, case_artist, case_title, case_role, gpt_artist, gpt_title, gpt_conf, musicbrainz_id, mb_artist, mb_title, case_status, correctness_category, midi_path]\n",
       "Index: []"
      ]
     },
     "metadata": {},
     "output_type": "display_data"
    }
   ],
   "source": [
    "df = pd.read_csv(COPYRIGHT_SONGS_ALL_FIELDS, index_col='song_id')\n",
    "\n",
    "display(df[(df['gpt_artist'].isna()) | (df['gpt_title'].isna())])\n"
   ]
  },
  {
   "cell_type": "markdown",
   "metadata": {},
   "source": [
    "finish search_lakh_clean which should compaare the contents of the lakh_clean dataset to the gpt_artist and gpt_title columns of copyright_songs csv. bare in mind that the strcture of them will not be identical so there will be fuzzyness etc. then if there is a match between a row in the copyright songs csv, then we need to check the midi_path column of it. they can either be None or a dictionary, the dictionary has keys which are sources of the data. here, if we find a match, the key in the dictionary will be 'lakh_clean', and the value will be the the file path. moreover, for the songs that do get a match, we also want to copy the corresponding midi file into a new folder. if the song row is x, then it will be at COPYRIGHT_MIDI_PATH/x['song_id]/lakh_clean_ARTIST_TITLE. \n",
    "\n",
    "make this extremely pythonic, bearing in mind the functions we want to reuse"
   ]
  },
  {
   "cell_type": "markdown",
   "metadata": {},
   "source": [
    "add copyright claims table"
   ]
  },
  {
   "cell_type": "markdown",
   "metadata": {},
   "source": [
    "### Creating song dataset"
   ]
  },
  {
   "cell_type": "markdown",
   "metadata": {},
   "source": [
    "creates song table"
   ]
  },
  {
   "cell_type": "markdown",
   "metadata": {},
   "source": [
    "defines music brainz search function"
   ]
  },
  {
   "cell_type": "markdown",
   "metadata": {},
   "source": [
    "adds songs from the cases to the table\n",
    "to improve:\n",
    "- add whether the case was won or not (maybe do with the first table) - replace None in case_status"
   ]
  }
 ],
 "metadata": {
  "kernelspec": {
   "display_name": "magenta",
   "language": "python",
   "name": "python3"
  },
  "language_info": {
   "codemirror_mode": {
    "name": "ipython",
    "version": 3
   },
   "file_extension": ".py",
   "mimetype": "text/x-python",
   "name": "python",
   "nbconvert_exporter": "python",
   "pygments_lexer": "ipython3",
   "version": "3.8.19"
  }
 },
 "nbformat": 4,
 "nbformat_minor": 2
}
