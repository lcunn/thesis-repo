{
 "cells": [
  {
   "cell_type": "markdown",
   "metadata": {},
   "source": [
    "# using the script"
   ]
  },
  {
   "cell_type": "code",
   "execution_count": 1,
   "metadata": {},
   "outputs": [
    {
     "name": "stderr",
     "output_type": "stream",
     "text": [
      "C:\\Users\\cunn2\\AppData\\Local\\Temp\\ipykernel_153616\\1836645836.py:14: FutureWarning: You are using `torch.load` with `weights_only=False` (the current default value), which uses the default pickle module implicitly. It is possible to construct malicious pickle data which will execute arbitrary code during unpickling (See https://github.com/pytorch/pytorch/blob/main/SECURITY.md#untrusted-models for more details). In a future release, the default value for `weights_only` will be flipped to `True`. This limits the functions that could be executed during unpickling. Arbitrary objects will no longer be allowed to be loaded via this mode unless they are explicitly allowlisted by the user via `torch.serialization.add_safe_globals`. We recommend you start setting `weights_only=True` for any use case where you don't have full control of the loaded file. Please open an issue on GitHub for any issues related to this experimental feature.\n",
      "  data = torch.load(r\"data\\exp1\\val_data.pt\")\n",
      "[2024-10-02 14:10:48] [INFO ] Running evaluation for trans_pr_1_full\n",
      "C:\\Users\\cunn2\\OneDrive\\DSML\\Project\\thesis-repo\\sms\\src\\vector_search\\evaluate_top_k.py:63: FutureWarning: You are using `torch.load` with `weights_only=False` (the current default value), which uses the default pickle module implicitly. It is possible to construct malicious pickle data which will execute arbitrary code during unpickling (See https://github.com/pytorch/pytorch/blob/main/SECURITY.md#untrusted-models for more details). In a future release, the default value for `weights_only` will be flipped to `True`. This limits the functions that could be executed during unpickling. Arbitrary objects will no longer be allowed to be loaded via this mode unless they are explicitly allowlisted by the user via `torch.serialization.add_safe_globals`. We recommend you start setting `weights_only=True` for any use case where you don't have full control of the loaded file. Please open an issue on GitHub for any issues related to this experimental feature.\n",
      "  model.load_state_dict(torch.load(full_model_path))\n"
     ]
    }
   ],
   "source": [
    "from uuid import uuid4\n",
    "import os \n",
    "import torch\n",
    "import logging\n",
    "\n",
    "os.chdir(r\"C:\\Users\\cunn2\\OneDrive\\DSML\\Project\\thesis-repo\")\n",
    "\n",
    "from sms.src.log import configure_logging\n",
    "from sms.exp1.run_evaluation import run_evaluation, ModelEvalConfig\n",
    "from sms.exp1.config_classes import load_config_from_launchplan\n",
    "\n",
    "configure_logging(console_level=logging.INFO)\n",
    "\n",
    "data = torch.load(r\"data\\exp1\\val_data.pt\")\n",
    "data_ids = [str(uuid4()) for _ in range(len(data))]\n",
    "data_dict = dict(zip(data_ids, data))\n",
    "\n",
    "trans_rel_1_full = ModelEvalConfig(\n",
    "    name=\"trans_rel_1_full\",\n",
    "    lp_config=load_config_from_launchplan(r\"sms\\exp1\\runs\\transformer_rel_1\\original_launchplan.yaml\"),\n",
    "    mod_path=r\"sms\\exp1\\runs\\transformer_rel_1\\pretrain_saved_model.pth\",\n",
    "    path_type='full',\n",
    "    use_full_model=True\n",
    ")\n",
    "\n",
    "trans_rel_1_enc = ModelEvalConfig(\n",
    "    name=\"trans_rel_1_enc\",\n",
    "    lp_config=load_config_from_launchplan(r\"sms\\exp1\\runs\\transformer_rel_1\\original_launchplan.yaml\"),\n",
    "    mod_path=r\"sms\\exp1\\runs\\transformer_rel_1\\finetune_saved_model.pth\",\n",
    "    path_type='encoder',\n",
    "    use_full_model=False\n",
    ")\n",
    "\n",
    "trans_quant_abs_1_full = ModelEvalConfig(\n",
    "    name=\"trans_quant_abs_1_full\",\n",
    "    lp_config=load_config_from_launchplan(r\"sms\\exp1\\runs\\transformer_quant_abs_1\\original_launchplan.yaml\"),\n",
    "    mod_path=r\"sms\\exp1\\runs\\transformer_quant_abs_1\\pretrain_saved_model.pth\",\n",
    "    path_type='full',\n",
    "    use_full_model=True\n",
    ")\n",
    "\n",
    "trans_quant_abs_1_enc = ModelEvalConfig(\n",
    "    name=\"trans_quant_abs_1_enc\",\n",
    "    lp_config=load_config_from_launchplan(r\"sms\\exp1\\runs\\transformer_quant_abs_1\\original_launchplan.yaml\"),\n",
    "    mod_path=r\"sms\\exp1\\runs\\transformer_quant_abs_1\\finetune_saved_model.pth\",\n",
    "    path_type='encoder',\n",
    "    use_full_model=False\n",
    ")\n",
    "\n",
    "trans_abs_1_full = ModelEvalConfig(\n",
    "    name=\"trans_abs_1_full\",\n",
    "    lp_config=load_config_from_launchplan(r\"sms\\exp1\\runs\\transformer_abs_1\\original_launchplan.yaml\"),\n",
    "    mod_path=r\"sms\\exp1\\runs\\transformer_abs_1\\pretrain_saved_model.pth\",\n",
    "    path_type='full',\n",
    "    use_full_model=True\n",
    ")\n",
    "\n",
    "trans_abs_1_enc = ModelEvalConfig(\n",
    "    name=\"trans_abs_1_enc\",\n",
    "    lp_config=load_config_from_launchplan(r\"sms\\exp1\\runs\\transformer_abs_1\\original_launchplan.yaml\"),\n",
    "    mod_path=r\"sms\\exp1\\runs\\transformer_abs_1\\finetune_saved_model.pth\",\n",
    "    path_type='encoder',\n",
    "    use_full_model=False\n",
    ")\n",
    "\n",
    "first_set = [\n",
    "        trans_rel_1_full, \n",
    "        trans_rel_1_enc,\n",
    "        trans_quant_abs_1_full, \n",
    "        trans_quant_abs_1_enc, \n",
    "        trans_abs_1_full, \n",
    "        trans_abs_1_enc\n",
    "    ]\n",
    "\n",
    "trans_pr_1_full = ModelEvalConfig(\n",
    "    name=\"trans_pr_1_full\",\n",
    "    lp_config=load_config_from_launchplan(r\"sms\\exp1\\runs\\transformer_pr_1\\original_launchplan.yaml\"),\n",
    "    mod_path=r\"sms\\exp1\\runs\\transformer_pr_1\\pretrain_saved_model.pth\",\n",
    "    path_type='full',\n",
    "    use_full_model=True\n",
    ")\n",
    "\n",
    "trans_pr_1_enc = ModelEvalConfig(\n",
    "    name=\"trans_pr_1_enc\",\n",
    "    lp_config=load_config_from_launchplan(r\"sms\\exp1\\runs\\transformer_pr_1\\original_launchplan.yaml\"),\n",
    "    mod_path=r\"sms\\exp1\\runs\\transformer_pr_1\\finetune_saved_model.pth\",\n",
    "    path_type='encoder',\n",
    "    use_full_model=False\n",
    ")\n",
    "\n",
    "trans_quant_rel_1_full = ModelEvalConfig(\n",
    "    name=\"trans_quant_rel_1_full\",\n",
    "    lp_config=load_config_from_launchplan(r\"sms\\exp1\\runs\\transformer_quant_rel_1\\original_launchplan.yaml\"),\n",
    "    mod_path=r\"sms\\exp1\\runs\\transformer_quant_rel_1\\pretrain_saved_model.pth\",\n",
    "    path_type='full',\n",
    "    use_full_model=True\n",
    ")\n",
    "\n",
    "trans_quant_rel_1_enc = ModelEvalConfig(\n",
    "    name=\"trans_quant_rel_1_enc\",\n",
    "    lp_config=load_config_from_launchplan(r\"sms\\exp1\\runs\\transformer_quant_rel_1\\original_launchplan.yaml\"),\n",
    "    mod_path=r\"sms\\exp1\\runs\\transformer_quant_rel_1\\finetune_saved_model.pth\",\n",
    "    path_type='encoder',\n",
    "    use_full_model=False\n",
    ")\n",
    "\n",
    "trans_quant_rel_bigenc_full = ModelEvalConfig(\n",
    "    name=\"trans_quant_rel_bigenc_full\",\n",
    "    lp_config=load_config_from_launchplan(r\"sms\\exp1\\runs\\transformer_quant_rel_bigenc_1\\original_launchplan.yaml\"),\n",
    "    mod_path=r\"sms\\exp1\\runs\\transformer_quant_rel_bigenc_1\\pretrain_saved_model.pth\",\n",
    "    path_type='full',\n",
    "    use_full_model=True\n",
    ")\n",
    "\n",
    "trans_quant_rel_bigenc_enc = ModelEvalConfig(\n",
    "    name=\"trans_quant_rel_bigenc_enc\",\n",
    "    lp_config=load_config_from_launchplan(r\"sms\\exp1\\runs\\transformer_quant_rel_bigenc_1\\original_launchplan.yaml\"),\n",
    "    mod_path=r\"sms\\exp1\\runs\\transformer_quant_rel_bigenc_1\\finetune_saved_model.pth\",\n",
    "    path_type='encoder',\n",
    "    use_full_model=False\n",
    ")\n",
    "\n",
    "second_set = [\n",
    "    trans_pr_1_full,\n",
    "    trans_pr_1_enc,\n",
    "    trans_quant_rel_1_full,\n",
    "    trans_quant_rel_1_enc,\n",
    "    trans_quant_rel_bigenc_full,\n",
    "    trans_quant_rel_bigenc_enc\n",
    "]\n",
    "\n",
    "results = run_evaluation(\n",
    "    data_dict, \n",
    "    100, \n",
    "    second_set\n",
    ")\n"
   ]
  },
  {
   "cell_type": "code",
   "execution_count": 2,
   "metadata": {},
   "outputs": [
    {
     "ename": "NameError",
     "evalue": "name 'np' is not defined",
     "output_type": "error",
     "traceback": [
      "\u001b[1;31m---------------------------------------------------------------------------\u001b[0m",
      "\u001b[1;31mNameError\u001b[0m                                 Traceback (most recent call last)",
      "Cell \u001b[1;32mIn[2], line 56\u001b[0m\n\u001b[0;32m     54\u001b[0m k_list \u001b[38;5;241m=\u001b[39m [\u001b[38;5;241m1\u001b[39m, \u001b[38;5;241m3\u001b[39m, \u001b[38;5;241m5\u001b[39m, \u001b[38;5;241m10\u001b[39m, \u001b[38;5;241m25\u001b[39m, \u001b[38;5;241m50\u001b[39m, \u001b[38;5;241m100\u001b[39m]\n\u001b[0;32m     55\u001b[0m model_name \u001b[38;5;241m=\u001b[39m \u001b[38;5;28mlist\u001b[39m(results\u001b[38;5;241m.\u001b[39mkeys())[\u001b[38;5;241m0\u001b[39m]  \u001b[38;5;66;03m# Assuming there's only one model in results\u001b[39;00m\n\u001b[1;32m---> 56\u001b[0m \u001b[43mvisualize_avg_recall\u001b[49m\u001b[43m(\u001b[49m\u001b[43mresults\u001b[49m\u001b[43m[\u001b[49m\u001b[43mmodel_name\u001b[49m\u001b[43m]\u001b[49m\u001b[43m,\u001b[49m\u001b[43m \u001b[49m\u001b[43mk_list\u001b[49m\u001b[43m)\u001b[49m\n",
      "Cell \u001b[1;32mIn[2], line 14\u001b[0m, in \u001b[0;36mvisualize_avg_recall\u001b[1;34m(results, k_list)\u001b[0m\n\u001b[0;32m      6\u001b[0m \u001b[38;5;250m\u001b[39m\u001b[38;5;124;03m\"\"\"\u001b[39;00m\n\u001b[0;32m      7\u001b[0m \u001b[38;5;124;03mCreate a line plot to visualize the average recall for different augmentation types.\u001b[39;00m\n\u001b[0;32m      8\u001b[0m \u001b[38;5;124;03m\u001b[39;00m\n\u001b[1;32m   (...)\u001b[0m\n\u001b[0;32m     11\u001b[0m \u001b[38;5;124;03m    k_list: List of k values used in the evaluation\u001b[39;00m\n\u001b[0;32m     12\u001b[0m \u001b[38;5;124;03m\"\"\"\u001b[39;00m\n\u001b[0;32m     13\u001b[0m aug_types \u001b[38;5;241m=\u001b[39m \u001b[38;5;28mlist\u001b[39m(results\u001b[38;5;241m.\u001b[39mkeys())\n\u001b[1;32m---> 14\u001b[0m colors \u001b[38;5;241m=\u001b[39m plt\u001b[38;5;241m.\u001b[39mcm\u001b[38;5;241m.\u001b[39mrainbow(\u001b[43mnp\u001b[49m\u001b[38;5;241m.\u001b[39mlinspace(\u001b[38;5;241m0\u001b[39m, \u001b[38;5;241m1\u001b[39m, \u001b[38;5;28mlen\u001b[39m(aug_types)))\n\u001b[0;32m     16\u001b[0m plt\u001b[38;5;241m.\u001b[39mfigure(figsize\u001b[38;5;241m=\u001b[39m(\u001b[38;5;241m12\u001b[39m, \u001b[38;5;241m8\u001b[39m))\n\u001b[0;32m     18\u001b[0m all_avg_recalls \u001b[38;5;241m=\u001b[39m []\n",
      "\u001b[1;31mNameError\u001b[0m: name 'np' is not defined"
     ]
    }
   ],
   "source": [
    "import matplotlib.pyplot as plt\n",
    "\n",
    "configure_logging(console_level=logging.INFO)\n",
    "\n",
    "def visualize_avg_recall(results, k_list = [1, 3, 5, 10, 25, 50, 100]):\n",
    "    \"\"\"\n",
    "    Create a line plot to visualize the average recall for different augmentation types.\n",
    "    \n",
    "    Args:\n",
    "        results: The output dictionary from evaluate_top_k function for a single model\n",
    "        k_list: List of k values used in the evaluation\n",
    "    \"\"\"\n",
    "    aug_types = list(results.keys())\n",
    "    colors = plt.cm.rainbow(np.linspace(0, 1, len(aug_types)))\n",
    "    \n",
    "    plt.figure(figsize=(12, 8))\n",
    "    \n",
    "    all_avg_recalls = []\n",
    "    \n",
    "    for aug_type, color in zip(aug_types, colors):\n",
    "        avg_recalls = [results[aug_type][k]['avg_recall'] for k in k_list]\n",
    "        plt.plot(k_list, avg_recalls, marker='o', label=aug_type, color=color)\n",
    "        all_avg_recalls.append(avg_recalls)\n",
    "    \n",
    "    # Calculate and plot the average of all augmentations\n",
    "    avg_of_avgs = np.mean(all_avg_recalls, axis=0)\n",
    "    plt.plot(k_list, avg_of_avgs, marker='s', label='Average of all', color='black', linewidth=2)\n",
    "    \n",
    "    plt.xlabel('k')\n",
    "    plt.ylabel('Average Recall')\n",
    "    plt.title('Average Recall vs k for Different Augmentation Types')\n",
    "    plt.legend(title='Augmentation Type', bbox_to_anchor=(1.05, 1), loc='upper left')\n",
    "    plt.grid(True, linestyle='--', alpha=0.7)\n",
    "    \n",
    "    # Set x-axis to show all k values\n",
    "    plt.xticks(k_list, k_list)\n",
    "    \n",
    "    # Use log scale for x-axis\n",
    "    plt.xscale('log')\n",
    "    \n",
    "    # Ensure all ticks are visible\n",
    "    plt.gca().xaxis.set_major_formatter(plt.ScalarFormatter())\n",
    "    plt.gca().xaxis.set_major_locator(plt.FixedLocator(k_list))\n",
    "    \n",
    "    # Adjust limits to show all points clearly\n",
    "    plt.xlim(min(k_list) * 0.9, max(k_list) * 1.1)\n",
    "    \n",
    "    plt.tight_layout()\n",
    "    plt.savefig('avg_recall_results.png', dpi=300, bbox_inches='tight')\n",
    "    plt.close()\n",
    "\n",
    "\n",
    "# Usage\n",
    "k_list = [1, 3, 5, 10, 25, 50, 100]\n",
    "model_name = list(results.keys())[0]  # Assuming there's only one model in results\n",
    "visualize_avg_recall(results[model_name], k_list)"
   ]
  },
  {
   "cell_type": "code",
   "execution_count": null,
   "metadata": {},
   "outputs": [],
   "source": [
    "import plotly.graph_objects as go\n",
    "from plotly.subplots import make_subplots\n",
    "import plotly.io as pio\n",
    "import numpy as np\n",
    "import matplotlib.pyplot as plt\n",
    "\n",
    "def visualize_avg_recall(results, k_list):\n",
    "    \"\"\"\n",
    "    Create a line plot to visualize the average recall for different augmentation types using Plotly.\n",
    "    \n",
    "    Args:\n",
    "        results: The output dictionary from evaluate_top_k function for a single model\n",
    "        k_list: List of k values used in the evaluation\n",
    "    \"\"\"\n",
    "    aug_types = list(results.keys())\n",
    "    \n",
    "    # Generate colors using a simple list comprehension\n",
    "    colors = [f'rgb({r},{g},{b})' for r, g, b in np.random.randint(0, 255, size=(len(aug_types), 3))]\n",
    "    \n",
    "    fig = go.Figure()\n",
    "    \n",
    "    all_avg_recalls = []\n",
    "    \n",
    "    for aug_type, color in zip(aug_types, colors):\n",
    "        avg_recalls = [results[aug_type][k]['avg_recall'] for k in k_list]\n",
    "        fig.add_trace(go.Scatter(\n",
    "            x=k_list,\n",
    "            y=avg_recalls,\n",
    "            mode='lines+markers',\n",
    "            name=aug_type,\n",
    "            line=dict(color=color)\n",
    "        ))\n",
    "        all_avg_recalls.append(avg_recalls)\n",
    "    \n",
    "    # Calculate and plot the average of all augmentations\n",
    "    avg_of_avgs = np.mean(all_avg_recalls, axis=0)\n",
    "    fig.add_trace(go.Scatter(\n",
    "        x=k_list,\n",
    "        y=avg_of_avgs,\n",
    "        mode='lines+markers',\n",
    "        name='Average of all',\n",
    "        line=dict(color='black', width=2),\n",
    "        marker=dict(symbol='square', size=8)\n",
    "    ))\n",
    "    \n",
    "    fig.update_layout(\n",
    "        title='Average Recall vs k for Different Augmentation Types',\n",
    "        xaxis_title='k',\n",
    "        yaxis_title='Average Recall',\n",
    "        xaxis_type='log',\n",
    "        xaxis=dict(\n",
    "            tickmode='array',\n",
    "            tickvals=k_list,\n",
    "            ticktext=[str(k) for k in k_list]\n",
    "        ),\n",
    "        legend=dict(\n",
    "            title='Augmentation Type',\n",
    "            yanchor=\"top\",\n",
    "            y=0.99,\n",
    "            xanchor=\"left\",\n",
    "            x=1.05\n",
    "        ),\n",
    "        hovermode='x unified'\n",
    "    )\n",
    "    \n",
    "    # Save the plot as a static image file\n",
    "    pio.write_image(fig, \"avg_recall_results.png\")\n",
    "\n",
    "# Usage\n",
    "k_list = [1, 3, 5, 10, 25, 50, 100]\n",
    "visualize_avg_recall(results['trans_rel'], k_list)"
   ]
  },
  {
   "cell_type": "code",
   "execution_count": 13,
   "metadata": {},
   "outputs": [
    {
     "data": {
      "text/plain": [
       "dict_keys(['trans_rel_1', 'trans_quant_abs_1', 'trans_abs_1'])"
      ]
     },
     "execution_count": 13,
     "metadata": {},
     "output_type": "execute_result"
    }
   ],
   "source": [
    "results.keys()\n"
   ]
  },
  {
   "cell_type": "code",
   "execution_count": 22,
   "metadata": {},
   "outputs": [
    {
     "name": "stdout",
     "output_type": "stream",
     "text": [
      "trans_rel_1_full\n"
     ]
    },
    {
     "data": {
      "application/vnd.plotly.v1+json": {
       "config": {
        "plotlyServerURL": "https://plot.ly"
       },
       "data": [
        {
         "line": {
          "color": "#636EFA",
          "width": 2
         },
         "marker": {
          "size": 8
         },
         "mode": "lines+markers",
         "name": "chunk_transposed",
         "type": "scatter",
         "x": [
          1,
          3,
          5,
          10,
          25,
          50,
          100
         ],
         "y": [
          0.42,
          0.69,
          0.81,
          0.9,
          0.96,
          1,
          1
         ]
        },
        {
         "line": {
          "color": "#EF553B",
          "width": 2
         },
         "marker": {
          "size": 8
         },
         "mode": "lines+markers",
         "name": "chunk_one_pitch_shifted",
         "type": "scatter",
         "x": [
          1,
          3,
          5,
          10,
          25,
          50,
          100
         ],
         "y": [
          0.14,
          0.19,
          0.26,
          0.31,
          0.42,
          0.54,
          0.7
         ]
        },
        {
         "line": {
          "color": "#00CC96",
          "width": 2
         },
         "marker": {
          "size": 8
         },
         "mode": "lines+markers",
         "name": "chunk_note_duration_changed",
         "type": "scatter",
         "x": [
          1,
          3,
          5,
          10,
          25,
          50,
          100
         ],
         "y": [
          0.26,
          0.43,
          0.47,
          0.61,
          0.73,
          0.75,
          0.85
         ]
        },
        {
         "line": {
          "color": "#AB63FA",
          "width": 2
         },
         "marker": {
          "size": 8
         },
         "mode": "lines+markers",
         "name": "chunk_note_deleted",
         "type": "scatter",
         "x": [
          1,
          3,
          5,
          10,
          25,
          50,
          100
         ],
         "y": [
          0.07,
          0.12,
          0.18,
          0.22,
          0.36,
          0.57,
          0.74
         ]
        },
        {
         "line": {
          "color": "#FFA15A",
          "width": 2
         },
         "marker": {
          "size": 8
         },
         "mode": "lines+markers",
         "name": "chunk_note_inserted",
         "type": "scatter",
         "x": [
          1,
          3,
          5,
          10,
          25,
          50,
          100
         ],
         "y": [
          0.08,
          0.11,
          0.16,
          0.25,
          0.32,
          0.41,
          0.58
         ]
        },
        {
         "line": {
          "color": "black",
          "dash": "dash",
          "width": 2
         },
         "marker": {
          "size": 10,
          "symbol": "square"
         },
         "mode": "lines+markers",
         "name": "Average of all",
         "type": "scatter",
         "x": [
          1,
          3,
          5,
          10,
          25,
          50,
          100
         ],
         "y": [
          0.194,
          0.30799999999999994,
          0.376,
          0.458,
          0.5579999999999999,
          0.654,
          0.774
         ]
        }
       ],
       "layout": {
        "height": 600,
        "hovermode": "x unified",
        "legend": {
         "title": {
          "text": "Augmentation Type"
         },
         "x": 1.05,
         "xanchor": "left",
         "y": 0.99,
         "yanchor": "top"
        },
        "template": {
         "data": {
          "bar": [
           {
            "error_x": {
             "color": "#2a3f5f"
            },
            "error_y": {
             "color": "#2a3f5f"
            },
            "marker": {
             "line": {
              "color": "white",
              "width": 0.5
             },
             "pattern": {
              "fillmode": "overlay",
              "size": 10,
              "solidity": 0.2
             }
            },
            "type": "bar"
           }
          ],
          "barpolar": [
           {
            "marker": {
             "line": {
              "color": "white",
              "width": 0.5
             },
             "pattern": {
              "fillmode": "overlay",
              "size": 10,
              "solidity": 0.2
             }
            },
            "type": "barpolar"
           }
          ],
          "carpet": [
           {
            "aaxis": {
             "endlinecolor": "#2a3f5f",
             "gridcolor": "#C8D4E3",
             "linecolor": "#C8D4E3",
             "minorgridcolor": "#C8D4E3",
             "startlinecolor": "#2a3f5f"
            },
            "baxis": {
             "endlinecolor": "#2a3f5f",
             "gridcolor": "#C8D4E3",
             "linecolor": "#C8D4E3",
             "minorgridcolor": "#C8D4E3",
             "startlinecolor": "#2a3f5f"
            },
            "type": "carpet"
           }
          ],
          "choropleth": [
           {
            "colorbar": {
             "outlinewidth": 0,
             "ticks": ""
            },
            "type": "choropleth"
           }
          ],
          "contour": [
           {
            "colorbar": {
             "outlinewidth": 0,
             "ticks": ""
            },
            "colorscale": [
             [
              0,
              "#0d0887"
             ],
             [
              0.1111111111111111,
              "#46039f"
             ],
             [
              0.2222222222222222,
              "#7201a8"
             ],
             [
              0.3333333333333333,
              "#9c179e"
             ],
             [
              0.4444444444444444,
              "#bd3786"
             ],
             [
              0.5555555555555556,
              "#d8576b"
             ],
             [
              0.6666666666666666,
              "#ed7953"
             ],
             [
              0.7777777777777778,
              "#fb9f3a"
             ],
             [
              0.8888888888888888,
              "#fdca26"
             ],
             [
              1,
              "#f0f921"
             ]
            ],
            "type": "contour"
           }
          ],
          "contourcarpet": [
           {
            "colorbar": {
             "outlinewidth": 0,
             "ticks": ""
            },
            "type": "contourcarpet"
           }
          ],
          "heatmap": [
           {
            "colorbar": {
             "outlinewidth": 0,
             "ticks": ""
            },
            "colorscale": [
             [
              0,
              "#0d0887"
             ],
             [
              0.1111111111111111,
              "#46039f"
             ],
             [
              0.2222222222222222,
              "#7201a8"
             ],
             [
              0.3333333333333333,
              "#9c179e"
             ],
             [
              0.4444444444444444,
              "#bd3786"
             ],
             [
              0.5555555555555556,
              "#d8576b"
             ],
             [
              0.6666666666666666,
              "#ed7953"
             ],
             [
              0.7777777777777778,
              "#fb9f3a"
             ],
             [
              0.8888888888888888,
              "#fdca26"
             ],
             [
              1,
              "#f0f921"
             ]
            ],
            "type": "heatmap"
           }
          ],
          "heatmapgl": [
           {
            "colorbar": {
             "outlinewidth": 0,
             "ticks": ""
            },
            "colorscale": [
             [
              0,
              "#0d0887"
             ],
             [
              0.1111111111111111,
              "#46039f"
             ],
             [
              0.2222222222222222,
              "#7201a8"
             ],
             [
              0.3333333333333333,
              "#9c179e"
             ],
             [
              0.4444444444444444,
              "#bd3786"
             ],
             [
              0.5555555555555556,
              "#d8576b"
             ],
             [
              0.6666666666666666,
              "#ed7953"
             ],
             [
              0.7777777777777778,
              "#fb9f3a"
             ],
             [
              0.8888888888888888,
              "#fdca26"
             ],
             [
              1,
              "#f0f921"
             ]
            ],
            "type": "heatmapgl"
           }
          ],
          "histogram": [
           {
            "marker": {
             "pattern": {
              "fillmode": "overlay",
              "size": 10,
              "solidity": 0.2
             }
            },
            "type": "histogram"
           }
          ],
          "histogram2d": [
           {
            "colorbar": {
             "outlinewidth": 0,
             "ticks": ""
            },
            "colorscale": [
             [
              0,
              "#0d0887"
             ],
             [
              0.1111111111111111,
              "#46039f"
             ],
             [
              0.2222222222222222,
              "#7201a8"
             ],
             [
              0.3333333333333333,
              "#9c179e"
             ],
             [
              0.4444444444444444,
              "#bd3786"
             ],
             [
              0.5555555555555556,
              "#d8576b"
             ],
             [
              0.6666666666666666,
              "#ed7953"
             ],
             [
              0.7777777777777778,
              "#fb9f3a"
             ],
             [
              0.8888888888888888,
              "#fdca26"
             ],
             [
              1,
              "#f0f921"
             ]
            ],
            "type": "histogram2d"
           }
          ],
          "histogram2dcontour": [
           {
            "colorbar": {
             "outlinewidth": 0,
             "ticks": ""
            },
            "colorscale": [
             [
              0,
              "#0d0887"
             ],
             [
              0.1111111111111111,
              "#46039f"
             ],
             [
              0.2222222222222222,
              "#7201a8"
             ],
             [
              0.3333333333333333,
              "#9c179e"
             ],
             [
              0.4444444444444444,
              "#bd3786"
             ],
             [
              0.5555555555555556,
              "#d8576b"
             ],
             [
              0.6666666666666666,
              "#ed7953"
             ],
             [
              0.7777777777777778,
              "#fb9f3a"
             ],
             [
              0.8888888888888888,
              "#fdca26"
             ],
             [
              1,
              "#f0f921"
             ]
            ],
            "type": "histogram2dcontour"
           }
          ],
          "mesh3d": [
           {
            "colorbar": {
             "outlinewidth": 0,
             "ticks": ""
            },
            "type": "mesh3d"
           }
          ],
          "parcoords": [
           {
            "line": {
             "colorbar": {
              "outlinewidth": 0,
              "ticks": ""
             }
            },
            "type": "parcoords"
           }
          ],
          "pie": [
           {
            "automargin": true,
            "type": "pie"
           }
          ],
          "scatter": [
           {
            "fillpattern": {
             "fillmode": "overlay",
             "size": 10,
             "solidity": 0.2
            },
            "type": "scatter"
           }
          ],
          "scatter3d": [
           {
            "line": {
             "colorbar": {
              "outlinewidth": 0,
              "ticks": ""
             }
            },
            "marker": {
             "colorbar": {
              "outlinewidth": 0,
              "ticks": ""
             }
            },
            "type": "scatter3d"
           }
          ],
          "scattercarpet": [
           {
            "marker": {
             "colorbar": {
              "outlinewidth": 0,
              "ticks": ""
             }
            },
            "type": "scattercarpet"
           }
          ],
          "scattergeo": [
           {
            "marker": {
             "colorbar": {
              "outlinewidth": 0,
              "ticks": ""
             }
            },
            "type": "scattergeo"
           }
          ],
          "scattergl": [
           {
            "marker": {
             "colorbar": {
              "outlinewidth": 0,
              "ticks": ""
             }
            },
            "type": "scattergl"
           }
          ],
          "scattermapbox": [
           {
            "marker": {
             "colorbar": {
              "outlinewidth": 0,
              "ticks": ""
             }
            },
            "type": "scattermapbox"
           }
          ],
          "scatterpolar": [
           {
            "marker": {
             "colorbar": {
              "outlinewidth": 0,
              "ticks": ""
             }
            },
            "type": "scatterpolar"
           }
          ],
          "scatterpolargl": [
           {
            "marker": {
             "colorbar": {
              "outlinewidth": 0,
              "ticks": ""
             }
            },
            "type": "scatterpolargl"
           }
          ],
          "scatterternary": [
           {
            "marker": {
             "colorbar": {
              "outlinewidth": 0,
              "ticks": ""
             }
            },
            "type": "scatterternary"
           }
          ],
          "surface": [
           {
            "colorbar": {
             "outlinewidth": 0,
             "ticks": ""
            },
            "colorscale": [
             [
              0,
              "#0d0887"
             ],
             [
              0.1111111111111111,
              "#46039f"
             ],
             [
              0.2222222222222222,
              "#7201a8"
             ],
             [
              0.3333333333333333,
              "#9c179e"
             ],
             [
              0.4444444444444444,
              "#bd3786"
             ],
             [
              0.5555555555555556,
              "#d8576b"
             ],
             [
              0.6666666666666666,
              "#ed7953"
             ],
             [
              0.7777777777777778,
              "#fb9f3a"
             ],
             [
              0.8888888888888888,
              "#fdca26"
             ],
             [
              1,
              "#f0f921"
             ]
            ],
            "type": "surface"
           }
          ],
          "table": [
           {
            "cells": {
             "fill": {
              "color": "#EBF0F8"
             },
             "line": {
              "color": "white"
             }
            },
            "header": {
             "fill": {
              "color": "#C8D4E3"
             },
             "line": {
              "color": "white"
             }
            },
            "type": "table"
           }
          ]
         },
         "layout": {
          "annotationdefaults": {
           "arrowcolor": "#2a3f5f",
           "arrowhead": 0,
           "arrowwidth": 1
          },
          "autotypenumbers": "strict",
          "coloraxis": {
           "colorbar": {
            "outlinewidth": 0,
            "ticks": ""
           }
          },
          "colorscale": {
           "diverging": [
            [
             0,
             "#8e0152"
            ],
            [
             0.1,
             "#c51b7d"
            ],
            [
             0.2,
             "#de77ae"
            ],
            [
             0.3,
             "#f1b6da"
            ],
            [
             0.4,
             "#fde0ef"
            ],
            [
             0.5,
             "#f7f7f7"
            ],
            [
             0.6,
             "#e6f5d0"
            ],
            [
             0.7,
             "#b8e186"
            ],
            [
             0.8,
             "#7fbc41"
            ],
            [
             0.9,
             "#4d9221"
            ],
            [
             1,
             "#276419"
            ]
           ],
           "sequential": [
            [
             0,
             "#0d0887"
            ],
            [
             0.1111111111111111,
             "#46039f"
            ],
            [
             0.2222222222222222,
             "#7201a8"
            ],
            [
             0.3333333333333333,
             "#9c179e"
            ],
            [
             0.4444444444444444,
             "#bd3786"
            ],
            [
             0.5555555555555556,
             "#d8576b"
            ],
            [
             0.6666666666666666,
             "#ed7953"
            ],
            [
             0.7777777777777778,
             "#fb9f3a"
            ],
            [
             0.8888888888888888,
             "#fdca26"
            ],
            [
             1,
             "#f0f921"
            ]
           ],
           "sequentialminus": [
            [
             0,
             "#0d0887"
            ],
            [
             0.1111111111111111,
             "#46039f"
            ],
            [
             0.2222222222222222,
             "#7201a8"
            ],
            [
             0.3333333333333333,
             "#9c179e"
            ],
            [
             0.4444444444444444,
             "#bd3786"
            ],
            [
             0.5555555555555556,
             "#d8576b"
            ],
            [
             0.6666666666666666,
             "#ed7953"
            ],
            [
             0.7777777777777778,
             "#fb9f3a"
            ],
            [
             0.8888888888888888,
             "#fdca26"
            ],
            [
             1,
             "#f0f921"
            ]
           ]
          },
          "colorway": [
           "#636efa",
           "#EF553B",
           "#00cc96",
           "#ab63fa",
           "#FFA15A",
           "#19d3f3",
           "#FF6692",
           "#B6E880",
           "#FF97FF",
           "#FECB52"
          ],
          "font": {
           "color": "#2a3f5f"
          },
          "geo": {
           "bgcolor": "white",
           "lakecolor": "white",
           "landcolor": "white",
           "showlakes": true,
           "showland": true,
           "subunitcolor": "#C8D4E3"
          },
          "hoverlabel": {
           "align": "left"
          },
          "hovermode": "closest",
          "mapbox": {
           "style": "light"
          },
          "paper_bgcolor": "white",
          "plot_bgcolor": "white",
          "polar": {
           "angularaxis": {
            "gridcolor": "#EBF0F8",
            "linecolor": "#EBF0F8",
            "ticks": ""
           },
           "bgcolor": "white",
           "radialaxis": {
            "gridcolor": "#EBF0F8",
            "linecolor": "#EBF0F8",
            "ticks": ""
           }
          },
          "scene": {
           "xaxis": {
            "backgroundcolor": "white",
            "gridcolor": "#DFE8F3",
            "gridwidth": 2,
            "linecolor": "#EBF0F8",
            "showbackground": true,
            "ticks": "",
            "zerolinecolor": "#EBF0F8"
           },
           "yaxis": {
            "backgroundcolor": "white",
            "gridcolor": "#DFE8F3",
            "gridwidth": 2,
            "linecolor": "#EBF0F8",
            "showbackground": true,
            "ticks": "",
            "zerolinecolor": "#EBF0F8"
           },
           "zaxis": {
            "backgroundcolor": "white",
            "gridcolor": "#DFE8F3",
            "gridwidth": 2,
            "linecolor": "#EBF0F8",
            "showbackground": true,
            "ticks": "",
            "zerolinecolor": "#EBF0F8"
           }
          },
          "shapedefaults": {
           "line": {
            "color": "#2a3f5f"
           }
          },
          "ternary": {
           "aaxis": {
            "gridcolor": "#DFE8F3",
            "linecolor": "#A2B1C6",
            "ticks": ""
           },
           "baxis": {
            "gridcolor": "#DFE8F3",
            "linecolor": "#A2B1C6",
            "ticks": ""
           },
           "bgcolor": "white",
           "caxis": {
            "gridcolor": "#DFE8F3",
            "linecolor": "#A2B1C6",
            "ticks": ""
           }
          },
          "title": {
           "x": 0.05
          },
          "xaxis": {
           "automargin": true,
           "gridcolor": "#EBF0F8",
           "linecolor": "#EBF0F8",
           "ticks": "",
           "title": {
            "standoff": 15
           },
           "zerolinecolor": "#EBF0F8",
           "zerolinewidth": 2
          },
          "yaxis": {
           "automargin": true,
           "gridcolor": "#EBF0F8",
           "linecolor": "#EBF0F8",
           "ticks": "",
           "title": {
            "standoff": 15
           },
           "zerolinecolor": "#EBF0F8",
           "zerolinewidth": 2
          }
         }
        },
        "title": {
         "text": "Average Recall vs k for Different Augmentation Types"
        },
        "width": 800,
        "xaxis": {
         "tickmode": "array",
         "ticktext": [
          "1",
          "3",
          "5",
          "10",
          "25",
          "50",
          "100"
         ],
         "tickvals": [
          1,
          3,
          5,
          10,
          25,
          50,
          100
         ],
         "title": {
          "text": "k"
         },
         "type": "log"
        },
        "yaxis": {
         "title": {
          "text": "Average Recall"
         }
        }
       }
      }
     },
     "metadata": {},
     "output_type": "display_data"
    }
   ],
   "source": [
    "import plotly.graph_objects as go\n",
    "import plotly.express as px\n",
    "import numpy as np\n",
    "import matplotlib.pyplot as plt  # Only needed if you're using other matplotlib features\n",
    "\n",
    "def visualize_avg_recall(results, k_list=[1, 3, 5, 10, 25, 50, 100]):\n",
    "    \"\"\"\n",
    "    Create a line plot to visualize the average recall for different augmentation types using Plotly.\n",
    "    \n",
    "    Args:\n",
    "        results: The output dictionary from evaluate_top_k function for a single model\n",
    "        k_list: List of k values used in the evaluation\n",
    "    \"\"\"\n",
    "    aug_types = list(results.keys())\n",
    "    \n",
    "    # Generate distinct colors for each augmentation type\n",
    "    colors = px.colors.qualitative.Plotly[:len(aug_types)]\n",
    "    \n",
    "    fig = go.Figure()\n",
    "    \n",
    "    all_avg_recalls = []\n",
    "    \n",
    "    for aug_type, color in zip(aug_types, colors):\n",
    "        avg_recalls = [results[aug_type][k]['avg_recall'] for k in k_list]\n",
    "        fig.add_trace(go.Scatter(\n",
    "            x=k_list,\n",
    "            y=avg_recalls,\n",
    "            mode='lines+markers',\n",
    "            name=aug_type,\n",
    "            line=dict(color=color, width=2),\n",
    "            marker=dict(size=8)\n",
    "        ))\n",
    "        all_avg_recalls.append(avg_recalls)\n",
    "    \n",
    "    # Calculate and plot the average of all augmentations\n",
    "    avg_of_avgs = np.mean(all_avg_recalls, axis=0)\n",
    "    fig.add_trace(go.Scatter(\n",
    "        x=k_list,\n",
    "        y=avg_of_avgs,\n",
    "        mode='lines+markers',\n",
    "        name='Average of all',\n",
    "        line=dict(color='black', width=2, dash='dash'),\n",
    "        marker=dict(symbol='square', size=10)\n",
    "    ))\n",
    "    \n",
    "    # Update layout for aesthetics\n",
    "    fig.update_layout(\n",
    "        title='Average Recall vs k for Different Augmentation Types',\n",
    "        xaxis_title='k',\n",
    "        yaxis_title='Average Recall',\n",
    "        xaxis_type='log',\n",
    "        xaxis=dict(\n",
    "            tickmode='array',\n",
    "            tickvals=k_list,\n",
    "            ticktext=[str(k) for k in k_list]\n",
    "        ),\n",
    "        legend=dict(\n",
    "            title='Augmentation Type',\n",
    "            yanchor=\"top\",\n",
    "            y=0.99,\n",
    "            xanchor=\"left\",\n",
    "            x=1.05\n",
    "        ),\n",
    "        hovermode='x unified',\n",
    "        template='plotly_white',\n",
    "        width=800,\n",
    "        height=600\n",
    "    )\n",
    "    \n",
    "    # Save the plot as a static image file\n",
    "    # fig.write_image(\"avg_recall_results.png\", scale=2)  # scale can be adjusted for resolution\n",
    "    fig.show()\n",
    "    \n",
    "# Usage\n",
    "k_list = [1, 3, 5, 10, 25, 50, 100]\n",
    "model_name = list(results.keys())[0]  # Assuming there's only one model in results\n",
    "print(model_name)\n",
    "visualize_avg_recall(results[model_name], k_list)"
   ]
  }
 ],
 "metadata": {
  "kernelspec": {
   "display_name": "sms",
   "language": "python",
   "name": "python3"
  },
  "language_info": {
   "codemirror_mode": {
    "name": "ipython",
    "version": 3
   },
   "file_extension": ".py",
   "mimetype": "text/x-python",
   "name": "python",
   "nbconvert_exporter": "python",
   "pygments_lexer": "ipython3",
   "version": "3.11.9"
  }
 },
 "nbformat": 4,
 "nbformat_minor": 2
}
