{
 "cells": [
  {
   "cell_type": "code",
   "execution_count": 1,
   "metadata": {},
   "outputs": [
    {
     "name": "stderr",
     "output_type": "stream",
     "text": [
      "c:\\Users\\cunn2\\miniconda3\\envs\\magenta\\lib\\site-packages\\librosa\\util\\decorators.py:9: NumbaDeprecationWarning: \u001b[1mAn import was requested from a module that has moved location.\n",
      "Import requested from: 'numba.decorators', please update to use 'numba.core.decorators' or pin to Numba version 0.48.0. This alias will not be present in Numba version 0.50.0.\u001b[0m\n",
      "  from numba.decorators import jit as optional_jit\n",
      "c:\\Users\\cunn2\\miniconda3\\envs\\magenta\\lib\\site-packages\\librosa\\util\\decorators.py:9: NumbaDeprecationWarning: \u001b[1mAn import was requested from a module that has moved location.\n",
      "Import of 'jit' requested from: 'numba.decorators', please update to use 'numba.core.decorators' or pin to Numba version 0.48.0. This alias will not be present in Numba version 0.50.0.\u001b[0m\n",
      "  from numba.decorators import jit as optional_jit\n",
      "c:\\Users\\cunn2\\miniconda3\\envs\\magenta\\lib\\site-packages\\pydub\\utils.py:170: RuntimeWarning: Couldn't find ffmpeg or avconv - defaulting to ffmpeg, but may not work\n",
      "  warn(\"Couldn't find ffmpeg or avconv - defaulting to ffmpeg, but may not work\", RuntimeWarning)\n",
      "c:\\Users\\cunn2\\miniconda3\\envs\\magenta\\lib\\site-packages\\tqdm\\auto.py:21: TqdmWarning: IProgress not found. Please update jupyter and ipywidgets. See https://ipywidgets.readthedocs.io/en/stable/user_install.html\n",
      "  from .autonotebook import tqdm as notebook_tqdm\n"
     ]
    },
    {
     "name": "stdout",
     "output_type": "stream",
     "text": [
      "WARNING:tensorflow:From c:\\Users\\cunn2\\miniconda3\\envs\\magenta\\lib\\site-packages\\tensorflow\\python\\compat\\v2_compat.py:107: disable_resource_variables (from tensorflow.python.ops.variable_scope) is deprecated and will be removed in a future version.\n",
      "Instructions for updating:\n",
      "non-resource variables are not supported in the long term\n"
     ]
    }
   ],
   "source": [
    "import sqlite3\n",
    "import pandas as pd\n",
    "import os\n",
    "from mido import MidiFile\n",
    "from midi_player import MIDIPlayer\n",
    "from midi_player.stylers import basic, cifka_advanced\n",
    "# import musicbrainzngs\n",
    "\n",
    "os.chdir('../')\n",
    "\n",
    "from sms.defaults import *\n",
    "\n",
    "import magenta.music as mm\n",
    "from note_seq.midi_io import note_sequence_to_midi_file\n",
    "from magenta.models.music_vae import configs\n",
    "from magenta.models.music_vae.trained_model import TrainedModel\n",
    "import numpy as np\n",
    "import os\n",
    "import tensorflow.compat.v1 as tf\n",
    "\n",
    "tf.disable_v2_behavior()\n",
    "\n",
    "# Necessary until pyfluidsynth is updated (>1.2.5).\n",
    "import warnings\n",
    "warnings.filterwarnings(\"ignore\", category=DeprecationWarning)\n",
    "\n",
    "os.environ['TF_CPP_MIN_LOG_LEVEL'] = '3'\n",
    "\n",
    "from sms.src.embeddings.music_vae.two_bar_encoder import Mel2barEncoderDefault\n",
    "from sms.src.embeddings.music_vae.two_bar_encoder import Mel2barEncoderCustom\n",
    "from logging import getLogger\n",
    "import logging\n",
    "\n",
    "logging.basicConfig(level=logging.ERROR)\n",
    "logger = getLogger(__name__)"
   ]
  },
  {
   "cell_type": "code",
   "execution_count": 9,
   "metadata": {},
   "outputs": [
    {
     "name": "stdout",
     "output_type": "stream",
     "text": [
      "C:\\Users\\cunn2\\OneDrive\\DSML\\Project\\thesis-repo\\data\\synthetic_dataset\\monophonic_midis\\midi_mono\\NLB072928_01.mid\n"
     ]
    },
    {
     "data": {
      "text/html": [
       "<iframe srcdoc=\"&lt;script src=&quot;https://cdn.jsdelivr.net/combine/npm/tone@14.7.58,npm/@magenta/music@1.23.1/es6/core.js,npm/focus-visible@5,npm/html-midi-player@1.5.0&quot;&gt;&lt;/script&gt;\n",
       "&lt;style&gt;\n",
       "/* Custom player style */\n",
       "#section605 midi-player {\n",
       "  display: block;\n",
       "  width: inherit;\n",
       "  margin: 4px;\n",
       "  margin-bottom: 0;\n",
       "  font-family: Arial;\n",
       "}\n",
       "p { margin:0 }\n",
       "\n",
       "#section605 midi-player::part(control-panel) {\n",
       "  background: #ff5;\n",
       "  border: 2px solid #000;\n",
       "  border-radius: 10px 10px 0 0;\n",
       "}\n",
       "#section605 midi-player::part(play-button) {\n",
       "  color: #353;\n",
       "  border: 2px solid currentColor;\n",
       "  background-color: #4d4;\n",
       "  border-radius: 20px;\n",
       "  transition: all 0.2s;\n",
       "  content: &#x27;hello&#x27;;\n",
       "}\n",
       "#section605 midi-player::part(play-button):hover {\n",
       "  color: #0a0;\n",
       "  background-color: #5f5;\n",
       "  border-radius: 10px;\n",
       "}\n",
       "#section605 midi-player::part(time) {\n",
       "  font-family: monospace;\n",
       "}\n",
       "\n",
       "/* Custom visualizer style */\n",
       "#section605 midi-visualizer .piano-roll-visualizer {\n",
       "  background: #ffd;\n",
       "  border: 2px solid black;\n",
       "  border-top: none;\n",
       "  border-radius: 0 0 10px 10px;\n",
       "  margin: 4px;\n",
       "  width: inherit;\n",
       "  margin-top: 0;\n",
       "  overflow: auto;\n",
       "}\n",
       "#section605 midi-visualizer svg rect.note {\n",
       "  opacity: 0.6;\n",
       "  stroke-width: 2;\n",
       "}\n",
       "#section605 midi-visualizer svg rect.note[data-instrument=&quot;0&quot;]{\n",
       "  fill: #e22;\n",
       "  stroke: #500;\n",
       "}\n",
       "#section605 midi-visualizer svg rect.note[data-instrument=&quot;2&quot;]{\n",
       "  fill: #2ee;\n",
       "  stroke: #055;\n",
       "}\n",
       "#section605 midi-visualizer svg rect.note[data-is-drum=&quot;true&quot;]{\n",
       "  fill: #888;\n",
       "  stroke: #888;\n",
       "}\n",
       "#section605 midi-visualizer svg rect.note.active {\n",
       "  opacity: 0.9;\n",
       "  stroke: #000;\n",
       "  stroke-width: 3;\n",
       "}\n",
       "&lt;/style&gt;\n",
       "\n",
       "          &lt;section id=&quot;section605&quot;&gt;&lt;p style=&quot;text-align:left;font-family:Arial;&quot;&gt;&amp;nbsp;&lt;span style=&quot;float:right;&quot;&gt;&lt;a href=&quot;data:audio/midi;base64,TVRoZAAAAAYAAQACAHhNVHJrAAACFwD/AUQhISBQdWJsaXNoZWQgYnkgdGhlIE1lZXJ0ZW5zIEluc3RpdHV0ZSAoaHR0cDovL3d3dy5tZWVydGVucy5rbmF3Lm5sKQD/AUkhISBQYXJ0IG9mIHRoZSBEYXRhYmFzZSBvZiBEdXRjaCBTb25ncyAoTkxCKSAoaHR0cDovL3d3dy5saWVkZXJlbmJhbmsubmwpAP8BTyEhIFBhcnQgb2YgdGhlIE1lZXJ0ZW5zIFR1bmUgQ29sbGVjdGlvbnMgKE1UQykgKGh0dHA6Ly93d3cubGllZGVyZW5iYW5rLm5sL210YykA/wEfISEgTkxCIGlkZW50aWZpZXI6IE5MQjA3MjkyOF8wMQD/ARshISBOTEIgcmVjb3JkIG51bWJlcjogNzI5MjgA/wEeISEgTkxCIHN0cm9waGUvdm9pY2UgbnVtYmVyOiAxAP9RAwehIAD/AQ4hISBzZWdtZW50IDAuMAD/WAQGAyQIAP9ZAgEAiDj/AQ4hISBzZWdtZW50IDEuMIg4/wEOISEgc2VnbWVudCAyLjCFUP8BDiEhIHNlZ21lbnQgMy4whVD/AQ4hISBzZWdtZW50IDQuMIRY/wEOISEgc2VnbWVudCA1LjCGSP8BPCEhIGdlbmVyYXRlZCBieSB3Y2Uya3JuIDEuODIgKHJlbGVhc2VkIG9uIDIyIFNlcHRlbWJlciAyMDE4KQD/LwBNVHJrAAABpQCQRUA8gEVAAJBDQHiAQ0AAkENAPIBDQACQQ0B4gENAAJBHQDyAR0AAkEVAeIBFQACQRUA8gEVAAJBFQHiARUAAkEpAPIBKQACQR0CCLIBHQACQRUA8gEVAAJBDQHiAQ0AAkENAPIBDQACQQ0B4gENAAJBHQDyAR0AAkEVAeIBFQACQRUAegEVAAJBFQB6ARUAAkEVAeIBFQACQSkA8gEpAAJBHQIIsgEdAAJBHQDyAR0AAkEpAeIBKQACQSkA8gEpAAJBKQDyASkAAkEhAPIBIQACQR0A8gEdAAJBIQHiASEAAkEhAPIBIQACQSEB4gEhAAJBIQDyASEAAkEdAeIBHQACQRUA8gEVAAJBKQDyASkAAkEhAPIBIQACQR0A8gEdAAJBFQHiARUAAkEVAPIBFQACQRUB4gEVAAJBKQDyASkAAkEdAeIBHQACQR0A8gEdAAJBIQHiASEAAkEhAPIBIQACQSkCBNIBKQACQTECBNIBMQACQSkB4gEpAAJBIQDyASEAAkEdAeIBHQACQRUA8gEVAAJBDQIIsgENAd5AAAAD/LwA=&quot; target=&quot;_blank&quot;&gt;Download MIDI&lt;/a&gt;&lt;br&gt;&lt;/span&gt;&lt;/p&gt;\n",
       "          &lt;midi-player src=data:audio/midi;base64,TVRoZAAAAAYAAQACAHhNVHJrAAACFwD/AUQhISBQdWJsaXNoZWQgYnkgdGhlIE1lZXJ0ZW5zIEluc3RpdHV0ZSAoaHR0cDovL3d3dy5tZWVydGVucy5rbmF3Lm5sKQD/AUkhISBQYXJ0IG9mIHRoZSBEYXRhYmFzZSBvZiBEdXRjaCBTb25ncyAoTkxCKSAoaHR0cDovL3d3dy5saWVkZXJlbmJhbmsubmwpAP8BTyEhIFBhcnQgb2YgdGhlIE1lZXJ0ZW5zIFR1bmUgQ29sbGVjdGlvbnMgKE1UQykgKGh0dHA6Ly93d3cubGllZGVyZW5iYW5rLm5sL210YykA/wEfISEgTkxCIGlkZW50aWZpZXI6IE5MQjA3MjkyOF8wMQD/ARshISBOTEIgcmVjb3JkIG51bWJlcjogNzI5MjgA/wEeISEgTkxCIHN0cm9waGUvdm9pY2UgbnVtYmVyOiAxAP9RAwehIAD/AQ4hISBzZWdtZW50IDAuMAD/WAQGAyQIAP9ZAgEAiDj/AQ4hISBzZWdtZW50IDEuMIg4/wEOISEgc2VnbWVudCAyLjCFUP8BDiEhIHNlZ21lbnQgMy4whVD/AQ4hISBzZWdtZW50IDQuMIRY/wEOISEgc2VnbWVudCA1LjCGSP8BPCEhIGdlbmVyYXRlZCBieSB3Y2Uya3JuIDEuODIgKHJlbGVhc2VkIG9uIDIyIFNlcHRlbWJlciAyMDE4KQD/LwBNVHJrAAABpQCQRUA8gEVAAJBDQHiAQ0AAkENAPIBDQACQQ0B4gENAAJBHQDyAR0AAkEVAeIBFQACQRUA8gEVAAJBFQHiARUAAkEpAPIBKQACQR0CCLIBHQACQRUA8gEVAAJBDQHiAQ0AAkENAPIBDQACQQ0B4gENAAJBHQDyAR0AAkEVAeIBFQACQRUAegEVAAJBFQB6ARUAAkEVAeIBFQACQSkA8gEpAAJBHQIIsgEdAAJBHQDyAR0AAkEpAeIBKQACQSkA8gEpAAJBKQDyASkAAkEhAPIBIQACQR0A8gEdAAJBIQHiASEAAkEhAPIBIQACQSEB4gEhAAJBIQDyASEAAkEdAeIBHQACQRUA8gEVAAJBKQDyASkAAkEhAPIBIQACQR0A8gEdAAJBFQHiARUAAkEVAPIBFQACQRUB4gEVAAJBKQDyASkAAkEdAeIBHQACQR0A8gEdAAJBIQHiASEAAkEhAPIBIQACQSkCBNIBKQACQTECBNIBMQACQSkB4gEpAAJBIQDyASEAAkEdAeIBHQACQRUA8gEVAAJBDQIIsgENAd5AAAAD/LwA= sound-font visualizer=&quot;#section605 midi-visualizer&quot;&gt;&lt;/midi-player&gt;\n",
       "          &lt;midi-visualizer src=data:audio/midi;base64,TVRoZAAAAAYAAQACAHhNVHJrAAACFwD/AUQhISBQdWJsaXNoZWQgYnkgdGhlIE1lZXJ0ZW5zIEluc3RpdHV0ZSAoaHR0cDovL3d3dy5tZWVydGVucy5rbmF3Lm5sKQD/AUkhISBQYXJ0IG9mIHRoZSBEYXRhYmFzZSBvZiBEdXRjaCBTb25ncyAoTkxCKSAoaHR0cDovL3d3dy5saWVkZXJlbmJhbmsubmwpAP8BTyEhIFBhcnQgb2YgdGhlIE1lZXJ0ZW5zIFR1bmUgQ29sbGVjdGlvbnMgKE1UQykgKGh0dHA6Ly93d3cubGllZGVyZW5iYW5rLm5sL210YykA/wEfISEgTkxCIGlkZW50aWZpZXI6IE5MQjA3MjkyOF8wMQD/ARshISBOTEIgcmVjb3JkIG51bWJlcjogNzI5MjgA/wEeISEgTkxCIHN0cm9waGUvdm9pY2UgbnVtYmVyOiAxAP9RAwehIAD/AQ4hISBzZWdtZW50IDAuMAD/WAQGAyQIAP9ZAgEAiDj/AQ4hISBzZWdtZW50IDEuMIg4/wEOISEgc2VnbWVudCAyLjCFUP8BDiEhIHNlZ21lbnQgMy4whVD/AQ4hISBzZWdtZW50IDQuMIRY/wEOISEgc2VnbWVudCA1LjCGSP8BPCEhIGdlbmVyYXRlZCBieSB3Y2Uya3JuIDEuODIgKHJlbGVhc2VkIG9uIDIyIFNlcHRlbWJlciAyMDE4KQD/LwBNVHJrAAABpQCQRUA8gEVAAJBDQHiAQ0AAkENAPIBDQACQQ0B4gENAAJBHQDyAR0AAkEVAeIBFQACQRUA8gEVAAJBFQHiARUAAkEpAPIBKQACQR0CCLIBHQACQRUA8gEVAAJBDQHiAQ0AAkENAPIBDQACQQ0B4gENAAJBHQDyAR0AAkEVAeIBFQACQRUAegEVAAJBFQB6ARUAAkEVAeIBFQACQSkA8gEpAAJBHQIIsgEdAAJBHQDyAR0AAkEpAeIBKQACQSkA8gEpAAJBKQDyASkAAkEhAPIBIQACQR0A8gEdAAJBIQHiASEAAkEhAPIBIQACQSEB4gEhAAJBIQDyASEAAkEdAeIBHQACQRUA8gEVAAJBKQDyASkAAkEhAPIBIQACQR0A8gEdAAJBFQHiARUAAkEVAPIBFQACQRUB4gEVAAJBKQDyASkAAkEdAeIBHQACQR0A8gEdAAJBIQHiASEAAkEhAPIBIQACQSkCBNIBKQACQTECBNIBMQACQSkB4gEpAAJBIQDyASEAAkEdAeIBHQACQRUA8gEVAAJBDQIIsgENAd5AAAAD/LwA= type=piano-roll&gt;&lt;/midi-visualizer&gt;\n",
       "          &lt;/section&gt;\n",
       "          \" width=\"100%\" height=\"400\"\n",
       "            style=\"border:none !important;\"\n",
       "            \"allowfullscreen\" \"webkitallowfullscreen\" \"mozallowfullscreen\">'\n",
       "            </iframe>"
      ],
      "text/plain": [
       "<midi_player.midi_player.MIDIPlayer at 0x1f2dcf6d790>"
      ]
     },
     "execution_count": 9,
     "metadata": {},
     "output_type": "execute_result"
    }
   ],
   "source": [
    "from sms.src.synthetic_data.midi_inserter import MidiInserter\n",
    "from sms.src.synthetic_data.monophonic_melody_extractor import MonophonicMelodyExtractor\n",
    "from sms.src.log import configure_logging\n",
    "import logging\n",
    "\n",
    "logger = getLogger(__name__)\n",
    "\n",
    "configure_logging()\n",
    "\n",
    "path = MONOPHONIC_MIDIS_PATH\n",
    "path = r\"C:\\Users\\cunn2\\OneDrive\\DSML\\Project\\thesis-repo\\data\\synthetic_dataset\\monophonic_midis\\midi_mono\"\n",
    "\n",
    "monophonic_melodies = [os.path.join(root, f) for root, dirs, files in os.walk(path) for f in files if f.endswith('.mid')]\n",
    "\n",
    "file = monophonic_melodies[2067]\n",
    "print(file)\n",
    "# file = r\"C:\\Users\\cunn2\\Desktop\\midi_databases\\aa_midis\\No-Scrubs.mid\"\n",
    "# extractor = MonophonicMelodyExtractor()\n",
    "# extractor.make_file_valid(file, file)\n",
    "\n",
    "MIDIPlayer(file, height=400, styler=cifka_advanced)\n"
   ]
  },
  {
   "cell_type": "code",
   "execution_count": 10,
   "metadata": {},
   "outputs": [
    {
     "name": "stdout",
     "output_type": "stream",
     "text": [
      "<meta message set_tempo tempo=500000 time=0>\n",
      "<meta message time_signature numerator=6 denominator=8 clocks_per_click=24 notated_32nd_notes_per_beat=8 time=0>\n",
      "note_off channel=0 note=69 velocity=64 time=0\n",
      "note_on channel=0 note=74 velocity=64 time=0\n",
      "note_off channel=0 note=74 velocity=64 time=60\n",
      "note_on channel=0 note=71 velocity=64 time=0\n",
      "<meta message text text='!! segment 1.0' time=300>\n",
      "note_off channel=0 note=71 velocity=64 time=0\n",
      "note_on channel=0 note=69 velocity=64 time=0\n",
      "note_off channel=0 note=69 velocity=64 time=60\n",
      "note_on channel=0 note=67 velocity=64 time=0\n",
      "note_off channel=0 note=67 velocity=64 time=120\n",
      "note_on channel=0 note=67 velocity=64 time=0\n",
      "note_off channel=0 note=67 velocity=64 time=60\n",
      "note_on channel=0 note=67 velocity=64 time=0\n",
      "<meta message end_of_track time=0>\n"
     ]
    },
    {
     "data": {
      "text/html": [
       "<iframe srcdoc=\"&lt;script src=&quot;https://cdn.jsdelivr.net/combine/npm/tone@14.7.58,npm/@magenta/music@1.23.1/es6/core.js,npm/focus-visible@5,npm/html-midi-player@1.5.0&quot;&gt;&lt;/script&gt;\n",
       "&lt;style&gt;\n",
       "/* Custom player style */\n",
       "#section541 midi-player {\n",
       "  display: block;\n",
       "  width: inherit;\n",
       "  margin: 4px;\n",
       "  margin-bottom: 0;\n",
       "  font-family: Arial;\n",
       "}\n",
       "p { margin:0 }\n",
       "\n",
       "#section541 midi-player::part(control-panel) {\n",
       "  background: #ff5;\n",
       "  border: 2px solid #000;\n",
       "  border-radius: 10px 10px 0 0;\n",
       "}\n",
       "#section541 midi-player::part(play-button) {\n",
       "  color: #353;\n",
       "  border: 2px solid currentColor;\n",
       "  background-color: #4d4;\n",
       "  border-radius: 20px;\n",
       "  transition: all 0.2s;\n",
       "  content: &#x27;hello&#x27;;\n",
       "}\n",
       "#section541 midi-player::part(play-button):hover {\n",
       "  color: #0a0;\n",
       "  background-color: #5f5;\n",
       "  border-radius: 10px;\n",
       "}\n",
       "#section541 midi-player::part(time) {\n",
       "  font-family: monospace;\n",
       "}\n",
       "\n",
       "/* Custom visualizer style */\n",
       "#section541 midi-visualizer .piano-roll-visualizer {\n",
       "  background: #ffd;\n",
       "  border: 2px solid black;\n",
       "  border-top: none;\n",
       "  border-radius: 0 0 10px 10px;\n",
       "  margin: 4px;\n",
       "  width: inherit;\n",
       "  margin-top: 0;\n",
       "  overflow: auto;\n",
       "}\n",
       "#section541 midi-visualizer svg rect.note {\n",
       "  opacity: 0.6;\n",
       "  stroke-width: 2;\n",
       "}\n",
       "#section541 midi-visualizer svg rect.note[data-instrument=&quot;0&quot;]{\n",
       "  fill: #e22;\n",
       "  stroke: #500;\n",
       "}\n",
       "#section541 midi-visualizer svg rect.note[data-instrument=&quot;2&quot;]{\n",
       "  fill: #2ee;\n",
       "  stroke: #055;\n",
       "}\n",
       "#section541 midi-visualizer svg rect.note[data-is-drum=&quot;true&quot;]{\n",
       "  fill: #888;\n",
       "  stroke: #888;\n",
       "}\n",
       "#section541 midi-visualizer svg rect.note.active {\n",
       "  opacity: 0.9;\n",
       "  stroke: #000;\n",
       "  stroke-width: 3;\n",
       "}\n",
       "&lt;/style&gt;\n",
       "\n",
       "          &lt;section id=&quot;section541&quot;&gt;&lt;p style=&quot;text-align:left;font-family:Arial;&quot;&gt;&amp;nbsp;&lt;span style=&quot;float:right;&quot;&gt;&lt;a href=&quot;data:audio/midi;base64,TVRoZAAAAAYAAQABAHhNVHJrAAAAVgD/UQMHoSAA/1gEBgMYCACARUAAkEpAPIBKQACQR0CCLP8BDiEhIHNlZ21lbnQgMS4wAIBHQACQRUA8gEVAAJBDQHiAQ0AAkENAPIBDQACQQ0AA/y8A&quot; target=&quot;_blank&quot;&gt;Download MIDI&lt;/a&gt;&lt;br&gt;&lt;/span&gt;&lt;/p&gt;\n",
       "          &lt;midi-player src=data:audio/midi;base64,TVRoZAAAAAYAAQABAHhNVHJrAAAAVgD/UQMHoSAA/1gEBgMYCACARUAAkEpAPIBKQACQR0CCLP8BDiEhIHNlZ21lbnQgMS4wAIBHQACQRUA8gEVAAJBDQHiAQ0AAkENAPIBDQACQQ0AA/y8A sound-font visualizer=&quot;#section541 midi-visualizer&quot;&gt;&lt;/midi-player&gt;\n",
       "          &lt;midi-visualizer src=data:audio/midi;base64,TVRoZAAAAAYAAQABAHhNVHJrAAAAVgD/UQMHoSAA/1gEBgMYCACARUAAkEpAPIBKQACQR0CCLP8BDiEhIHNlZ21lbnQgMS4wAIBHQACQRUA8gEVAAJBDQHiAQ0AAkENAPIBDQACQQ0AA/y8A type=piano-roll&gt;&lt;/midi-visualizer&gt;\n",
       "          &lt;/section&gt;\n",
       "          \" width=\"100%\" height=\"400\"\n",
       "            style=\"border:none !important;\"\n",
       "            \"allowfullscreen\" \"webkitallowfullscreen\" \"mozallowfullscreen\">'\n",
       "            </iframe>"
      ],
      "text/plain": [
       "<midi_player.midi_player.MIDIPlayer at 0x1f2adf6d970>"
      ]
     },
     "execution_count": 10,
     "metadata": {},
     "output_type": "execute_result"
    }
   ],
   "source": [
    "import mido\n",
    "bar_extractor = MidiInserter()\n",
    "dest = 'dest.midi'\n",
    "bar_extractor.extract_bars(file, dest, 1, 1)\n",
    "# Print notes in the MIDI file\n",
    "midi = mido.MidiFile(dest)\n",
    "notes = []\n",
    "current_time = 0\n",
    "for track in midi.tracks:\n",
    "    for msg in track:\n",
    "        print(msg)\n",
    "        current_time += msg.time\n",
    "MIDIPlayer(dest, height=400, styler=cifka_advanced)\n"
   ]
  },
  {
   "cell_type": "code",
   "execution_count": 12,
   "metadata": {},
   "outputs": [
    {
     "name": "stdout",
     "output_type": "stream",
     "text": [
      "<meta message set_tempo tempo=645160 time=0>\n",
      "<meta message time_signature numerator=4 denominator=4 clocks_per_click=24 notated_32nd_notes_per_beat=8 time=0>\n",
      "note_on channel=0 note=51 velocity=80 time=0\n",
      "note_on channel=0 note=51 velocity=0 time=55\n",
      "note_on channel=0 note=67 velocity=80 time=0\n",
      "note_on channel=0 note=67 velocity=0 time=55\n",
      "note_on channel=0 note=70 velocity=80 time=0\n",
      "note_on channel=0 note=70 velocity=0 time=55\n",
      "note_on channel=0 note=73 velocity=80 time=0\n",
      "note_on channel=0 note=73 velocity=0 time=220\n",
      "note_on channel=0 note=56 velocity=80 time=55\n",
      "note_on channel=0 note=56 velocity=0 time=55\n",
      "note_on channel=0 note=68 velocity=80 time=0\n",
      "note_on channel=0 note=68 velocity=0 time=55\n",
      "note_on channel=0 note=71 velocity=80 time=0\n",
      "note_on channel=0 note=71 velocity=0 time=55\n",
      "note_on channel=0 note=75 velocity=80 time=0\n",
      "note_on channel=0 note=75 velocity=0 time=220\n",
      "<meta message end_of_track time=0>\n"
     ]
    },
    {
     "data": {
      "text/html": [
       "<iframe srcdoc=\"&lt;script src=&quot;https://cdn.jsdelivr.net/combine/npm/tone@14.7.58,npm/@magenta/music@1.23.1/es6/core.js,npm/focus-visible@5,npm/html-midi-player@1.5.0&quot;&gt;&lt;/script&gt;\n",
       "&lt;style&gt;\n",
       "/* Custom player style */\n",
       "#section93 midi-player {\n",
       "  display: block;\n",
       "  width: inherit;\n",
       "  margin: 4px;\n",
       "  margin-bottom: 0;\n",
       "  font-family: Arial;\n",
       "}\n",
       "p { margin:0 }\n",
       "\n",
       "#section93 midi-player::part(control-panel) {\n",
       "  background: #ff5;\n",
       "  border: 2px solid #000;\n",
       "  border-radius: 10px 10px 0 0;\n",
       "}\n",
       "#section93 midi-player::part(play-button) {\n",
       "  color: #353;\n",
       "  border: 2px solid currentColor;\n",
       "  background-color: #4d4;\n",
       "  border-radius: 20px;\n",
       "  transition: all 0.2s;\n",
       "  content: &#x27;hello&#x27;;\n",
       "}\n",
       "#section93 midi-player::part(play-button):hover {\n",
       "  color: #0a0;\n",
       "  background-color: #5f5;\n",
       "  border-radius: 10px;\n",
       "}\n",
       "#section93 midi-player::part(time) {\n",
       "  font-family: monospace;\n",
       "}\n",
       "\n",
       "/* Custom visualizer style */\n",
       "#section93 midi-visualizer .piano-roll-visualizer {\n",
       "  background: #ffd;\n",
       "  border: 2px solid black;\n",
       "  border-top: none;\n",
       "  border-radius: 0 0 10px 10px;\n",
       "  margin: 4px;\n",
       "  width: inherit;\n",
       "  margin-top: 0;\n",
       "  overflow: auto;\n",
       "}\n",
       "#section93 midi-visualizer svg rect.note {\n",
       "  opacity: 0.6;\n",
       "  stroke-width: 2;\n",
       "}\n",
       "#section93 midi-visualizer svg rect.note[data-instrument=&quot;0&quot;]{\n",
       "  fill: #e22;\n",
       "  stroke: #500;\n",
       "}\n",
       "#section93 midi-visualizer svg rect.note[data-instrument=&quot;2&quot;]{\n",
       "  fill: #2ee;\n",
       "  stroke: #055;\n",
       "}\n",
       "#section93 midi-visualizer svg rect.note[data-is-drum=&quot;true&quot;]{\n",
       "  fill: #888;\n",
       "  stroke: #888;\n",
       "}\n",
       "#section93 midi-visualizer svg rect.note.active {\n",
       "  opacity: 0.9;\n",
       "  stroke: #000;\n",
       "  stroke-width: 3;\n",
       "}\n",
       "&lt;/style&gt;\n",
       "\n",
       "          &lt;section id=&quot;section93&quot;&gt;&lt;p style=&quot;text-align:left;font-family:Arial;&quot;&gt;&amp;nbsp;&lt;span style=&quot;float:right;&quot;&gt;&lt;a href=&quot;data:audio/midi;base64,TVRoZAAAAAYAAQABANxNVHJrAAAARgD/UQMJ2CgA/1gEBAIYCACQM1A3MwAAQ1A3QwAARlA3RgAASVCBXEkANzhQNzgAAERQN0QAAEdQN0cAAEtQgVxLAAD/LwA=&quot; target=&quot;_blank&quot;&gt;Download MIDI&lt;/a&gt;&lt;br&gt;&lt;/span&gt;&lt;/p&gt;\n",
       "          &lt;midi-player src=data:audio/midi;base64,TVRoZAAAAAYAAQABANxNVHJrAAAARgD/UQMJ2CgA/1gEBAIYCACQM1A3MwAAQ1A3QwAARlA3RgAASVCBXEkANzhQNzgAAERQN0QAAEdQN0cAAEtQgVxLAAD/LwA= sound-font visualizer=&quot;#section93 midi-visualizer&quot;&gt;&lt;/midi-player&gt;\n",
       "          &lt;midi-visualizer src=data:audio/midi;base64,TVRoZAAAAAYAAQABANxNVHJrAAAARgD/UQMJ2CgA/1gEBAIYCACQM1A3MwAAQ1A3QwAARlA3RgAASVCBXEkANzhQNzgAAERQN0QAAEdQN0cAAEtQgVxLAAD/LwA= type=piano-roll&gt;&lt;/midi-visualizer&gt;\n",
       "          &lt;/section&gt;\n",
       "          \" width=\"100%\" height=\"400\"\n",
       "            style=\"border:none !important;\"\n",
       "            \"allowfullscreen\" \"webkitallowfullscreen\" \"mozallowfullscreen\">'\n",
       "            </iframe>"
      ],
      "text/plain": [
       "<midi_player.midi_player.MIDIPlayer at 0x1a23bdbebe0>"
      ]
     },
     "execution_count": 12,
     "metadata": {},
     "output_type": "execute_result"
    }
   ],
   "source": [
    "import mido \n",
    "from sms.src.synthetic_data.midi_modifier import MidiModifier, MidiModifierConfig, Note\n",
    "\n",
    "modified_dest = \"modified_dest.midi\"\n",
    "\n",
    "midi = MidiFile(dest) \n",
    "\n",
    "midi_modifier = MidiModifier()\n",
    "available_notes = midi_modifier.identify_note_events(midi)\n",
    "\n",
    "config_transposition = MidiModifierConfig(\n",
    "    use_transposition=True,\n",
    "    transposition_semitone=12\n",
    ")\n",
    "\n",
    "config_selected_notes = MidiModifierConfig(\n",
    "    use_shift_selected_notes_pitch=True,\n",
    "    selected_notes_pitch_shifts=[(available_notes[0], 30)]\n",
    ")\n",
    "\n",
    "config_durations = MidiModifierConfig(\n",
    "    use_change_note_durations=True,\n",
    "    note_scale_factors=[(available_notes[5], 5.0)]\n",
    ")\n",
    "\n",
    "config_delete_notes = MidiModifierConfig(\n",
    "    use_delete_notes=True,\n",
    "    notes_to_delete=[available_notes[0], available_notes[1]]\n",
    ")\n",
    "\n",
    "midi_modifier.modify_midi(midi, config_transposition, modified_dest)\n",
    "\n",
    "midi_modified = MidiFile(modified_dest)\n",
    "\n",
    "for msg in midi_modified.tracks[0]:\n",
    "    print(msg)\n",
    "\n",
    "# Play the modified MIDI\n",
    "MIDIPlayer(modified_dest, height=400, styler=cifka_advanced)\n",
    "\n"
   ]
  },
  {
   "cell_type": "code",
   "execution_count": 5,
   "metadata": {},
   "outputs": [
    {
     "name": "stdout",
     "output_type": "stream",
     "text": [
      "INFO:tensorflow:Building MusicVAE model with BidirectionalLstmEncoder, CategoricalLstmDecoder, and hparams:\n",
      "{'max_seq_len': 32, 'z_size': 512, 'free_bits': 0, 'max_beta': 0.5, 'beta_rate': 0.99999, 'batch_size': 4, 'grad_clip': 1.0, 'clip_mode': 'global_norm', 'grad_norm_clip_to_zero': 10000, 'learning_rate': 0.001, 'decay_rate': 0.9999, 'min_learning_rate': 1e-05, 'conditional': True, 'dec_rnn_size': [2048, 2048, 2048], 'enc_rnn_size': [2048], 'dropout_keep_prob': 1.0, 'sampling_schedule': 'inverse_sigmoid', 'sampling_rate': 1000, 'use_cudnn': False, 'residual_encoder': False, 'residual_decoder': False, 'control_preprocessing_rnn_size': [256]}\n"
     ]
    },
    {
     "name": "stderr",
     "output_type": "stream",
     "text": [
      "INFO:tensorflow:Building MusicVAE model with BidirectionalLstmEncoder, CategoricalLstmDecoder, and hparams:\n",
      "{'max_seq_len': 32, 'z_size': 512, 'free_bits': 0, 'max_beta': 0.5, 'beta_rate': 0.99999, 'batch_size': 4, 'grad_clip': 1.0, 'clip_mode': 'global_norm', 'grad_norm_clip_to_zero': 10000, 'learning_rate': 0.001, 'decay_rate': 0.9999, 'min_learning_rate': 1e-05, 'conditional': True, 'dec_rnn_size': [2048, 2048, 2048], 'enc_rnn_size': [2048], 'dropout_keep_prob': 1.0, 'sampling_schedule': 'inverse_sigmoid', 'sampling_rate': 1000, 'use_cudnn': False, 'residual_encoder': False, 'residual_decoder': False, 'control_preprocessing_rnn_size': [256]}\n"
     ]
    },
    {
     "name": "stdout",
     "output_type": "stream",
     "text": [
      "INFO:tensorflow:\n",
      "Encoder Cells (bidirectional):\n",
      "  units: [2048]\n",
      "\n"
     ]
    },
    {
     "name": "stderr",
     "output_type": "stream",
     "text": [
      "INFO:tensorflow:\n",
      "Encoder Cells (bidirectional):\n",
      "  units: [2048]\n",
      "\n"
     ]
    },
    {
     "name": "stdout",
     "output_type": "stream",
     "text": [
      "WARNING:tensorflow:`tf.nn.rnn_cell.MultiRNNCell` is deprecated. This class is equivalent as `tf.keras.layers.StackedRNNCells`, and will be replaced by that in Tensorflow 2.0.\n"
     ]
    },
    {
     "name": "stderr",
     "output_type": "stream",
     "text": [
      "WARNING:tensorflow:`tf.nn.rnn_cell.MultiRNNCell` is deprecated. This class is equivalent as `tf.keras.layers.StackedRNNCells`, and will be replaced by that in Tensorflow 2.0.\n"
     ]
    },
    {
     "name": "stdout",
     "output_type": "stream",
     "text": [
      "WARNING:tensorflow:`tf.nn.rnn_cell.MultiRNNCell` is deprecated. This class is equivalent as `tf.keras.layers.StackedRNNCells`, and will be replaced by that in Tensorflow 2.0.\n"
     ]
    },
    {
     "name": "stderr",
     "output_type": "stream",
     "text": [
      "WARNING:tensorflow:`tf.nn.rnn_cell.MultiRNNCell` is deprecated. This class is equivalent as `tf.keras.layers.StackedRNNCells`, and will be replaced by that in Tensorflow 2.0.\n"
     ]
    },
    {
     "name": "stdout",
     "output_type": "stream",
     "text": [
      "INFO:tensorflow:\n",
      "Decoder Cells:\n",
      "  units: [2048, 2048, 2048]\n",
      "\n"
     ]
    },
    {
     "name": "stderr",
     "output_type": "stream",
     "text": [
      "INFO:tensorflow:\n",
      "Decoder Cells:\n",
      "  units: [2048, 2048, 2048]\n",
      "\n"
     ]
    },
    {
     "name": "stdout",
     "output_type": "stream",
     "text": [
      "WARNING:tensorflow:Setting non-training sampling schedule from inverse_sigmoid:1000.000000 to constant:1.0.\n"
     ]
    },
    {
     "name": "stderr",
     "output_type": "stream",
     "text": [
      "WARNING:tensorflow:Setting non-training sampling schedule from inverse_sigmoid:1000.000000 to constant:1.0.\n"
     ]
    },
    {
     "name": "stdout",
     "output_type": "stream",
     "text": [
      "WARNING:tensorflow:From c:\\Users\\cunn2\\miniconda3\\envs\\magenta\\lib\\site-packages\\tensorflow\\python\\util\\dispatch.py:1082: to_float (from tensorflow.python.ops.math_ops) is deprecated and will be removed in a future version.\n",
      "Instructions for updating:\n",
      "Use `tf.cast` instead.\n"
     ]
    },
    {
     "name": "stderr",
     "output_type": "stream",
     "text": [
      "WARNING:tensorflow:From c:\\Users\\cunn2\\miniconda3\\envs\\magenta\\lib\\site-packages\\tensorflow\\python\\util\\dispatch.py:1082: to_float (from tensorflow.python.ops.math_ops) is deprecated and will be removed in a future version.\n",
      "Instructions for updating:\n",
      "Use `tf.cast` instead.\n"
     ]
    },
    {
     "name": "stdout",
     "output_type": "stream",
     "text": [
      "WARNING:tensorflow:`tf.nn.rnn_cell.MultiRNNCell` is deprecated. This class is equivalent as `tf.keras.layers.StackedRNNCells`, and will be replaced by that in Tensorflow 2.0.\n"
     ]
    },
    {
     "name": "stderr",
     "output_type": "stream",
     "text": [
      "WARNING:tensorflow:`tf.nn.rnn_cell.MultiRNNCell` is deprecated. This class is equivalent as `tf.keras.layers.StackedRNNCells`, and will be replaced by that in Tensorflow 2.0.\n",
      "c:\\Users\\cunn2\\miniconda3\\envs\\magenta\\lib\\site-packages\\magenta\\models\\music_vae\\lstm_utils.py:94: UserWarning: `tf.layers.dense` is deprecated and will be removed in a future version. Please use `tf.keras.layers.Dense` instead.\n",
      "  tf.layers.dense(\n",
      "c:\\Users\\cunn2\\miniconda3\\envs\\magenta\\lib\\site-packages\\magenta\\contrib\\rnn.py:749: UserWarning: `layer.add_variable` is deprecated and will be removed in a future version. Please use the `layer.add_weight()` method instead.\n",
      "  self._kernel = self.add_variable(\n",
      "c:\\Users\\cunn2\\miniconda3\\envs\\magenta\\lib\\site-packages\\magenta\\contrib\\rnn.py:751: UserWarning: `layer.add_variable` is deprecated and will be removed in a future version. Please use the `layer.add_weight()` method instead.\n",
      "  self._bias = self.add_variable(\n"
     ]
    },
    {
     "name": "stdout",
     "output_type": "stream",
     "text": [
      "WARNING:tensorflow:From c:\\Users\\cunn2\\miniconda3\\envs\\magenta\\lib\\site-packages\\magenta\\contrib\\rnn.py:463: bidirectional_dynamic_rnn (from tensorflow.python.ops.rnn) is deprecated and will be removed in a future version.\n",
      "Instructions for updating:\n",
      "Please use `keras.layers.Bidirectional(keras.layers.RNN(cell))`, which is equivalent to this API\n"
     ]
    },
    {
     "name": "stderr",
     "output_type": "stream",
     "text": [
      "WARNING:tensorflow:From c:\\Users\\cunn2\\miniconda3\\envs\\magenta\\lib\\site-packages\\magenta\\contrib\\rnn.py:463: bidirectional_dynamic_rnn (from tensorflow.python.ops.rnn) is deprecated and will be removed in a future version.\n",
      "Instructions for updating:\n",
      "Please use `keras.layers.Bidirectional(keras.layers.RNN(cell))`, which is equivalent to this API\n"
     ]
    },
    {
     "name": "stdout",
     "output_type": "stream",
     "text": [
      "WARNING:tensorflow:From c:\\Users\\cunn2\\miniconda3\\envs\\magenta\\lib\\site-packages\\tensorflow\\python\\ops\\rnn.py:437: dynamic_rnn (from tensorflow.python.ops.rnn) is deprecated and will be removed in a future version.\n",
      "Instructions for updating:\n",
      "Please use `keras.layers.RNN(cell)`, which is equivalent to this API\n"
     ]
    },
    {
     "name": "stderr",
     "output_type": "stream",
     "text": [
      "WARNING:tensorflow:From c:\\Users\\cunn2\\miniconda3\\envs\\magenta\\lib\\site-packages\\tensorflow\\python\\ops\\rnn.py:437: dynamic_rnn (from tensorflow.python.ops.rnn) is deprecated and will be removed in a future version.\n",
      "Instructions for updating:\n",
      "Please use `keras.layers.RNN(cell)`, which is equivalent to this API\n",
      "c:\\Users\\cunn2\\miniconda3\\envs\\magenta\\lib\\site-packages\\magenta\\models\\music_vae\\base_model.py:195: UserWarning: `tf.layers.dense` is deprecated and will be removed in a future version. Please use `tf.keras.layers.Dense` instead.\n",
      "  mu = tf.layers.dense(\n"
     ]
    },
    {
     "name": "stdout",
     "output_type": "stream",
     "text": [
      "WARNING:tensorflow:From c:\\Users\\cunn2\\miniconda3\\envs\\magenta\\lib\\site-packages\\tensorflow_probability\\python\\distributions\\distribution.py:342: calling MultivariateNormalDiag.__init__ (from tensorflow_probability.python.distributions.mvn_diag) with scale_identity_multiplier is deprecated and will be removed after 2020-01-01.\n",
      "Instructions for updating:\n",
      "`scale_identity_multiplier` is deprecated; please combine it into `scale_diag` directly instead.\n"
     ]
    },
    {
     "name": "stderr",
     "output_type": "stream",
     "text": [
      "c:\\Users\\cunn2\\miniconda3\\envs\\magenta\\lib\\site-packages\\magenta\\models\\music_vae\\base_model.py:200: UserWarning: `tf.layers.dense` is deprecated and will be removed in a future version. Please use `tf.keras.layers.Dense` instead.\n",
      "  sigma = tf.layers.dense(\n",
      "WARNING:tensorflow:From c:\\Users\\cunn2\\miniconda3\\envs\\magenta\\lib\\site-packages\\tensorflow_probability\\python\\distributions\\distribution.py:342: calling MultivariateNormalDiag.__init__ (from tensorflow_probability.python.distributions.mvn_diag) with scale_identity_multiplier is deprecated and will be removed after 2020-01-01.\n",
      "Instructions for updating:\n",
      "`scale_identity_multiplier` is deprecated; please combine it into `scale_diag` directly instead.\n"
     ]
    },
    {
     "ename": "ValueError",
     "evalue": "The passed save_path is not a valid checkpoint: plagdet/models/music_vae/2_bar_melody/cat-mel_2bar_big.ckpt",
     "output_type": "error",
     "traceback": [
      "\u001b[1;31m---------------------------------------------------------------------------\u001b[0m",
      "\u001b[1;31mValueError\u001b[0m                                Traceback (most recent call last)",
      "Cell \u001b[1;32mIn[5], line 1\u001b[0m\n\u001b[1;32m----> 1\u001b[0m encoder \u001b[38;5;241m=\u001b[39m \u001b[43mMel2barEncoderCustom\u001b[49m\u001b[43m(\u001b[49m\u001b[43m)\u001b[49m\n\u001b[0;32m      3\u001b[0m encoded_midis \u001b[38;5;241m=\u001b[39m encoder\u001b[38;5;241m.\u001b[39mencode_midis([dest, modified_dest])\n\u001b[0;32m      5\u001b[0m np\u001b[38;5;241m.\u001b[39mlinalg\u001b[38;5;241m.\u001b[39mnorm(encoded_midis[\u001b[38;5;124m'\u001b[39m\u001b[38;5;124mdest.midi\u001b[39m\u001b[38;5;124m'\u001b[39m][\u001b[38;5;124m'\u001b[39m\u001b[38;5;124m0\u001b[39m\u001b[38;5;124m'\u001b[39m] \u001b[38;5;241m-\u001b[39m encoded_midis[\u001b[38;5;124m'\u001b[39m\u001b[38;5;124mmodified_dest.midi\u001b[39m\u001b[38;5;124m'\u001b[39m][\u001b[38;5;124m'\u001b[39m\u001b[38;5;124m0\u001b[39m\u001b[38;5;124m'\u001b[39m])\n",
      "File \u001b[1;32mc:\\Users\\cunn2\\OneDrive\\DSML\\Project\\thesis-repo\\sms\\src\\embeddings\\music_vae\\two_bar_encoder.py:34\u001b[0m, in \u001b[0;36mMel2barEncoder.__init__\u001b[1;34m(self, use_custom_config, custom_config, model_path)\u001b[0m\n\u001b[0;32m     32\u001b[0m \u001b[38;5;28;01melse\u001b[39;00m:\n\u001b[0;32m     33\u001b[0m     \u001b[38;5;28mself\u001b[39m\u001b[38;5;241m.\u001b[39mconfig \u001b[38;5;241m=\u001b[39m configs\u001b[38;5;241m.\u001b[39mCONFIG_MAP[MUSICVAE_2BAR_BIG_CONFIG]\n\u001b[1;32m---> 34\u001b[0m \u001b[38;5;28mself\u001b[39m\u001b[38;5;241m.\u001b[39mmodel \u001b[38;5;241m=\u001b[39m \u001b[43mTrainedModel\u001b[49m\u001b[43m(\u001b[49m\n\u001b[0;32m     35\u001b[0m \u001b[43m    \u001b[49m\u001b[38;5;28;43mself\u001b[39;49m\u001b[38;5;241;43m.\u001b[39;49m\u001b[43mconfig\u001b[49m\u001b[43m,\u001b[49m\u001b[43m \u001b[49m\n\u001b[0;32m     36\u001b[0m \u001b[43m    \u001b[49m\u001b[43mbatch_size\u001b[49m\u001b[38;5;241;43m=\u001b[39;49m\u001b[38;5;241;43m4\u001b[39;49m\u001b[43m,\u001b[49m\n\u001b[0;32m     37\u001b[0m \u001b[43m    \u001b[49m\u001b[43mcheckpoint_dir_or_path\u001b[49m\u001b[38;5;241;43m=\u001b[39;49m\u001b[43mmodel_path\u001b[49m\n\u001b[0;32m     38\u001b[0m \u001b[43m\u001b[49m\u001b[43m)\u001b[49m\n",
      "File \u001b[1;32mc:\\Users\\cunn2\\miniconda3\\envs\\magenta\\lib\\site-packages\\magenta\\models\\music_vae\\trained_model.py:133\u001b[0m, in \u001b[0;36mTrainedModel.__init__\u001b[1;34m(self, config, batch_size, checkpoint_dir_or_path, var_name_substitutions, session_target, **sample_kwargs)\u001b[0m\n\u001b[0;32m    131\u001b[0m     saver\u001b[38;5;241m.\u001b[39mrestore(\u001b[38;5;28mself\u001b[39m\u001b[38;5;241m.\u001b[39m_sess, checkpoint_path)\n\u001b[0;32m    132\u001b[0m \u001b[38;5;28;01melse\u001b[39;00m:\n\u001b[1;32m--> 133\u001b[0m   \u001b[43msaver\u001b[49m\u001b[38;5;241;43m.\u001b[39;49m\u001b[43mrestore\u001b[49m\u001b[43m(\u001b[49m\u001b[38;5;28;43mself\u001b[39;49m\u001b[38;5;241;43m.\u001b[39;49m\u001b[43m_sess\u001b[49m\u001b[43m,\u001b[49m\u001b[43m \u001b[49m\u001b[43mcheckpoint_path\u001b[49m\u001b[43m)\u001b[49m\n",
      "File \u001b[1;32mc:\\Users\\cunn2\\miniconda3\\envs\\magenta\\lib\\site-packages\\tensorflow\\python\\training\\saver.py:1409\u001b[0m, in \u001b[0;36mSaver.restore\u001b[1;34m(self, sess, save_path)\u001b[0m\n\u001b[0;32m   1407\u001b[0m checkpoint_prefix \u001b[38;5;241m=\u001b[39m compat\u001b[38;5;241m.\u001b[39mas_text(save_path)\n\u001b[0;32m   1408\u001b[0m \u001b[38;5;28;01mif\u001b[39;00m \u001b[38;5;129;01mnot\u001b[39;00m checkpoint_management\u001b[38;5;241m.\u001b[39mcheckpoint_exists_internal(checkpoint_prefix):\n\u001b[1;32m-> 1409\u001b[0m   \u001b[38;5;28;01mraise\u001b[39;00m \u001b[38;5;167;01mValueError\u001b[39;00m(\u001b[38;5;124m\"\u001b[39m\u001b[38;5;124mThe passed save_path is not a valid checkpoint: \u001b[39m\u001b[38;5;124m\"\u001b[39m \u001b[38;5;241m+\u001b[39m\n\u001b[0;32m   1410\u001b[0m                    checkpoint_prefix)\n\u001b[0;32m   1412\u001b[0m logging\u001b[38;5;241m.\u001b[39minfo(\u001b[38;5;124m\"\u001b[39m\u001b[38;5;124mRestoring parameters from \u001b[39m\u001b[38;5;132;01m%s\u001b[39;00m\u001b[38;5;124m\"\u001b[39m, checkpoint_prefix)\n\u001b[0;32m   1413\u001b[0m \u001b[38;5;28;01mtry\u001b[39;00m:\n",
      "\u001b[1;31mValueError\u001b[0m: The passed save_path is not a valid checkpoint: plagdet/models/music_vae/2_bar_melody/cat-mel_2bar_big.ckpt"
     ]
    }
   ],
   "source": [
    "encoder = Mel2barEncoderCustom()\n",
    "\n",
    "encoded_midis = encoder.encode_midis([dest, modified_dest])\n",
    "\n",
    "np.linalg.norm(encoded_midis['dest.midi']['0'] - encoded_midis['modified_dest.midi']['0'])\n",
    "\n"
   ]
  },
  {
   "cell_type": "code",
   "execution_count": null,
   "metadata": {},
   "outputs": [
    {
     "name": "stdout",
     "output_type": "stream",
     "text": [
      "INFO:tensorflow:Building MusicVAE model with BidirectionalLstmEncoder, CategoricalLstmDecoder, and hparams:\n",
      "{'max_seq_len': 32, 'z_size': 512, 'free_bits': 0, 'max_beta': 0.5, 'beta_rate': 0.99999, 'batch_size': 4, 'grad_clip': 1.0, 'clip_mode': 'global_norm', 'grad_norm_clip_to_zero': 10000, 'learning_rate': 0.001, 'decay_rate': 0.9999, 'min_learning_rate': 1e-05, 'conditional': True, 'dec_rnn_size': [2048, 2048, 2048], 'enc_rnn_size': [2048], 'dropout_keep_prob': 1.0, 'sampling_schedule': 'inverse_sigmoid', 'sampling_rate': 1000, 'use_cudnn': False, 'residual_encoder': False, 'residual_decoder': False, 'control_preprocessing_rnn_size': [256]}\n"
     ]
    },
    {
     "name": "stderr",
     "output_type": "stream",
     "text": [
      "INFO:tensorflow:Building MusicVAE model with BidirectionalLstmEncoder, CategoricalLstmDecoder, and hparams:\n",
      "{'max_seq_len': 32, 'z_size': 512, 'free_bits': 0, 'max_beta': 0.5, 'beta_rate': 0.99999, 'batch_size': 4, 'grad_clip': 1.0, 'clip_mode': 'global_norm', 'grad_norm_clip_to_zero': 10000, 'learning_rate': 0.001, 'decay_rate': 0.9999, 'min_learning_rate': 1e-05, 'conditional': True, 'dec_rnn_size': [2048, 2048, 2048], 'enc_rnn_size': [2048], 'dropout_keep_prob': 1.0, 'sampling_schedule': 'inverse_sigmoid', 'sampling_rate': 1000, 'use_cudnn': False, 'residual_encoder': False, 'residual_decoder': False, 'control_preprocessing_rnn_size': [256]}\n"
     ]
    },
    {
     "name": "stdout",
     "output_type": "stream",
     "text": [
      "INFO:tensorflow:\n",
      "Encoder Cells (bidirectional):\n",
      "  units: [2048]\n",
      "\n"
     ]
    },
    {
     "name": "stderr",
     "output_type": "stream",
     "text": [
      "INFO:tensorflow:\n",
      "Encoder Cells (bidirectional):\n",
      "  units: [2048]\n",
      "\n"
     ]
    },
    {
     "name": "stdout",
     "output_type": "stream",
     "text": [
      "WARNING:tensorflow:`tf.nn.rnn_cell.MultiRNNCell` is deprecated. This class is equivalent as `tf.keras.layers.StackedRNNCells`, and will be replaced by that in Tensorflow 2.0.\n"
     ]
    },
    {
     "name": "stderr",
     "output_type": "stream",
     "text": [
      "WARNING:tensorflow:`tf.nn.rnn_cell.MultiRNNCell` is deprecated. This class is equivalent as `tf.keras.layers.StackedRNNCells`, and will be replaced by that in Tensorflow 2.0.\n"
     ]
    },
    {
     "name": "stdout",
     "output_type": "stream",
     "text": [
      "WARNING:tensorflow:`tf.nn.rnn_cell.MultiRNNCell` is deprecated. This class is equivalent as `tf.keras.layers.StackedRNNCells`, and will be replaced by that in Tensorflow 2.0.\n"
     ]
    },
    {
     "name": "stderr",
     "output_type": "stream",
     "text": [
      "WARNING:tensorflow:`tf.nn.rnn_cell.MultiRNNCell` is deprecated. This class is equivalent as `tf.keras.layers.StackedRNNCells`, and will be replaced by that in Tensorflow 2.0.\n"
     ]
    },
    {
     "name": "stdout",
     "output_type": "stream",
     "text": [
      "INFO:tensorflow:\n",
      "Decoder Cells:\n",
      "  units: [2048, 2048, 2048]\n",
      "\n"
     ]
    },
    {
     "name": "stderr",
     "output_type": "stream",
     "text": [
      "INFO:tensorflow:\n",
      "Decoder Cells:\n",
      "  units: [2048, 2048, 2048]\n",
      "\n"
     ]
    },
    {
     "name": "stdout",
     "output_type": "stream",
     "text": [
      "WARNING:tensorflow:Setting non-training sampling schedule from inverse_sigmoid:1000.000000 to constant:1.0.\n"
     ]
    },
    {
     "name": "stderr",
     "output_type": "stream",
     "text": [
      "WARNING:tensorflow:Setting non-training sampling schedule from inverse_sigmoid:1000.000000 to constant:1.0.\n"
     ]
    },
    {
     "name": "stdout",
     "output_type": "stream",
     "text": [
      "WARNING:tensorflow:`tf.nn.rnn_cell.MultiRNNCell` is deprecated. This class is equivalent as `tf.keras.layers.StackedRNNCells`, and will be replaced by that in Tensorflow 2.0.\n"
     ]
    },
    {
     "name": "stderr",
     "output_type": "stream",
     "text": [
      "WARNING:tensorflow:`tf.nn.rnn_cell.MultiRNNCell` is deprecated. This class is equivalent as `tf.keras.layers.StackedRNNCells`, and will be replaced by that in Tensorflow 2.0.\n"
     ]
    },
    {
     "name": "stdout",
     "output_type": "stream",
     "text": [
      "INFO:tensorflow:Restoring parameters from plagdet/models/music_vae/2_bar_melody/cat-mel_2bar_big.ckpt\n"
     ]
    },
    {
     "name": "stderr",
     "output_type": "stream",
     "text": [
      "INFO:tensorflow:Restoring parameters from plagdet/models/music_vae/2_bar_melody/cat-mel_2bar_big.ckpt\n"
     ]
    },
    {
     "data": {
      "text/html": [
       "<iframe srcdoc=\"&lt;script src=&quot;https://cdn.jsdelivr.net/combine/npm/tone@14.7.58,npm/@magenta/music@1.23.1/es6/core.js,npm/focus-visible@5,npm/html-midi-player@1.5.0&quot;&gt;&lt;/script&gt;\n",
       "&lt;style&gt;\n",
       "/* Custom player style */\n",
       "#section545 midi-player {\n",
       "  display: block;\n",
       "  width: inherit;\n",
       "  margin: 4px;\n",
       "  margin-bottom: 0;\n",
       "  font-family: Arial;\n",
       "}\n",
       "p { margin:0 }\n",
       "\n",
       "#section545 midi-player::part(control-panel) {\n",
       "  background: #ff5;\n",
       "  border: 2px solid #000;\n",
       "  border-radius: 10px 10px 0 0;\n",
       "}\n",
       "#section545 midi-player::part(play-button) {\n",
       "  color: #353;\n",
       "  border: 2px solid currentColor;\n",
       "  background-color: #4d4;\n",
       "  border-radius: 20px;\n",
       "  transition: all 0.2s;\n",
       "  content: &#x27;hello&#x27;;\n",
       "}\n",
       "#section545 midi-player::part(play-button):hover {\n",
       "  color: #0a0;\n",
       "  background-color: #5f5;\n",
       "  border-radius: 10px;\n",
       "}\n",
       "#section545 midi-player::part(time) {\n",
       "  font-family: monospace;\n",
       "}\n",
       "\n",
       "/* Custom visualizer style */\n",
       "#section545 midi-visualizer .piano-roll-visualizer {\n",
       "  background: #ffd;\n",
       "  border: 2px solid black;\n",
       "  border-top: none;\n",
       "  border-radius: 0 0 10px 10px;\n",
       "  margin: 4px;\n",
       "  width: inherit;\n",
       "  margin-top: 0;\n",
       "  overflow: auto;\n",
       "}\n",
       "#section545 midi-visualizer svg rect.note {\n",
       "  opacity: 0.6;\n",
       "  stroke-width: 2;\n",
       "}\n",
       "#section545 midi-visualizer svg rect.note[data-instrument=&quot;0&quot;]{\n",
       "  fill: #e22;\n",
       "  stroke: #500;\n",
       "}\n",
       "#section545 midi-visualizer svg rect.note[data-instrument=&quot;2&quot;]{\n",
       "  fill: #2ee;\n",
       "  stroke: #055;\n",
       "}\n",
       "#section545 midi-visualizer svg rect.note[data-is-drum=&quot;true&quot;]{\n",
       "  fill: #888;\n",
       "  stroke: #888;\n",
       "}\n",
       "#section545 midi-visualizer svg rect.note.active {\n",
       "  opacity: 0.9;\n",
       "  stroke: #000;\n",
       "  stroke-width: 3;\n",
       "}\n",
       "&lt;/style&gt;\n",
       "\n",
       "          &lt;section id=&quot;section545&quot;&gt;&lt;p style=&quot;text-align:left;font-family:Arial;&quot;&gt;&amp;nbsp;&lt;span style=&quot;float:right;&quot;&gt;&lt;a href=&quot;data:audio/midi;base64,TVRoZAAAAAYAAQACANxNVHJrAAAAEwD/UQMHoSAA/1gEBAIYCAH/LwBNVHJrAAAAcQDAAACQMVA3MQAAOFA3OAAAO1A3OwAAQFCCEyxQAEAANywAADxQNztQADwANzsAAERQgVxEADcxUDcxAAA2UDc2AAA9UDc9AAA9UIFcPQAAPVA3PQAARFA3QFAARAA3P1AAQAA3PwAAQlA3QgAB/y8A&quot; target=&quot;_blank&quot;&gt;Download MIDI&lt;/a&gt;&lt;br&gt;&lt;/span&gt;&lt;/p&gt;\n",
       "          &lt;midi-player src=data:audio/midi;base64,TVRoZAAAAAYAAQACANxNVHJrAAAAEwD/UQMHoSAA/1gEBAIYCAH/LwBNVHJrAAAAcQDAAACQMVA3MQAAOFA3OAAAO1A3OwAAQFCCEyxQAEAANywAADxQNztQADwANzsAAERQgVxEADcxUDcxAAA2UDc2AAA9UDc9AAA9UIFcPQAAPVA3PQAARFA3QFAARAA3P1AAQAA3PwAAQlA3QgAB/y8A sound-font visualizer=&quot;#section545 midi-visualizer&quot;&gt;&lt;/midi-player&gt;\n",
       "          &lt;midi-visualizer src=data:audio/midi;base64,TVRoZAAAAAYAAQACANxNVHJrAAAAEwD/UQMHoSAA/1gEBAIYCAH/LwBNVHJrAAAAcQDAAACQMVA3MQAAOFA3OAAAO1A3OwAAQFCCEyxQAEAANywAADxQNztQADwANzsAAERQgVxEADcxUDcxAAA2UDc2AAA9UDc9AAA9UIFcPQAAPVA3PQAARFA3QFAARAA3P1AAQAA3PwAAQlA3QgAB/y8A type=piano-roll&gt;&lt;/midi-visualizer&gt;\n",
       "          &lt;/section&gt;\n",
       "          \" width=\"100%\" height=\"400\"\n",
       "            style=\"border:none !important;\"\n",
       "            \"allowfullscreen\" \"webkitallowfullscreen\" \"mozallowfullscreen\">'\n",
       "            </iframe>"
      ],
      "text/plain": [
       "<midi_player.midi_player.MIDIPlayer at 0x18b12777ac0>"
      ]
     },
     "execution_count": 6,
     "metadata": {},
     "output_type": "execute_result"
    }
   ],
   "source": [
    "encoder = Mel2barEncoderCustom()\n",
    "\n",
    "loops = 10\n",
    "vecs = []\n",
    "for i in range(loops):\n",
    "    vecs.append(encoder.encode_midis([dest])['dest.midi']['0'])\n",
    "\n",
    "vec_mean = np.mean(vecs, axis=0)\n",
    "encoder.decode_vector(vec_mean, output_path='recon.midi', temperature=1)\n",
    "\n",
    "MIDIPlayer('recon.midi', height=400, styler=cifka_advanced)\n"
   ]
  },
  {
   "cell_type": "code",
   "execution_count": null,
   "metadata": {},
   "outputs": [
    {
     "name": "stdout",
     "output_type": "stream",
     "text": [
      "(512,)\n",
      "(512,)\n",
      "32.247547\n"
     ]
    }
   ],
   "source": [
    "a, b = encoded_midis['dest.midi']['0'], encoded_midis['modified_dest.midi']['0']\n",
    "\n",
    "print(a.shape)\n",
    "print(b.shape)\n",
    "\n",
    "# Calculate Euclidean distance between a and b\n",
    "print(np.linalg.norm(a - b))\n",
    "\n"
   ]
  },
  {
   "cell_type": "code",
   "execution_count": null,
   "metadata": {},
   "outputs": [
    {
     "data": {
      "text/html": [
       "<iframe srcdoc=\"&lt;script src=&quot;https://cdn.jsdelivr.net/combine/npm/tone@14.7.58,npm/@magenta/music@1.23.1/es6/core.js,npm/focus-visible@5,npm/html-midi-player@1.5.0&quot;&gt;&lt;/script&gt;\n",
       "&lt;style&gt;\n",
       "/* Custom player style */\n",
       "#section384 midi-player {\n",
       "  display: block;\n",
       "  width: inherit;\n",
       "  margin: 4px;\n",
       "  margin-bottom: 0;\n",
       "  font-family: Arial;\n",
       "}\n",
       "p { margin:0 }\n",
       "\n",
       "#section384 midi-player::part(control-panel) {\n",
       "  background: #ff5;\n",
       "  border: 2px solid #000;\n",
       "  border-radius: 10px 10px 0 0;\n",
       "}\n",
       "#section384 midi-player::part(play-button) {\n",
       "  color: #353;\n",
       "  border: 2px solid currentColor;\n",
       "  background-color: #4d4;\n",
       "  border-radius: 20px;\n",
       "  transition: all 0.2s;\n",
       "  content: &#x27;hello&#x27;;\n",
       "}\n",
       "#section384 midi-player::part(play-button):hover {\n",
       "  color: #0a0;\n",
       "  background-color: #5f5;\n",
       "  border-radius: 10px;\n",
       "}\n",
       "#section384 midi-player::part(time) {\n",
       "  font-family: monospace;\n",
       "}\n",
       "\n",
       "/* Custom visualizer style */\n",
       "#section384 midi-visualizer .piano-roll-visualizer {\n",
       "  background: #ffd;\n",
       "  border: 2px solid black;\n",
       "  border-top: none;\n",
       "  border-radius: 0 0 10px 10px;\n",
       "  margin: 4px;\n",
       "  width: inherit;\n",
       "  margin-top: 0;\n",
       "  overflow: auto;\n",
       "}\n",
       "#section384 midi-visualizer svg rect.note {\n",
       "  opacity: 0.6;\n",
       "  stroke-width: 2;\n",
       "}\n",
       "#section384 midi-visualizer svg rect.note[data-instrument=&quot;0&quot;]{\n",
       "  fill: #e22;\n",
       "  stroke: #500;\n",
       "}\n",
       "#section384 midi-visualizer svg rect.note[data-instrument=&quot;2&quot;]{\n",
       "  fill: #2ee;\n",
       "  stroke: #055;\n",
       "}\n",
       "#section384 midi-visualizer svg rect.note[data-is-drum=&quot;true&quot;]{\n",
       "  fill: #888;\n",
       "  stroke: #888;\n",
       "}\n",
       "#section384 midi-visualizer svg rect.note.active {\n",
       "  opacity: 0.9;\n",
       "  stroke: #000;\n",
       "  stroke-width: 3;\n",
       "}\n",
       "&lt;/style&gt;\n",
       "\n",
       "          &lt;section id=&quot;section384&quot;&gt;&lt;p style=&quot;text-align:left;font-family:Arial;&quot;&gt;&amp;nbsp;&lt;span style=&quot;float:right;&quot;&gt;&lt;a href=&quot;data:audio/midi;base64,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&quot; target=&quot;_blank&quot;&gt;Download MIDI&lt;/a&gt;&lt;br&gt;&lt;/span&gt;&lt;/p&gt;\n",
       "          &lt;midi-player src=data:audio/midi;base64,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 sound-font visualizer=&quot;#section384 midi-visualizer&quot;&gt;&lt;/midi-player&gt;\n",
       "          &lt;midi-visualizer src=data:audio/midi;base64,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 type=piano-roll&gt;&lt;/midi-visualizer&gt;\n",
       "          &lt;/section&gt;\n",
       "          \" width=\"100%\" height=\"400\"\n",
       "            style=\"border:none !important;\"\n",
       "            \"allowfullscreen\" \"webkitallowfullscreen\" \"mozallowfullscreen\">'\n",
       "            </iframe>"
      ],
      "text/plain": [
       "<midi_player.midi_player.MIDIPlayer at 0x18b12962bb0>"
      ]
     },
     "execution_count": 8,
     "metadata": {},
     "output_type": "execute_result"
    }
   ],
   "source": [
    "file2 = monophonic_melodies[4]\n",
    "\n",
    "MIDIPlayer(file2, height=400, styler=cifka_advanced)"
   ]
  },
  {
   "cell_type": "code",
   "execution_count": null,
   "metadata": {},
   "outputs": [
    {
     "name": "stdout",
     "output_type": "stream",
     "text": [
      "<meta message set_tempo tempo=500000 time=0>\n",
      "<meta message time_signature numerator=4 denominator=4 clocks_per_click=24 notated_32nd_notes_per_beat=8 time=0>\n",
      "note_on channel=0 note=77 velocity=0 time=0\n",
      "note_on channel=0 note=78 velocity=80 time=0\n",
      "note_on channel=0 note=78 velocity=0 time=330\n",
      "note_on channel=0 note=69 velocity=80 time=330\n",
      "note_on channel=0 note=46 velocity=80 time=55\n",
      "note_on channel=0 note=69 velocity=0 time=0\n",
      "note_on channel=0 note=46 velocity=0 time=275\n",
      "note_on channel=0 note=70 velocity=80 time=275\n",
      "note_on channel=0 note=65 velocity=80 time=55\n",
      "note_on channel=0 note=70 velocity=0 time=0\n",
      "note_on channel=0 note=65 velocity=0 time=220\n",
      "<meta message end_of_track time=0>\n"
     ]
    },
    {
     "data": {
      "text/html": [
       "<iframe srcdoc=\"&lt;script src=&quot;https://cdn.jsdelivr.net/combine/npm/tone@14.7.58,npm/@magenta/music@1.23.1/es6/core.js,npm/focus-visible@5,npm/html-midi-player@1.5.0&quot;&gt;&lt;/script&gt;\n",
       "&lt;style&gt;\n",
       "/* Custom player style */\n",
       "#section378 midi-player {\n",
       "  display: block;\n",
       "  width: inherit;\n",
       "  margin: 4px;\n",
       "  margin-bottom: 0;\n",
       "  font-family: Arial;\n",
       "}\n",
       "p { margin:0 }\n",
       "\n",
       "#section378 midi-player::part(control-panel) {\n",
       "  background: #ff5;\n",
       "  border: 2px solid #000;\n",
       "  border-radius: 10px 10px 0 0;\n",
       "}\n",
       "#section378 midi-player::part(play-button) {\n",
       "  color: #353;\n",
       "  border: 2px solid currentColor;\n",
       "  background-color: #4d4;\n",
       "  border-radius: 20px;\n",
       "  transition: all 0.2s;\n",
       "  content: &#x27;hello&#x27;;\n",
       "}\n",
       "#section378 midi-player::part(play-button):hover {\n",
       "  color: #0a0;\n",
       "  background-color: #5f5;\n",
       "  border-radius: 10px;\n",
       "}\n",
       "#section378 midi-player::part(time) {\n",
       "  font-family: monospace;\n",
       "}\n",
       "\n",
       "/* Custom visualizer style */\n",
       "#section378 midi-visualizer .piano-roll-visualizer {\n",
       "  background: #ffd;\n",
       "  border: 2px solid black;\n",
       "  border-top: none;\n",
       "  border-radius: 0 0 10px 10px;\n",
       "  margin: 4px;\n",
       "  width: inherit;\n",
       "  margin-top: 0;\n",
       "  overflow: auto;\n",
       "}\n",
       "#section378 midi-visualizer svg rect.note {\n",
       "  opacity: 0.6;\n",
       "  stroke-width: 2;\n",
       "}\n",
       "#section378 midi-visualizer svg rect.note[data-instrument=&quot;0&quot;]{\n",
       "  fill: #e22;\n",
       "  stroke: #500;\n",
       "}\n",
       "#section378 midi-visualizer svg rect.note[data-instrument=&quot;2&quot;]{\n",
       "  fill: #2ee;\n",
       "  stroke: #055;\n",
       "}\n",
       "#section378 midi-visualizer svg rect.note[data-is-drum=&quot;true&quot;]{\n",
       "  fill: #888;\n",
       "  stroke: #888;\n",
       "}\n",
       "#section378 midi-visualizer svg rect.note.active {\n",
       "  opacity: 0.9;\n",
       "  stroke: #000;\n",
       "  stroke-width: 3;\n",
       "}\n",
       "&lt;/style&gt;\n",
       "\n",
       "          &lt;section id=&quot;section378&quot;&gt;&lt;p style=&quot;text-align:left;font-family:Arial;&quot;&gt;&amp;nbsp;&lt;span style=&quot;float:right;&quot;&gt;&lt;a href=&quot;data:audio/midi;base64,TVRoZAAAAAYAAQABANxNVHJrAAAAOgD/UQMHoSAA/1gEBAIYCACQTQAATlCCSk4AgkpFUDcuUABFAIITLgCCE0ZQN0FQAEYAgVxBAAD/LwA=&quot; target=&quot;_blank&quot;&gt;Download MIDI&lt;/a&gt;&lt;br&gt;&lt;/span&gt;&lt;/p&gt;\n",
       "          &lt;midi-player src=data:audio/midi;base64,TVRoZAAAAAYAAQABANxNVHJrAAAAOgD/UQMHoSAA/1gEBAIYCACQTQAATlCCSk4AgkpFUDcuUABFAIITLgCCE0ZQN0FQAEYAgVxBAAD/LwA= sound-font visualizer=&quot;#section378 midi-visualizer&quot;&gt;&lt;/midi-player&gt;\n",
       "          &lt;midi-visualizer src=data:audio/midi;base64,TVRoZAAAAAYAAQABANxNVHJrAAAAOgD/UQMHoSAA/1gEBAIYCACQTQAATlCCSk4AgkpFUDcuUABFAIITLgCCE0ZQN0FQAEYAgVxBAAD/LwA= type=piano-roll&gt;&lt;/midi-visualizer&gt;\n",
       "          &lt;/section&gt;\n",
       "          \" width=\"100%\" height=\"400\"\n",
       "            style=\"border:none !important;\"\n",
       "            \"allowfullscreen\" \"webkitallowfullscreen\" \"mozallowfullscreen\">'\n",
       "            </iframe>"
      ],
      "text/plain": [
       "<midi_player.midi_player.MIDIPlayer at 0x18b12941a30>"
      ]
     },
     "execution_count": 9,
     "metadata": {},
     "output_type": "execute_result"
    }
   ],
   "source": [
    "bar_extractor = MidiInserter()\n",
    "\n",
    "dest2 = 'dest2.midi'\n",
    "\n",
    "bar_extractor.extract_bars(file2, dest2, 1, 2)\n",
    "\n",
    "# Print notes in the MIDI file\n",
    "midi = mido.MidiFile(dest2)\n",
    "notes = []\n",
    "current_time = 0\n",
    "\n",
    "for track in midi.tracks:\n",
    "    for msg in track:\n",
    "        print(msg)\n",
    "        current_time += msg.time\n",
    "\n",
    "\n",
    "\n",
    "MIDIPlayer(dest2, height=400, styler=cifka_advanced)"
   ]
  },
  {
   "cell_type": "code",
   "execution_count": null,
   "metadata": {},
   "outputs": [],
   "source": [
    "encoded_midi = encoder.encode_midis([dest2])\n"
   ]
  },
  {
   "cell_type": "code",
   "execution_count": null,
   "metadata": {},
   "outputs": [
    {
     "name": "stdout",
     "output_type": "stream",
     "text": [
      "32.820896\n",
      "0.021056492\n"
     ]
    }
   ],
   "source": [
    "c = encoded_midi['dest2.midi']['0']\n",
    "\n",
    "print(np.linalg.norm(a-c))\n",
    "\n",
    "print(np.dot(a, c) / (np.linalg.norm(a) * np.linalg.norm(c)))"
   ]
  },
  {
   "cell_type": "code",
   "execution_count": null,
   "metadata": {},
   "outputs": [
    {
     "data": {
      "text/plain": [
       "numpy.ndarray"
      ]
     },
     "execution_count": 12,
     "metadata": {},
     "output_type": "execute_result"
    }
   ],
   "source": [
    "type(a)"
   ]
  },
  {
   "cell_type": "code",
   "execution_count": null,
   "metadata": {},
   "outputs": [
    {
     "data": {
      "text/html": [
       "<iframe srcdoc=\"&lt;script src=&quot;https://cdn.jsdelivr.net/combine/npm/tone@14.7.58,npm/@magenta/music@1.23.1/es6/core.js,npm/focus-visible@5,npm/html-midi-player@1.5.0&quot;&gt;&lt;/script&gt;\n",
       "&lt;style&gt;\n",
       "/* Custom player style */\n",
       "#section77 midi-player {\n",
       "  display: block;\n",
       "  width: inherit;\n",
       "  margin: 4px;\n",
       "  margin-bottom: 0;\n",
       "  font-family: Arial;\n",
       "}\n",
       "p { margin:0 }\n",
       "\n",
       "#section77 midi-player::part(control-panel) {\n",
       "  background: #ff5;\n",
       "  border: 2px solid #000;\n",
       "  border-radius: 10px 10px 0 0;\n",
       "}\n",
       "#section77 midi-player::part(play-button) {\n",
       "  color: #353;\n",
       "  border: 2px solid currentColor;\n",
       "  background-color: #4d4;\n",
       "  border-radius: 20px;\n",
       "  transition: all 0.2s;\n",
       "  content: &#x27;hello&#x27;;\n",
       "}\n",
       "#section77 midi-player::part(play-button):hover {\n",
       "  color: #0a0;\n",
       "  background-color: #5f5;\n",
       "  border-radius: 10px;\n",
       "}\n",
       "#section77 midi-player::part(time) {\n",
       "  font-family: monospace;\n",
       "}\n",
       "\n",
       "/* Custom visualizer style */\n",
       "#section77 midi-visualizer .piano-roll-visualizer {\n",
       "  background: #ffd;\n",
       "  border: 2px solid black;\n",
       "  border-top: none;\n",
       "  border-radius: 0 0 10px 10px;\n",
       "  margin: 4px;\n",
       "  width: inherit;\n",
       "  margin-top: 0;\n",
       "  overflow: auto;\n",
       "}\n",
       "#section77 midi-visualizer svg rect.note {\n",
       "  opacity: 0.6;\n",
       "  stroke-width: 2;\n",
       "}\n",
       "#section77 midi-visualizer svg rect.note[data-instrument=&quot;0&quot;]{\n",
       "  fill: #e22;\n",
       "  stroke: #500;\n",
       "}\n",
       "#section77 midi-visualizer svg rect.note[data-instrument=&quot;2&quot;]{\n",
       "  fill: #2ee;\n",
       "  stroke: #055;\n",
       "}\n",
       "#section77 midi-visualizer svg rect.note[data-is-drum=&quot;true&quot;]{\n",
       "  fill: #888;\n",
       "  stroke: #888;\n",
       "}\n",
       "#section77 midi-visualizer svg rect.note.active {\n",
       "  opacity: 0.9;\n",
       "  stroke: #000;\n",
       "  stroke-width: 3;\n",
       "}\n",
       "&lt;/style&gt;\n",
       "\n",
       "          &lt;section id=&quot;section77&quot;&gt;&lt;p style=&quot;text-align:left;font-family:Arial;&quot;&gt;&amp;nbsp;&lt;span style=&quot;float:right;&quot;&gt;&lt;a href=&quot;data:audio/midi;base64,TVRoZAAAAAYAAQACANxNVHJrAAAAEwD/UQMHoSAA/1gEBAIYCAH/LwBNVHJrAAAAcgDAAACQMVBuMQAAOFA3OAAAQFA3P1AAQACCEyxQAD8ANywAADtQNzsAAD1QNz0AAD9QgVw/ADcuUDcuAAAvUDcvAAA6UDc6AAA9UIFcOlAAPQA3OgAAO1A3OwAAPFA3PAAAQlA3PVAAQgCDOD0AAf8vAA==&quot; target=&quot;_blank&quot;&gt;Download MIDI&lt;/a&gt;&lt;br&gt;&lt;/span&gt;&lt;/p&gt;\n",
       "          &lt;midi-player src=data:audio/midi;base64,TVRoZAAAAAYAAQACANxNVHJrAAAAEwD/UQMHoSAA/1gEBAIYCAH/LwBNVHJrAAAAcgDAAACQMVBuMQAAOFA3OAAAQFA3P1AAQACCEyxQAD8ANywAADtQNzsAAD1QNz0AAD9QgVw/ADcuUDcuAAAvUDcvAAA6UDc6AAA9UIFcOlAAPQA3OgAAO1A3OwAAPFA3PAAAQlA3PVAAQgCDOD0AAf8vAA== sound-font visualizer=&quot;#section77 midi-visualizer&quot;&gt;&lt;/midi-player&gt;\n",
       "          &lt;midi-visualizer src=data:audio/midi;base64,TVRoZAAAAAYAAQACANxNVHJrAAAAEwD/UQMHoSAA/1gEBAIYCAH/LwBNVHJrAAAAcgDAAACQMVBuMQAAOFA3OAAAQFA3P1AAQACCEyxQAD8ANywAADtQNzsAAD1QNz0AAD9QgVw/ADcuUDcuAAAvUDcvAAA6UDc6AAA9UIFcOlAAPQA3OgAAO1A3OwAAPFA3PAAAQlA3PVAAQgCDOD0AAf8vAA== type=piano-roll&gt;&lt;/midi-visualizer&gt;\n",
       "          &lt;/section&gt;\n",
       "          \" width=\"100%\" height=\"400\"\n",
       "            style=\"border:none !important;\"\n",
       "            \"allowfullscreen\" \"webkitallowfullscreen\" \"mozallowfullscreen\">'\n",
       "            </iframe>"
      ],
      "text/plain": [
       "<midi_player.midi_player.MIDIPlayer at 0x18b12950250>"
      ]
     },
     "execution_count": 13,
     "metadata": {},
     "output_type": "execute_result"
    }
   ],
   "source": [
    "encoder.decode_vector(b, output_path='recon.midi')\n",
    "\n",
    "MIDIPlayer('recon.midi', height=400, styler=cifka_advanced)\n"
   ]
  },
  {
   "cell_type": "code",
   "execution_count": null,
   "metadata": {},
   "outputs": [
    {
     "ename": "NameError",
     "evalue": "name 'mel_2bar' is not defined",
     "output_type": "error",
     "traceback": [
      "\u001b[1;31m---------------------------------------------------------------------------\u001b[0m",
      "\u001b[1;31mNameError\u001b[0m                                 Traceback (most recent call last)",
      "Cell \u001b[1;32mIn[14], line 1\u001b[0m\n\u001b[1;32m----> 1\u001b[0m recon2 \u001b[38;5;241m=\u001b[39m \u001b[43mmel_2bar\u001b[49m\u001b[38;5;241m.\u001b[39mdecode(b, length\u001b[38;5;241m=\u001b[39m\u001b[38;5;241m50\u001b[39m)[\u001b[38;5;241m0\u001b[39m]\n\u001b[0;32m      3\u001b[0m MIDIPlayer(recon2, height\u001b[38;5;241m=\u001b[39m\u001b[38;5;241m400\u001b[39m, styler\u001b[38;5;241m=\u001b[39mcifka_advanced)\n",
      "\u001b[1;31mNameError\u001b[0m: name 'mel_2bar' is not defined"
     ]
    }
   ],
   "source": [
    "recon2 = mel_2bar.decode(b, length=50)[0]\n",
    "\n",
    "MIDIPlayer(recon2, height=400, styler=cifka_advanced)"
   ]
  },
  {
   "cell_type": "code",
   "execution_count": null,
   "metadata": {},
   "outputs": [],
   "source": [
    "\n",
    "recon3 = mel_2bar.decode(c, length=50)[0]\n",
    "\n",
    "MIDIPlayer(recon3, height=400, styler=cifka_advanced)"
   ]
  }
 ],
 "metadata": {
  "kernelspec": {
   "display_name": "magenta",
   "language": "python",
   "name": "python3"
  },
  "language_info": {
   "codemirror_mode": {
    "name": "ipython",
    "version": 3
   },
   "file_extension": ".py",
   "mimetype": "text/x-python",
   "name": "python",
   "nbconvert_exporter": "python",
   "pygments_lexer": "ipython3",
   "version": "3.8.19"
  }
 },
 "nbformat": 4,
 "nbformat_minor": 2
}
