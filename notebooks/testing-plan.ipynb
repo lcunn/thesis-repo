{
 "cells": [
  {
   "cell_type": "markdown",
   "metadata": {},
   "source": [
    "steps:\n",
    "\n",
    "model specific:\n",
    "1. data formatting\n",
    "    - midi files split by instrument and into two bar segments\n",
    "2. model encoder\n",
    "3. encode the plagiarism data set\n",
    "\n",
    "after this, for each song in the data set, we should have a list of vectors representing the song.\n",
    "then we can move on to the next steps:\n",
    "\n",
    "3. \n",
    "\n"
   ]
  },
  {
   "cell_type": "markdown",
   "metadata": {},
   "source": [
    "at this current point:\n",
    "- change encoder so that it can be called on a midi file/folder \n",
    "- add functionality to the midi_processor so that it splits up a midi file by instrument (store in corresponding folder)\n",
    "- then rework the encoder so that we extract melodies from individual insturments\n",
    "- this should solve the multiple melodies problem\n",
    "- solve the single melody problem by raising exception."
   ]
  },
  {
   "cell_type": "markdown",
   "metadata": {},
   "source": [
    "in the scripts:\n",
    "- add the songs script"
   ]
  },
  {
   "cell_type": "markdown",
   "metadata": {},
   "source": [
    "6/8\n",
    "\n",
    "run the songs script anf fix the table from musicbrainz"
   ]
  },
  {
   "cell_type": "markdown",
   "metadata": {},
   "source": [
    "7/8\n",
    "check over which cases are correct matches\n",
    "for the ones that arent, correct them\n",
    "\n",
    "figure out how to macth the musicbrainz id with MSD, then match that with the MSD proper ID (7digital? use the bs in https://nbviewer.org/github/craffel/midi-dataset/blob/master/Tutorial.ipynb), then use the json file to identify the midi. \n",
    "have also got a text file of all the songs in the msd - could match names with this to get the MSD proper id? and which then lets us use the json file."
   ]
  },
  {
   "cell_type": "markdown",
   "metadata": {},
   "source": [
    "11/8\n",
    "\n",
    "figure out where to get the midis from, try above"
   ]
  },
  {
   "cell_type": "markdown",
   "metadata": {},
   "source": [
    "12/8 \n",
    "\n",
    "fix the file path being added to the table\n",
    "\n",
    "ifx the issue of duplicate midi files being added\n",
    "\n",
    "fix the duplication of songs in the original table"
   ]
  },
  {
   "cell_type": "markdown",
   "metadata": {},
   "source": [
    "13/8\n",
    "\n",
    "move all scripts into helper folder\n",
    "\n",
    "add case_id to the initial retrieval\n",
    "\n",
    "finish the gpt processing at the claims stage of the process, after doing the filtering from process_into_songs\n",
    "\n",
    "potentially add in an initial web search alongside it\n",
    "\n",
    "allow the program to generate multiple song pairs from a case (e.g.) the thrift shop case?\n",
    "\n",
    "    e.g. loop through the rows and create new songs from it, checking table for dupes, adding case involvement\n",
    "\n",
    "then should have better confidence of the names\n",
    "\n",
    "then can do the mb addition and the validation step\n",
    "\n",
    "then fix the retrieval from prev day\n",
    "\n",
    "\n"
   ]
  }
 ],
 "metadata": {
  "language_info": {
   "name": "python"
  }
 },
 "nbformat": 4,
 "nbformat_minor": 2
}
