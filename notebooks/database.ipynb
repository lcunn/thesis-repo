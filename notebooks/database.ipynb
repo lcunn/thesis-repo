{
 "cells": [
  {
   "cell_type": "code",
   "execution_count": 1,
   "metadata": {},
   "outputs": [],
   "source": [
    "import sqlite3\n",
    "import pandas as pd\n",
    "import os\n",
    "import musicbrainzngs\n",
    "\n",
    "os.chdir('../')\n",
    "\n",
    "from src.defaults import *"
   ]
  },
  {
   "cell_type": "code",
   "execution_count": 2,
   "metadata": {},
   "outputs": [],
   "source": [
    "cases_df = pd.read_csv(COPYRIGHT_CLAIMS_CSV)"
   ]
  },
  {
   "cell_type": "markdown",
   "metadata": {},
   "source": [
    "add copyright claims table"
   ]
  },
  {
   "cell_type": "markdown",
   "metadata": {},
   "source": [
    "### Creating song dataset"
   ]
  },
  {
   "cell_type": "markdown",
   "metadata": {},
   "source": [
    "creates song table"
   ]
  },
  {
   "cell_type": "markdown",
   "metadata": {},
   "source": [
    "defines music brainz search function"
   ]
  },
  {
   "cell_type": "code",
   "execution_count": 5,
   "metadata": {},
   "outputs": [],
   "source": [
    "from scripts.database.produce_copyright_songs_table import search_musicbrainz, set_musicbrainz_api"
   ]
  },
  {
   "cell_type": "code",
   "execution_count": 6,
   "metadata": {},
   "outputs": [],
   "source": [
    "# Set up MusicBrainz API\n",
    "set_musicbrainz_api()"
   ]
  },
  {
   "cell_type": "code",
   "execution_count": 7,
   "metadata": {},
   "outputs": [],
   "source": [
    "r = search_musicbrainz(artist='Kanye', title = 'Stronger')"
   ]
  },
  {
   "cell_type": "code",
   "execution_count": 10,
   "metadata": {},
   "outputs": [
    {
     "data": {
      "text/plain": [
       "{'id': '672ec650-5314-4ad0-b006-4861aeb53c88',\n",
       " 'ext:score': '100',\n",
       " 'title': 'Stronger',\n",
       " 'artist-credit': [{'name': 'Kanye West',\n",
       "   'artist': {'id': '164f0d73-1234-4e2c-8743-d77bf2191051',\n",
       "    'name': 'Ye',\n",
       "    'sort-name': 'Ye',\n",
       "    'disambiguation': 'formerly Kanye West',\n",
       "    'alias-list': [{'sort-name': 'Ye',\n",
       "      'type': 'Legal name',\n",
       "      'begin-date': '2021-10-18',\n",
       "      'alias': 'Ye'},\n",
       "     {'sort-name': 'Kanye', 'type': 'Artist name', 'alias': 'Kanye'},\n",
       "     {'sort-name': 'K. West', 'type': 'Search hint', 'alias': 'K. West'},\n",
       "     {'locale': 'ja',\n",
       "      'sort-name': 'カニエ・ウェスト',\n",
       "      'type': 'Artist name',\n",
       "      'primary': 'primary',\n",
       "      'alias': 'カニエ・ウェスト'},\n",
       "     {'sort-name': 'Kayne West', 'type': 'Search hint', 'alias': 'Kayne West'},\n",
       "     {'sort-name': 'Yeezy', 'type': 'Artist name', 'alias': 'Yeezy'},\n",
       "     {'locale': 'en',\n",
       "      'sort-name': 'West, Kanye Omari',\n",
       "      'type': 'Legal name',\n",
       "      'begin-date': '1977-06-08',\n",
       "      'end-date': '2021-10-18',\n",
       "      'alias': 'Kanye Omari West'},\n",
       "     {'sort-name': 'West, Kanye',\n",
       "      'type': 'Artist name',\n",
       "      'end-date': '2024',\n",
       "      'alias': 'Kanye West'}]}}],\n",
       " 'release-list': [{'id': 'b12eb5bb-1d93-4905-924d-38f5245043ea',\n",
       "   'title': 'Never Back Down',\n",
       "   'artist-credit': [{'name': 'Various Artists',\n",
       "     'artist': {'id': '89ad4ac3-39f7-470e-963a-56509c546377',\n",
       "      'name': 'Various Artists',\n",
       "      'sort-name': 'Various Artists',\n",
       "      'disambiguation': 'add compilations to this artist'}}],\n",
       "   'release-group': {'id': 'f387504d-f152-4683-88dd-78bb90fa2161',\n",
       "    'type': 'Other',\n",
       "    'title': 'Never Back Down',\n",
       "    'primary-type': 'Other',\n",
       "    'secondary-type-list': ['Soundtrack']},\n",
       "   'date': '2008',\n",
       "   'country': 'XW',\n",
       "   'release-event-list': [{'date': '2008',\n",
       "     'area': {'id': '525d4e18-3d00-31b9-a58b-a146a916de8f',\n",
       "      'name': '[Worldwide]',\n",
       "      'sort-name': '[Worldwide]',\n",
       "      'iso-3166-1-code-list': ['XW']}}],\n",
       "   'medium-list': [{'position': '1',\n",
       "     'format': 'CD',\n",
       "     'track-list': [{'id': '00b157a4-d5f6-490d-873b-973ce46b0d7d',\n",
       "       'number': '14',\n",
       "       'title': 'Stronger'}],\n",
       "     'track-count': 18}],\n",
       "   'medium-track-count': 18,\n",
       "   'medium-count': 1,\n",
       "   'artist-credit-phrase': 'Various Artists'}],\n",
       " 'artist-credit-phrase': 'Kanye West'}"
      ]
     },
     "execution_count": 10,
     "metadata": {},
     "output_type": "execute_result"
    }
   ],
   "source": [
    "r"
   ]
  },
  {
   "cell_type": "markdown",
   "metadata": {},
   "source": [
    "adds songs from the cases to the table\n",
    "to improve:\n",
    "- add whether the case was won or not (maybe do with the first table) - replace None in case_status"
   ]
  },
  {
   "cell_type": "code",
   "execution_count": null,
   "metadata": {},
   "outputs": [],
   "source": []
  }
 ],
 "metadata": {
  "kernelspec": {
   "display_name": "magenta",
   "language": "python",
   "name": "python3"
  },
  "language_info": {
   "codemirror_mode": {
    "name": "ipython",
    "version": 3
   },
   "file_extension": ".py",
   "mimetype": "text/x-python",
   "name": "python",
   "nbconvert_exporter": "python",
   "pygments_lexer": "ipython3",
   "version": "3.8.19"
  }
 },
 "nbformat": 4,
 "nbformat_minor": 2
}
